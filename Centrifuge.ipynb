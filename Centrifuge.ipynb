{
  "nbformat": 4,
  "nbformat_minor": 0,
  "metadata": {
    "colab": {
      "name": "Centrifuge",
      "provenance": [],
      "mount_file_id": "144Q7eBa2bWE3tSdxApj-TF17Qri_NQVO",
      "authorship_tag": "ABX9TyMWGK6lxPlyW6vMWUpE+DET"
    },
    "kernelspec": {
      "name": "python3",
      "display_name": "Python 3"
    },
    "language_info": {
      "name": "python"
    }
  },
  "cells": [
    {
      "cell_type": "markdown",
      "metadata": {
        "id": "KGGadUokPqhO"
      },
      "source": [
        "#Instalar"
      ]
    },
    {
      "cell_type": "markdown",
      "metadata": {
        "id": "buOBI8qqQaAO"
      },
      "source": [
        "Clonamos el repo"
      ]
    },
    {
      "cell_type": "code",
      "metadata": {
        "colab": {
          "base_uri": "https://localhost:8080/"
        },
        "id": "aoaDLAxQ-vyo",
        "outputId": "94dc8751-3845-402e-fc78-0f2211232c9d"
      },
      "source": [
        "!git clone https://github.com/infphilo/centrifuge"
      ],
      "execution_count": 1,
      "outputs": [
        {
          "output_type": "stream",
          "name": "stdout",
          "text": [
            "fatal: destination path 'centrifuge' already exists and is not an empty directory.\n"
          ]
        }
      ]
    },
    {
      "cell_type": "markdown",
      "metadata": {
        "id": "g4CfC8MNQkR4"
      },
      "source": [
        "Cambiamos nuestro directorio al repo\n"
      ]
    },
    {
      "cell_type": "code",
      "metadata": {
        "colab": {
          "base_uri": "https://localhost:8080/"
        },
        "id": "nZdr4BtUP8xT",
        "outputId": "40f68a0d-0c85-4c5d-8018-c3ebf2c446c2"
      },
      "source": [
        "%cd centrifuge"
      ],
      "execution_count": 2,
      "outputs": [
        {
          "output_type": "stream",
          "name": "stdout",
          "text": [
            "/content/centrifuge\n"
          ]
        }
      ]
    },
    {
      "cell_type": "markdown",
      "metadata": {
        "id": "B3XbUqfxQons"
      },
      "source": [
        "Construimos el paquete"
      ]
    },
    {
      "cell_type": "code",
      "metadata": {
        "colab": {
          "base_uri": "https://localhost:8080/"
        },
        "id": "Bxmk6JOOP_A9",
        "outputId": "ab67c9d7-79d2-42c9-a80c-3e4d7744b497"
      },
      "source": [
        "!make\n",
        "!sudo make install prefix=/usr/local"
      ],
      "execution_count": 3,
      "outputs": [
        {
          "output_type": "stream",
          "name": "stdout",
          "text": [
            "make: Nothing to be done for 'all'.\n",
            "mkdir -p /usr/local/bin\n",
            "mkdir -p /usr/local/share/centrifuge/indices\n",
            "install -m 0644 indices/Makefile /usr/local/share/centrifuge/indices\n",
            "install -d -m 0755 /usr/local/share/centrifuge/doc\n",
            "install -m 0644 doc/* /usr/local/share/centrifuge/doc\n",
            "for file in centrifuge-build-bin centrifuge-class centrifuge-inspect-bin centrifuge centrifuge-build centrifuge-inspect centrifuge-download centrifuge-kreport centrifuge-RemoveEmptySequence.pl centrifuge-compress.pl centrifuge-RemoveN.pl centrifuge-sort-nt.pl centrifuge-BuildSharedSequence.pl; do \\\n",
            "\tinstall -m 0755 $file /usr/local/bin ; \\\n",
            "done\n"
          ]
        }
      ]
    },
    {
      "cell_type": "code",
      "metadata": {
        "id": "ks-VZgB4A5v9"
      },
      "source": [
        "%cd .."
      ],
      "execution_count": null,
      "outputs": []
    },
    {
      "cell_type": "markdown",
      "metadata": {
        "id": "HWg2jsABTpt8"
      },
      "source": [
        "#Correr centrifuge"
      ]
    },
    {
      "cell_type": "code",
      "metadata": {
        "colab": {
          "base_uri": "https://localhost:8080/"
        },
        "id": "jR6kFM3VUIOv",
        "outputId": "9c9cd268-45c4-4c3a-ae02-7d782781975a"
      },
      "source": [
        "!cat example/reads/input.fa"
      ],
      "execution_count": 8,
      "outputs": [
        {
          "output_type": "stream",
          "name": "stdout",
          "text": [
            ">C_1\n",
            "GATCCTCCCCAGGCCCCTACACCCAATGTGGAACCGGGGTCCCGAATGAAAATGCTGCTGTTCCCTGGAGGTGTTTTCCT\n",
            ">C_2\n",
            "GATCCTCCCCAGGCCCCTACACCCAATGTGGAACCGGGGTCCCGAATGAAAATGCTGCTGTTCCCTGGAGGTGTTTTCCT\n",
            ">C_3\n",
            "GATCCTCCCCAGGCCCCTACACCCAATGTGGAACCGGGGTCCCGAATGAAAATGCTGCTGTTCCCTGGAGGTGTTTTCCT\n",
            ">C_4\n",
            "GATCCTCCCCAGGCCCCTACACCCAATGTGGAACCGGGGTCCCGAATGAAAATGCTGCTGTTCCCTGGAGGTGTTTTCCT\n",
            ">1_1\n",
            "GGACGCTCTGCTTTGTTACCAATGAGAAGGGCGCTGAATCCTCGAAAATCCTGACCCTTTTAATTCATGCTCCCTTACTC\n",
            ">1_2\n",
            "ACGAGAGATGATGATCGTTGATATTTCCCTGGACTGTGTGGGGTCTCAGAGACCACTATGGGGCACTCTCGTCAGGCTTC\n",
            ">2_1\n",
            "TGGCCGGGCAGATGCAAAGCCTGGTGATGCAGAGTCGGGCAAAGGCGCAGCCTTCGTGTCCAAGCAGGAGGGCAGCGAGG\n",
            ">2_2\n",
            "TGGCCGGGCAGATGCAAAGCCTGGTGATGCAGAGTCGGGCAAAGGCGCAGCCTTCGTGTCCAAGCAGGAGGGCAGCGAGG\n",
            ">2_3\n",
            "TGGCCGGGCAGATGCAAAGCCTGGTGATGCAGAGTCGGGCAAAGGCGCAGCCTTCGTGTCCAAGCAGGAGGGCAGCGAGG\n",
            ">2_4\n",
            "TGGCCGGGCAGATGCAAAGCCTGGTGATGCAGAGTCGGGCAAAGGCGCAGCCTTCGTGTCCAAGCAGGAGGGCAGCGAGG\n",
            ">2_5\n",
            "TGGCCGGGCAGATGCAAAGCCTGGTGATGCAGAGTCGGGCAAAGGCGCAGCCTTCGTGTCCAAGCAGGAGGGCAGCGAGG\n",
            ">2_6\n",
            "TGGCCGGGCAGATGCAAAGCCTGGTGATGCAGAGTCGGGCAAAGGCGCAGCCTTCGTGTCCAAGCAGGAGGGCAGCGAGG\n"
          ]
        }
      ]
    },
    {
      "cell_type": "code",
      "metadata": {
        "id": "NsfxEjHHTynq"
      },
      "source": [
        "!centrifuge -x example/index/test -f example/reads/input.fa -p 4"
      ],
      "execution_count": 15,
      "outputs": []
    },
    {
      "cell_type": "code",
      "metadata": {
        "colab": {
          "base_uri": "https://localhost:8080/",
          "height": 112
        },
        "id": "d9V9BFXOVKQP",
        "outputId": "152a971c-3259-45a3-96cf-d9d0d2240f12"
      },
      "source": [
        "import pandas as pd\n",
        "df=pd.read_csv(\"centrifuge_report.tsv\", sep='\\t')\n",
        "df.head()"
      ],
      "execution_count": 14,
      "outputs": [
        {
          "output_type": "execute_result",
          "data": {
            "text/html": [
              "<div>\n",
              "<style scoped>\n",
              "    .dataframe tbody tr th:only-of-type {\n",
              "        vertical-align: middle;\n",
              "    }\n",
              "\n",
              "    .dataframe tbody tr th {\n",
              "        vertical-align: top;\n",
              "    }\n",
              "\n",
              "    .dataframe thead th {\n",
              "        text-align: right;\n",
              "    }\n",
              "</style>\n",
              "<table border=\"1\" class=\"dataframe\">\n",
              "  <thead>\n",
              "    <tr style=\"text-align: right;\">\n",
              "      <th></th>\n",
              "      <th>name</th>\n",
              "      <th>taxID</th>\n",
              "      <th>taxRank</th>\n",
              "      <th>genomeSize</th>\n",
              "      <th>numReads</th>\n",
              "      <th>numUniqueReads</th>\n",
              "      <th>abundance</th>\n",
              "    </tr>\n",
              "  </thead>\n",
              "  <tbody>\n",
              "    <tr>\n",
              "      <th>0</th>\n",
              "      <td>Ailuropoda melanoleuca</td>\n",
              "      <td>9646</td>\n",
              "      <td>species</td>\n",
              "      <td>556</td>\n",
              "      <td>6</td>\n",
              "      <td>2</td>\n",
              "      <td>0.230286</td>\n",
              "    </tr>\n",
              "    <tr>\n",
              "      <th>1</th>\n",
              "      <td>Bos taurus</td>\n",
              "      <td>9913</td>\n",
              "      <td>species</td>\n",
              "      <td>517</td>\n",
              "      <td>10</td>\n",
              "      <td>6</td>\n",
              "      <td>0.769714</td>\n",
              "    </tr>\n",
              "  </tbody>\n",
              "</table>\n",
              "</div>"
            ],
            "text/plain": [
              "                     name  taxID  taxRank  ...  numReads  numUniqueReads  abundance\n",
              "0  Ailuropoda melanoleuca   9646  species  ...         6               2   0.230286\n",
              "1              Bos taurus   9913  species  ...        10               6   0.769714\n",
              "\n",
              "[2 rows x 7 columns]"
            ]
          },
          "metadata": {},
          "execution_count": 14
        }
      ]
    },
    {
      "cell_type": "code",
      "metadata": {
        "colab": {
          "base_uri": "https://localhost:8080/",
          "height": 34
        },
        "id": "NoWKkN9GgtIS",
        "outputId": "b1905bd0-3d3a-4eac-f81d-d69a583a6c57"
      },
      "source": [
        "from google.colab import files\n",
        "files.download(\"centrifuge_report.tsv\")"
      ],
      "execution_count": 17,
      "outputs": [
        {
          "output_type": "display_data",
          "data": {
            "application/javascript": [
              "\n",
              "    async function download(id, filename, size) {\n",
              "      if (!google.colab.kernel.accessAllowed) {\n",
              "        return;\n",
              "      }\n",
              "      const div = document.createElement('div');\n",
              "      const label = document.createElement('label');\n",
              "      label.textContent = `Downloading \"${filename}\": `;\n",
              "      div.appendChild(label);\n",
              "      const progress = document.createElement('progress');\n",
              "      progress.max = size;\n",
              "      div.appendChild(progress);\n",
              "      document.body.appendChild(div);\n",
              "\n",
              "      const buffers = [];\n",
              "      let downloaded = 0;\n",
              "\n",
              "      const channel = await google.colab.kernel.comms.open(id);\n",
              "      // Send a message to notify the kernel that we're ready.\n",
              "      channel.send({})\n",
              "\n",
              "      for await (const message of channel.messages) {\n",
              "        // Send a message to notify the kernel that we're ready.\n",
              "        channel.send({})\n",
              "        if (message.buffers) {\n",
              "          for (const buffer of message.buffers) {\n",
              "            buffers.push(buffer);\n",
              "            downloaded += buffer.byteLength;\n",
              "            progress.value = downloaded;\n",
              "          }\n",
              "        }\n",
              "      }\n",
              "      const blob = new Blob(buffers, {type: 'application/binary'});\n",
              "      const a = document.createElement('a');\n",
              "      a.href = window.URL.createObjectURL(blob);\n",
              "      a.download = filename;\n",
              "      div.appendChild(a);\n",
              "      a.click();\n",
              "      div.remove();\n",
              "    }\n",
              "  "
            ],
            "text/plain": [
              "<IPython.core.display.Javascript object>"
            ]
          },
          "metadata": {}
        },
        {
          "output_type": "display_data",
          "data": {
            "application/javascript": [
              "download(\"download_4bac4393-9d4e-4615-a94e-b8cffc0c5afc\", \"centrifuge_report.tsv\", 159)"
            ],
            "text/plain": [
              "<IPython.core.display.Javascript object>"
            ]
          },
          "metadata": {}
        }
      ]
    },
    {
      "cell_type": "markdown",
      "metadata": {
        "id": "mmqtdFt_QAh3"
      },
      "source": [
        "#Descargar informacion necesaria\n"
      ]
    },
    {
      "cell_type": "markdown",
      "metadata": {
        "id": "ZyPaf4V7QWOm"
      },
      "source": [
        "Descarga los nombres de las especies y el arbol taxonomico a una carpeta llamada taxonomy\n"
      ]
    },
    {
      "cell_type": "code",
      "metadata": {
        "id": "IHfFT7lk_cDN",
        "colab": {
          "base_uri": "https://localhost:8080/"
        },
        "outputId": "582c089b-3088-4386-f82a-ab0ea8e209e5"
      },
      "source": [
        "!centrifuge-download -o taxonomy taxonomy"
      ],
      "execution_count": 4,
      "outputs": [
        {
          "output_type": "stream",
          "name": "stdout",
          "text": [
            "Downloading NCBI taxonomy ... \n",
            "Directory taxonomy exists.  Continuing\n",
            "nodes.dmp\n",
            "names.dmp\n"
          ]
        }
      ]
    },
    {
      "cell_type": "markdown",
      "metadata": {
        "id": "KdKhPLn_RABJ"
      },
      "source": [
        "Descargar la base de datos ya indexada de **archaea**"
      ]
    },
    {
      "cell_type": "code",
      "metadata": {
        "colab": {
          "base_uri": "https://localhost:8080/"
        },
        "id": "mqlQBHcFNGNj",
        "outputId": "7fb8ae2a-13ac-4023-bbd1-0f2054fb6a0e"
      },
      "source": [
        "!centrifuge-download -o library -m -d \"archaea,bacteria,viral\" refseq > seqid2taxid.map"
      ],
      "execution_count": 5,
      "outputs": [
        {
          "output_type": "stream",
          "name": "stdout",
          "text": [
            "Directory library/archaea exists.  Continuing\n",
            "Downloading ftp://ftp.ncbi.nlm.nih.gov/genomes/refseq/archaea/assembly_summary.txt ...\n",
            "Downloading 396 archaea genomes at assembly level Complete Genome ... (will take a while)\n",
            "environment: line 28: dustmasker: command not found\n",
            "Progress : [----------------------------------------] 0% 1/396environment: line 28: dustmasker: command not found\n",
            "Progress : [----------------------------------------] 0% 2/396environment: line 28: dustmasker: command not found\n",
            "Progress : [----------------------------------------] 0% 3/396environment: line 28: dustmasker: command not found\n",
            "Progress : [----------------------------------------] 1% 4/396environment: line 28: dustmasker: command not found\n",
            "Progress : [----------------------------------------] 1% 5/396environment: line 28: dustmasker: command not found\n",
            "Progress : [----------------------------------------] 1% 6/396environment: line 28: dustmasker: command not found\n",
            "Progress : [----------------------------------------] 1% 7/396environment: line 28: dustmasker: command not found\n",
            "Progress : [----------------------------------------] 2% 8/396environment: line 28: dustmasker: command not found\n",
            "Progress : [----------------------------------------] 2% 9/396environment: line 28: dustmasker: command not found\n",
            "Progress : [----------------------------------------] 2% 10/396environment: line 28: dustmasker: command not found\n",
            "Progress : [----------------------------------------] 2% 11/396environment: line 28: dustmasker: command not found\n",
            "Progress : [#---------------------------------------] 3% 12/396environment: line 28: dustmasker: command not found\n",
            "Progress : [#---------------------------------------] 3% 13/396environment: line 28: dustmasker: command not found\n",
            "Progress : [#---------------------------------------] 3% 14/396environment: line 28: dustmasker: command not found\n",
            "Progress : [#---------------------------------------] 3% 15/396environment: line 28: dustmasker: command not found\n",
            "Progress : [#---------------------------------------] 4% 16/396environment: line 28: dustmasker: command not found\n",
            "Progress : [#---------------------------------------] 4% 17/396environment: line 28: dustmasker: command not found\n",
            "Progress : [#---------------------------------------] 4% 18/396environment: line 28: dustmasker: command not found\n",
            "Progress : [#---------------------------------------] 4% 19/396environment: line 28: dustmasker: command not found\n",
            "Progress : [##--------------------------------------] 5% 20/396environment: line 28: dustmasker: command not found\n",
            "Progress : [##--------------------------------------] 5% 21/396environment: line 28: dustmasker: command not found\n",
            "Progress : [##--------------------------------------] 5% 22/396environment: line 28: dustmasker: command not found\n",
            "Progress : [##--------------------------------------] 5% 23/396environment: line 28: dustmasker: command not found\n",
            "Progress : [##--------------------------------------] 6% 24/396environment: line 28: dustmasker: command not found\n",
            "Progress : [##--------------------------------------] 6% 25/396environment: line 28: dustmasker: command not found\n",
            "Progress : [##--------------------------------------] 6% 26/396environment: line 28: dustmasker: command not found\n",
            "Progress : [##--------------------------------------] 6% 27/396environment: line 28: dustmasker: command not found\n",
            "Progress : [##--------------------------------------] 7% 28/396environment: line 28: dustmasker: command not found\n",
            "Progress : [##--------------------------------------] 7% 29/396environment: line 28: dustmasker: command not found\n",
            "Progress : [##--------------------------------------] 7% 30/396environment: line 28: dustmasker: command not found\n",
            "Progress : [##--------------------------------------] 7% 31/396environment: line 28: dustmasker: command not found\n",
            "Progress : [###-------------------------------------] 8% 32/396environment: line 28: dustmasker: command not found\n",
            "Progress : [###-------------------------------------] 8% 33/396environment: line 28: dustmasker: command not found\n",
            "Progress : [###-------------------------------------] 8% 34/396environment: line 28: dustmasker: command not found\n",
            "Progress : [###-------------------------------------] 8% 35/396environment: line 28: dustmasker: command not found\n",
            "Progress : [###-------------------------------------] 9% 36/396environment: line 28: dustmasker: command not found\n",
            "Progress : [###-------------------------------------] 9% 37/396environment: line 28: dustmasker: command not found\n",
            "Progress : [###-------------------------------------] 9% 38/396environment: line 28: dustmasker: command not found\n",
            "Progress : [###-------------------------------------] 9% 39/396environment: line 28: dustmasker: command not found\n",
            "Progress : [####------------------------------------] 10% 40/396environment: line 28: dustmasker: command not found\n",
            "Progress : [####------------------------------------] 10% 41/396environment: line 28: dustmasker: command not found\n",
            "Progress : [####------------------------------------] 10% 42/396environment: line 28: dustmasker: command not found\n",
            "Progress : [####------------------------------------] 10% 43/396environment: line 28: dustmasker: command not found\n",
            "Progress : [####------------------------------------] 11% 44/396environment: line 28: dustmasker: command not found\n",
            "Progress : [####------------------------------------] 11% 45/396environment: line 28: dustmasker: command not found\n",
            "Progress : [####------------------------------------] 11% 46/396environment: line 28: dustmasker: command not found\n",
            "Progress : [####------------------------------------] 11% 47/396environment: line 28: dustmasker: command not found\n",
            "Progress : [####------------------------------------] 12% 48/396environment: line 28: dustmasker: command not found\n",
            "Progress : [####------------------------------------] 12% 49/396environment: line 28: dustmasker: command not found\n",
            "Progress : [####------------------------------------] 12% 50/396environment: line 28: dustmasker: command not found\n",
            "Progress : [####------------------------------------] 12% 51/396environment: line 28: dustmasker: command not found\n",
            "Progress : [#####-----------------------------------] 13% 52/396environment: line 28: dustmasker: command not found\n",
            "Progress : [#####-----------------------------------] 13% 53/396environment: line 28: dustmasker: command not found\n",
            "Progress : [#####-----------------------------------] 13% 54/396environment: line 28: dustmasker: command not found\n",
            "Progress : [#####-----------------------------------] 13% 55/396environment: line 28: dustmasker: command not found\n",
            "Progress : [#####-----------------------------------] 14% 56/396environment: line 28: dustmasker: command not found\n",
            "Progress : [#####-----------------------------------] 14% 57/396environment: line 28: dustmasker: command not found\n",
            "Progress : [#####-----------------------------------] 14% 58/396environment: line 28: dustmasker: command not found\n",
            "Progress : [#####-----------------------------------] 14% 59/396environment: line 28: dustmasker: command not found\n",
            "Progress : [######----------------------------------] 15% 60/396environment: line 28: dustmasker: command not found\n",
            "Progress : [######----------------------------------] 15% 61/396environment: line 28: dustmasker: command not found\n",
            "Progress : [######----------------------------------] 15% 62/396environment: line 28: dustmasker: command not found\n",
            "Progress : [######----------------------------------] 15% 63/396environment: line 28: dustmasker: command not found\n",
            "Progress : [######----------------------------------] 16% 64/396environment: line 28: dustmasker: command not found\n",
            "Progress : [######----------------------------------] 16% 65/396environment: line 28: dustmasker: command not found\n",
            "Progress : [######----------------------------------] 16% 66/396environment: line 28: dustmasker: command not found\n",
            "Progress : [######----------------------------------] 16% 67/396environment: line 28: dustmasker: command not found\n",
            "Progress : [######----------------------------------] 17% 68/396environment: line 28: dustmasker: command not found\n",
            "Progress : [######----------------------------------] 17% 69/396environment: line 28: dustmasker: command not found\n",
            "Progress : [######----------------------------------] 17% 70/396environment: line 28: dustmasker: command not found\n",
            "Progress : [######----------------------------------] 17% 71/396environment: line 28: dustmasker: command not found\n",
            "Progress : [#######---------------------------------] 18% 72/396environment: line 28: dustmasker: command not found\n",
            "Progress : [#######---------------------------------] 18% 73/396environment: line 28: dustmasker: command not found\n",
            "Progress : [#######---------------------------------] 18% 74/396environment: line 28: dustmasker: command not found\n",
            "Progress : [#######---------------------------------] 18% 75/396environment: line 28: dustmasker: command not found\n",
            "Progress : [#######---------------------------------] 19% 76/396environment: line 28: dustmasker: command not found\n",
            "Progress : [#######---------------------------------] 19% 77/396environment: line 28: dustmasker: command not found\n",
            "Progress : [#######---------------------------------] 19% 78/396environment: line 28: dustmasker: command not found\n",
            "Progress : [#######---------------------------------] 19% 79/396environment: line 28: dustmasker: command not found\n",
            "Progress : [########--------------------------------] 20% 80/396environment: line 28: dustmasker: command not found\n",
            "Progress : [########--------------------------------] 20% 81/396environment: line 28: dustmasker: command not found\n",
            "Progress : [########--------------------------------] 20% 82/396environment: line 28: dustmasker: command not found\n",
            "Progress : [########--------------------------------] 20% 83/396environment: line 28: dustmasker: command not found\n",
            "Progress : [########--------------------------------] 21% 84/396environment: line 28: dustmasker: command not found\n",
            "Progress : [########--------------------------------] 21% 85/396environment: line 28: dustmasker: command not found\n",
            "Progress : [########--------------------------------] 21% 86/396environment: line 28: dustmasker: command not found\n",
            "Progress : [########--------------------------------] 21% 87/396environment: line 28: dustmasker: command not found\n",
            "Progress : [########--------------------------------] 22% 88/396environment: line 28: dustmasker: command not found\n",
            "Progress : [########--------------------------------] 22% 89/396environment: line 28: dustmasker: command not found\n",
            "Progress : [########--------------------------------] 22% 90/396environment: line 28: dustmasker: command not found\n",
            "Progress : [########--------------------------------] 22% 91/396environment: line 28: dustmasker: command not found\n",
            "Progress : [#########-------------------------------] 23% 92/396environment: line 28: dustmasker: command not found\n",
            "Progress : [#########-------------------------------] 23% 93/396environment: line 28: dustmasker: command not found\n",
            "Progress : [#########-------------------------------] 23% 94/396environment: line 28: dustmasker: command not found\n",
            "Progress : [#########-------------------------------] 23% 95/396environment: line 28: dustmasker: command not found\n",
            "Progress : [#########-------------------------------] 24% 96/396environment: line 28: dustmasker: command not found\n",
            "Progress : [#########-------------------------------] 24% 97/396environment: line 28: dustmasker: command not found\n",
            "Progress : [#########-------------------------------] 24% 98/396environment: line 28: dustmasker: command not found\n",
            "Progress : [##########------------------------------] 25% 99/396environment: line 28: dustmasker: command not found\n",
            "Progress : [##########------------------------------] 25% 100/396environment: line 28: dustmasker: command not found\n",
            "Progress : [##########------------------------------] 25% 101/396environment: line 28: dustmasker: command not found\n",
            "Progress : [##########------------------------------] 25% 102/396environment: line 28: dustmasker: command not found\n",
            "Progress : [##########------------------------------] 26% 103/396environment: line 28: dustmasker: command not found\n",
            "Progress : [##########------------------------------] 26% 104/396environment: line 28: dustmasker: command not found\n",
            "Progress : [##########------------------------------] 26% 105/396environment: line 28: dustmasker: command not found\n",
            "Progress : [##########------------------------------] 26% 106/396environment: line 28: dustmasker: command not found\n",
            "Progress : [##########------------------------------] 27% 107/396environment: line 28: dustmasker: command not found\n",
            "Progress : [##########------------------------------] 27% 108/396environment: line 28: dustmasker: command not found\n",
            "Progress : [##########------------------------------] 27% 109/396environment: line 28: dustmasker: command not found\n",
            "Progress : [##########------------------------------] 27% 110/396environment: line 28: dustmasker: command not found\n",
            "Progress : [###########-----------------------------] 28% 111/396environment: line 28: dustmasker: command not found\n",
            "Progress : [###########-----------------------------] 28% 112/396environment: line 28: dustmasker: command not found\n",
            "Progress : [###########-----------------------------] 28% 113/396environment: line 28: dustmasker: command not found\n",
            "Progress : [###########-----------------------------] 28% 114/396environment: line 28: dustmasker: command not found\n",
            "Progress : [###########-----------------------------] 29% 115/396environment: line 28: dustmasker: command not found\n",
            "Progress : [###########-----------------------------] 29% 116/396environment: line 28: dustmasker: command not found\n",
            "Progress : [###########-----------------------------] 29% 117/396environment: line 28: dustmasker: command not found\n",
            "Progress : [###########-----------------------------] 29% 118/396environment: line 28: dustmasker: command not found\n",
            "Progress : [############----------------------------] 30% 119/396environment: line 28: dustmasker: command not found\n",
            "Progress : [############----------------------------] 30% 120/396environment: line 28: dustmasker: command not found\n",
            "Progress : [############----------------------------] 30% 121/396environment: line 28: dustmasker: command not found\n",
            "Progress : [############----------------------------] 30% 122/396environment: line 28: dustmasker: command not found\n",
            "Progress : [############----------------------------] 31% 123/396environment: line 28: dustmasker: command not found\n",
            "Progress : [############----------------------------] 31% 124/396environment: line 28: dustmasker: command not found\n",
            "Progress : [############----------------------------] 31% 125/396environment: line 28: dustmasker: command not found\n",
            "Progress : [############----------------------------] 31% 126/396environment: line 28: dustmasker: command not found\n",
            "Progress : [############----------------------------] 32% 127/396environment: line 28: dustmasker: command not found\n",
            "Progress : [############----------------------------] 32% 128/396environment: line 28: dustmasker: command not found\n",
            "Progress : [############----------------------------] 32% 129/396environment: line 28: dustmasker: command not found\n",
            "Progress : [############----------------------------] 32% 130/396environment: line 28: dustmasker: command not found\n",
            "Progress : [#############---------------------------] 33% 131/396environment: line 28: dustmasker: command not found\n",
            "Progress : [#############---------------------------] 33% 132/396environment: line 28: dustmasker: command not found\n",
            "Progress : [#############---------------------------] 33% 133/396environment: line 28: dustmasker: command not found\n",
            "Progress : [#############---------------------------] 33% 134/396environment: line 28: dustmasker: command not found\n",
            "Progress : [#############---------------------------] 34% 135/396environment: line 28: dustmasker: command not found\n",
            "Progress : [#############---------------------------] 34% 136/396environment: line 28: dustmasker: command not found\n",
            "Progress : [#############---------------------------] 34% 137/396environment: line 28: dustmasker: command not found\n",
            "Progress : [#############---------------------------] 34% 138/396environment: line 28: dustmasker: command not found\n",
            "Progress : [##############--------------------------] 35% 139/396environment: line 28: dustmasker: command not found\n",
            "Progress : [##############--------------------------] 35% 140/396environment: line 28: dustmasker: command not found\n",
            "Progress : [##############--------------------------] 35% 141/396environment: line 28: dustmasker: command not found\n",
            "Progress : [##############--------------------------] 35% 142/396environment: line 28: dustmasker: command not found\n",
            "Progress : [##############--------------------------] 36% 143/396environment: line 28: dustmasker: command not found\n",
            "Progress : [##############--------------------------] 36% 144/396environment: line 28: dustmasker: command not found\n",
            "Progress : [##############--------------------------] 36% 145/396environment: line 28: dustmasker: command not found\n",
            "Progress : [##############--------------------------] 36% 146/396environment: line 28: dustmasker: command not found\n",
            "Progress : [##############--------------------------] 37% 147/396environment: line 28: dustmasker: command not found\n",
            "Progress : [##############--------------------------] 37% 148/396environment: line 28: dustmasker: command not found\n",
            "Progress : [##############--------------------------] 37% 149/396environment: line 28: dustmasker: command not found\n",
            "Progress : [##############--------------------------] 37% 150/396environment: line 28: dustmasker: command not found\n",
            "Progress : [###############-------------------------] 38% 151/396environment: line 28: dustmasker: command not found\n",
            "Progress : [###############-------------------------] 38% 152/396environment: line 28: dustmasker: command not found\n",
            "Progress : [###############-------------------------] 38% 153/396environment: line 28: dustmasker: command not found\n",
            "Progress : [###############-------------------------] 38% 154/396environment: line 28: dustmasker: command not found\n",
            "Progress : [###############-------------------------] 39% 155/396environment: line 28: dustmasker: command not found\n",
            "Progress : [###############-------------------------] 39% 156/396environment: line 28: dustmasker: command not found\n",
            "Progress : [###############-------------------------] 39% 157/396environment: line 28: dustmasker: command not found\n",
            "Progress : [###############-------------------------] 39% 158/396environment: line 28: dustmasker: command not found\n",
            "Progress : [################------------------------] 40% 159/396environment: line 28: dustmasker: command not found\n",
            "Progress : [################------------------------] 40% 160/396environment: line 28: dustmasker: command not found\n",
            "Progress : [################------------------------] 40% 161/396environment: line 28: dustmasker: command not found\n",
            "Progress : [################------------------------] 40% 162/396environment: line 28: dustmasker: command not found\n",
            "Progress : [################------------------------] 41% 163/396environment: line 28: dustmasker: command not found\n",
            "Progress : [################------------------------] 41% 164/396environment: line 28: dustmasker: command not found\n",
            "Progress : [################------------------------] 41% 165/396environment: line 28: dustmasker: command not found\n",
            "Progress : [################------------------------] 41% 166/396environment: line 28: dustmasker: command not found\n",
            "Progress : [################------------------------] 42% 167/396environment: line 28: dustmasker: command not found\n",
            "Progress : [################------------------------] 42% 168/396environment: line 28: dustmasker: command not found\n",
            "Progress : [################------------------------] 42% 169/396environment: line 28: dustmasker: command not found\n",
            "Progress : [################------------------------] 42% 170/396environment: line 28: dustmasker: command not found\n",
            "Progress : [#################-----------------------] 43% 171/396environment: line 28: dustmasker: command not found\n",
            "Progress : [#################-----------------------] 43% 172/396environment: line 28: dustmasker: command not found\n",
            "Progress : [#################-----------------------] 43% 173/396environment: line 28: dustmasker: command not found\n",
            "Progress : [#################-----------------------] 43% 174/396environment: line 28: dustmasker: command not found\n",
            "Progress : [#################-----------------------] 44% 175/396environment: line 28: dustmasker: command not found\n",
            "Progress : [#################-----------------------] 44% 176/396environment: line 28: dustmasker: command not found\n",
            "Progress : [#################-----------------------] 44% 177/396environment: line 28: dustmasker: command not found\n",
            "Progress : [#################-----------------------] 44% 178/396environment: line 28: dustmasker: command not found\n",
            "Progress : [##################----------------------] 45% 179/396environment: line 28: dustmasker: command not found\n",
            "Progress : [##################----------------------] 45% 180/396environment: line 28: dustmasker: command not found\n",
            "Progress : [##################----------------------] 45% 181/396environment: line 28: dustmasker: command not found\n",
            "Progress : [##################----------------------] 45% 182/396environment: line 28: dustmasker: command not found\n",
            "Progress : [##################----------------------] 46% 183/396environment: line 28: dustmasker: command not found\n",
            "Progress : [##################----------------------] 46% 184/396environment: line 28: dustmasker: command not found\n",
            "Progress : [##################----------------------] 46% 185/396environment: line 28: dustmasker: command not found\n",
            "Progress : [##################----------------------] 46% 186/396environment: line 28: dustmasker: command not found\n",
            "Progress : [##################----------------------] 47% 187/396environment: line 28: dustmasker: command not found\n",
            "Progress : [##################----------------------] 47% 188/396environment: line 28: dustmasker: command not found\n",
            "Progress : [##################----------------------] 47% 189/396environment: line 28: dustmasker: command not found\n",
            "Progress : [##################----------------------] 47% 190/396environment: line 28: dustmasker: command not found\n",
            "Progress : [###################---------------------] 48% 191/396environment: line 28: dustmasker: command not found\n",
            "Progress : [###################---------------------] 48% 192/396environment: line 28: dustmasker: command not found\n",
            "Progress : [###################---------------------] 48% 193/396environment: line 28: dustmasker: command not found\n",
            "Progress : [###################---------------------] 48% 194/396environment: line 28: dustmasker: command not found\n",
            "Progress : [###################---------------------] 49% 195/396environment: line 28: dustmasker: command not found\n",
            "Progress : [###################---------------------] 49% 196/396environment: line 28: dustmasker: command not found\n",
            "Progress : [###################---------------------] 49% 197/396environment: line 28: dustmasker: command not found\n",
            "Progress : [####################--------------------] 50% 198/396environment: line 28: dustmasker: command not found\n",
            "Progress : [####################--------------------] 50% 199/396environment: line 28: dustmasker: command not found\n",
            "Progress : [####################--------------------] 50% 200/396environment: line 28: dustmasker: command not found\n",
            "Progress : [####################--------------------] 50% 201/396environment: line 28: dustmasker: command not found\n",
            "Progress : [####################--------------------] 51% 202/396environment: line 28: dustmasker: command not found\n",
            "Progress : [####################--------------------] 51% 203/396environment: line 28: dustmasker: command not found\n",
            "Progress : [####################--------------------] 51% 204/396environment: line 28: dustmasker: command not found\n",
            "Progress : [####################--------------------] 51% 205/396environment: line 28: dustmasker: command not found\n",
            "Progress : [####################--------------------] 52% 206/396environment: line 28: dustmasker: command not found\n",
            "Progress : [####################--------------------] 52% 207/396environment: line 28: dustmasker: command not found\n",
            "Progress : [####################--------------------] 52% 208/396environment: line 28: dustmasker: command not found\n",
            "Progress : [####################--------------------] 52% 209/396environment: line 28: dustmasker: command not found\n",
            "Progress : [#####################-------------------] 53% 210/396environment: line 28: dustmasker: command not found\n",
            "Progress : [#####################-------------------] 53% 211/396environment: line 28: dustmasker: command not found\n",
            "Progress : [#####################-------------------] 53% 212/396environment: line 28: dustmasker: command not found\n",
            "Progress : [#####################-------------------] 53% 213/396environment: line 28: dustmasker: command not found\n",
            "Progress : [#####################-------------------] 54% 214/396environment: line 28: dustmasker: command not found\n",
            "Progress : [#####################-------------------] 54% 215/396environment: line 28: dustmasker: command not found\n",
            "Progress : [#####################-------------------] 54% 216/396environment: line 28: dustmasker: command not found\n",
            "Progress : [#####################-------------------] 54% 217/396environment: line 28: dustmasker: command not found\n",
            "Progress : [######################------------------] 55% 218/396environment: line 28: dustmasker: command not found\n",
            "Progress : [######################------------------] 55% 219/396environment: line 28: dustmasker: command not found\n",
            "Progress : [######################------------------] 55% 220/396environment: line 28: dustmasker: command not found\n",
            "Progress : [######################------------------] 55% 221/396environment: line 28: dustmasker: command not found\n",
            "Progress : [######################------------------] 56% 222/396environment: line 28: dustmasker: command not found\n",
            "Progress : [######################------------------] 56% 223/396environment: line 28: dustmasker: command not found\n",
            "Progress : [######################------------------] 56% 224/396environment: line 28: dustmasker: command not found\n",
            "Progress : [######################------------------] 56% 225/396environment: line 28: dustmasker: command not found\n",
            "Progress : [######################------------------] 57% 226/396environment: line 28: dustmasker: command not found\n",
            "Progress : [######################------------------] 57% 227/396environment: line 28: dustmasker: command not found\n",
            "Progress : [######################------------------] 57% 228/396environment: line 28: dustmasker: command not found\n",
            "Progress : [######################------------------] 57% 229/396environment: line 28: dustmasker: command not found\n",
            "Progress : [#######################-----------------] 58% 230/396environment: line 28: dustmasker: command not found\n",
            "Progress : [#######################-----------------] 58% 231/396environment: line 28: dustmasker: command not found\n",
            "Progress : [#######################-----------------] 58% 232/396environment: line 28: dustmasker: command not found\n",
            "Progress : [#######################-----------------] 58% 233/396environment: line 28: dustmasker: command not found\n",
            "Progress : [#######################-----------------] 59% 234/396environment: line 28: dustmasker: command not found\n",
            "Progress : [#######################-----------------] 59% 235/396environment: line 28: dustmasker: command not found\n",
            "Progress : [#######################-----------------] 59% 236/396environment: line 28: dustmasker: command not found\n",
            "Progress : [#######################-----------------] 59% 237/396environment: line 28: dustmasker: command not found\n",
            "Progress : [########################----------------] 60% 238/396environment: line 28: dustmasker: command not found\n",
            "Progress : [########################----------------] 60% 239/396environment: line 28: dustmasker: command not found\n",
            "Progress : [########################----------------] 60% 240/396environment: line 28: dustmasker: command not found\n",
            "Progress : [########################----------------] 60% 241/396environment: line 28: dustmasker: command not found\n",
            "Progress : [########################----------------] 61% 242/396environment: line 28: dustmasker: command not found\n",
            "Progress : [########################----------------] 61% 243/396environment: line 28: dustmasker: command not found\n",
            "Progress : [########################----------------] 61% 244/396environment: line 28: dustmasker: command not found\n",
            "Progress : [########################----------------] 61% 245/396environment: line 28: dustmasker: command not found\n",
            "Progress : [########################----------------] 62% 246/396environment: line 28: dustmasker: command not found\n",
            "Progress : [########################----------------] 62% 247/396environment: line 28: dustmasker: command not found\n",
            "Progress : [########################----------------] 62% 248/396environment: line 28: dustmasker: command not found\n",
            "Progress : [########################----------------] 62% 249/396environment: line 28: dustmasker: command not found\n",
            "Progress : [#########################---------------] 63% 250/396environment: line 28: dustmasker: command not found\n",
            "Progress : [#########################---------------] 63% 251/396environment: line 28: dustmasker: command not found\n",
            "Progress : [#########################---------------] 63% 252/396environment: line 28: dustmasker: command not found\n",
            "Progress : [#########################---------------] 63% 253/396environment: line 28: dustmasker: command not found\n",
            "Progress : [#########################---------------] 64% 254/396environment: line 28: dustmasker: command not found\n",
            "Progress : [#########################---------------] 64% 255/396environment: line 28: dustmasker: command not found\n",
            "Progress : [#########################---------------] 64% 256/396environment: line 28: dustmasker: command not found\n",
            "Progress : [#########################---------------] 64% 257/396environment: line 28: dustmasker: command not found\n",
            "Progress : [##########################--------------] 65% 258/396environment: line 28: dustmasker: command not found\n",
            "Progress : [##########################--------------] 65% 259/396environment: line 28: dustmasker: command not found\n",
            "Progress : [##########################--------------] 65% 260/396environment: line 28: dustmasker: command not found\n",
            "Progress : [##########################--------------] 65% 261/396environment: line 28: dustmasker: command not found\n",
            "Progress : [##########################--------------] 66% 262/396environment: line 28: dustmasker: command not found\n",
            "Progress : [##########################--------------] 66% 263/396environment: line 28: dustmasker: command not found\n",
            "Progress : [##########################--------------] 66% 264/396environment: line 28: dustmasker: command not found\n",
            "Progress : [##########################--------------] 66% 265/396environment: line 28: dustmasker: command not found\n",
            "Progress : [##########################--------------] 67% 266/396environment: line 28: dustmasker: command not found\n",
            "Progress : [##########################--------------] 67% 267/396environment: line 28: dustmasker: command not found\n",
            "Progress : [##########################--------------] 67% 268/396environment: line 28: dustmasker: command not found\n",
            "Progress : [##########################--------------] 67% 269/396environment: line 28: dustmasker: command not found\n",
            "Progress : [###########################-------------] 68% 270/396environment: line 28: dustmasker: command not found\n",
            "Progress : [###########################-------------] 68% 271/396environment: line 28: dustmasker: command not found\n",
            "Progress : [###########################-------------] 68% 272/396environment: line 28: dustmasker: command not found\n",
            "Progress : [###########################-------------] 68% 273/396environment: line 28: dustmasker: command not found\n",
            "Progress : [###########################-------------] 69% 274/396environment: line 28: dustmasker: command not found\n",
            "Progress : [###########################-------------] 69% 275/396environment: line 28: dustmasker: command not found\n",
            "Progress : [###########################-------------] 69% 276/396environment: line 28: dustmasker: command not found\n",
            "Progress : [###########################-------------] 69% 277/396environment: line 28: dustmasker: command not found\n",
            "Progress : [############################------------] 70% 278/396environment: line 28: dustmasker: command not found\n",
            "Progress : [############################------------] 70% 279/396environment: line 28: dustmasker: command not found\n",
            "Progress : [############################------------] 70% 280/396environment: line 28: dustmasker: command not found\n",
            "Progress : [############################------------] 70% 281/396environment: line 28: dustmasker: command not found\n",
            "Progress : [############################------------] 71% 282/396environment: line 28: dustmasker: command not found\n",
            "Progress : [############################------------] 71% 283/396environment: line 28: dustmasker: command not found\n",
            "Progress : [############################------------] 71% 284/396environment: line 28: dustmasker: command not found\n",
            "Progress : [############################------------] 71% 285/396environment: line 28: dustmasker: command not found\n",
            "Progress : [############################------------] 72% 286/396environment: line 28: dustmasker: command not found\n",
            "Progress : [############################------------] 72% 287/396environment: line 28: dustmasker: command not found\n",
            "Progress : [############################------------] 72% 288/396environment: line 28: dustmasker: command not found\n",
            "Progress : [############################------------] 72% 289/396environment: line 28: dustmasker: command not found\n",
            "Progress : [#############################-----------] 73% 290/396environment: line 28: dustmasker: command not found\n",
            "Progress : [#############################-----------] 73% 291/396environment: line 28: dustmasker: command not found\n",
            "Progress : [#############################-----------] 73% 292/396environment: line 28: dustmasker: command not found\n",
            "Progress : [#############################-----------] 73% 293/396environment: line 28: dustmasker: command not found\n",
            "Progress : [#############################-----------] 74% 294/396environment: line 28: dustmasker: command not found\n",
            "Progress : [#############################-----------] 74% 295/396environment: line 28: dustmasker: command not found\n",
            "Progress : [#############################-----------] 74% 296/396environment: line 28: dustmasker: command not found\n",
            "Progress : [##############################----------] 75% 297/396environment: line 28: dustmasker: command not found\n",
            "Progress : [##############################----------] 75% 298/396environment: line 28: dustmasker: command not found\n",
            "Progress : [##############################----------] 75% 299/396environment: line 28: dustmasker: command not found\n",
            "Progress : [##############################----------] 75% 300/396environment: line 28: dustmasker: command not found\n",
            "Progress : [##############################----------] 76% 301/396environment: line 28: dustmasker: command not found\n",
            "Progress : [##############################----------] 76% 302/396environment: line 28: dustmasker: command not found\n",
            "Progress : [##############################----------] 76% 303/396environment: line 28: dustmasker: command not found\n",
            "Progress : [##############################----------] 76% 304/396environment: line 28: dustmasker: command not found\n",
            "Progress : [##############################----------] 77% 305/396environment: line 28: dustmasker: command not found\n",
            "Progress : [##############################----------] 77% 306/396environment: line 28: dustmasker: command not found\n",
            "Progress : [##############################----------] 77% 307/396environment: line 28: dustmasker: command not found\n",
            "Progress : [##############################----------] 77% 308/396environment: line 28: dustmasker: command not found\n",
            "Progress : [###############################---------] 78% 309/396environment: line 28: dustmasker: command not found\n",
            "Progress : [###############################---------] 78% 310/396environment: line 28: dustmasker: command not found\n",
            "Progress : [###############################---------] 78% 311/396environment: line 28: dustmasker: command not found\n",
            "Progress : [###############################---------] 78% 312/396environment: line 28: dustmasker: command not found\n",
            "Progress : [###############################---------] 79% 313/396environment: line 28: dustmasker: command not found\n",
            "Progress : [###############################---------] 79% 314/396environment: line 28: dustmasker: command not found\n",
            "Progress : [###############################---------] 79% 315/396environment: line 28: dustmasker: command not found\n",
            "Progress : [###############################---------] 79% 316/396environment: line 28: dustmasker: command not found\n",
            "Progress : [################################--------] 80% 317/396environment: line 28: dustmasker: command not found\n",
            "Progress : [################################--------] 80% 318/396environment: line 28: dustmasker: command not found\n",
            "Progress : [################################--------] 80% 319/396environment: line 28: dustmasker: command not found\n",
            "Progress : [################################--------] 80% 320/396environment: line 28: dustmasker: command not found\n",
            "Progress : [################################--------] 81% 321/396environment: line 28: dustmasker: command not found\n",
            "Progress : [################################--------] 81% 322/396environment: line 28: dustmasker: command not found\n",
            "Progress : [################################--------] 81% 323/396environment: line 28: dustmasker: command not found\n",
            "Progress : [################################--------] 81% 324/396environment: line 28: dustmasker: command not found\n",
            "Progress : [################################--------] 82% 325/396environment: line 28: dustmasker: command not found\n",
            "Progress : [################################--------] 82% 326/396environment: line 28: dustmasker: command not found\n",
            "Progress : [################################--------] 82% 327/396environment: line 28: dustmasker: command not found\n",
            "Progress : [################################--------] 82% 328/396environment: line 28: dustmasker: command not found\n",
            "Progress : [#################################-------] 83% 329/396environment: line 28: dustmasker: command not found\n",
            "Progress : [#################################-------] 83% 330/396environment: line 28: dustmasker: command not found\n",
            "Progress : [#################################-------] 83% 331/396environment: line 28: dustmasker: command not found\n",
            "Progress : [#################################-------] 83% 332/396environment: line 28: dustmasker: command not found\n",
            "Progress : [#################################-------] 84% 333/396environment: line 28: dustmasker: command not found\n",
            "Progress : [#################################-------] 84% 334/396environment: line 28: dustmasker: command not found\n",
            "Progress : [#################################-------] 84% 335/396environment: line 28: dustmasker: command not found\n",
            "Progress : [#################################-------] 84% 336/396environment: line 28: dustmasker: command not found\n",
            "Progress : [##################################------] 85% 337/396environment: line 28: dustmasker: command not found\n",
            "Progress : [##################################------] 85% 338/396environment: line 28: dustmasker: command not found\n",
            "Progress : [##################################------] 85% 339/396environment: line 28: dustmasker: command not found\n",
            "Progress : [##################################------] 85% 340/396environment: line 28: dustmasker: command not found\n",
            "Progress : [##################################------] 86% 341/396environment: line 28: dustmasker: command not found\n",
            "Progress : [##################################------] 86% 342/396environment: line 28: dustmasker: command not found\n",
            "Progress : [##################################------] 86% 343/396environment: line 28: dustmasker: command not found\n",
            "Progress : [##################################------] 86% 344/396environment: line 28: dustmasker: command not found\n",
            "Progress : [##################################------] 87% 345/396environment: line 28: dustmasker: command not found\n",
            "Progress : [##################################------] 87% 346/396environment: line 28: dustmasker: command not found\n",
            "Progress : [##################################------] 87% 347/396environment: line 28: dustmasker: command not found\n",
            "Progress : [##################################------] 87% 348/396environment: line 28: dustmasker: command not found\n",
            "Progress : [###################################-----] 88% 349/396environment: line 28: dustmasker: command not found\n",
            "Progress : [###################################-----] 88% 350/396environment: line 28: dustmasker: command not found\n",
            "Progress : [###################################-----] 88% 351/396environment: line 28: dustmasker: command not found\n",
            "Progress : [###################################-----] 88% 352/396environment: line 28: dustmasker: command not found\n",
            "Progress : [###################################-----] 89% 353/396environment: line 28: dustmasker: command not found\n",
            "Progress : [###################################-----] 89% 354/396environment: line 28: dustmasker: command not found\n",
            "Progress : [###################################-----] 89% 355/396environment: line 28: dustmasker: command not found\n",
            "Progress : [###################################-----] 89% 356/396environment: line 28: dustmasker: command not found\n",
            "Progress : [####################################----] 90% 357/396environment: line 28: dustmasker: command not found\n",
            "Progress : [####################################----] 90% 358/396environment: line 28: dustmasker: command not found\n",
            "Progress : [####################################----] 90% 359/396environment: line 28: dustmasker: command not found\n",
            "Progress : [####################################----] 90% 360/396environment: line 28: dustmasker: command not found\n",
            "Progress : [####################################----] 91% 361/396environment: line 28: dustmasker: command not found\n",
            "Progress : [####################################----] 91% 362/396environment: line 28: dustmasker: command not found\n",
            "Progress : [####################################----] 91% 363/396environment: line 28: dustmasker: command not found\n",
            "Progress : [####################################----] 91% 364/396environment: line 28: dustmasker: command not found\n",
            "Progress : [####################################----] 92% 365/396environment: line 28: dustmasker: command not found\n",
            "Progress : [####################################----] 92% 366/396environment: line 28: dustmasker: command not found\n",
            "Progress : [####################################----] 92% 367/396environment: line 28: dustmasker: command not found\n",
            "Progress : [####################################----] 92% 368/396environment: line 28: dustmasker: command not found\n",
            "Progress : [#####################################---] 93% 369/396environment: line 28: dustmasker: command not found\n",
            "Progress : [#####################################---] 93% 370/396environment: line 28: dustmasker: command not found\n",
            "Progress : [#####################################---] 93% 371/396environment: line 28: dustmasker: command not found\n",
            "Progress : [#####################################---] 93% 372/396environment: line 28: dustmasker: command not found\n",
            "Progress : [#####################################---] 94% 373/396environment: line 28: dustmasker: command not found\n",
            "Progress : [#####################################---] 94% 374/396environment: line 28: dustmasker: command not found\n",
            "Progress : [#####################################---] 94% 375/396environment: line 28: dustmasker: command not found\n",
            "Progress : [#####################################---] 94% 376/396environment: line 28: dustmasker: command not found\n",
            "Progress : [######################################--] 95% 377/396environment: line 28: dustmasker: command not found\n",
            "Progress : [######################################--] 95% 378/396environment: line 28: dustmasker: command not found\n",
            "Progress : [######################################--] 95% 379/396environment: line 28: dustmasker: command not found\n",
            "Progress : [######################################--] 95% 380/396environment: line 28: dustmasker: command not found\n",
            "Progress : [######################################--] 96% 381/396environment: line 28: dustmasker: command not found\n",
            "Progress : [######################################--] 96% 382/396environment: line 28: dustmasker: command not found\n",
            "Progress : [######################################--] 96% 383/396environment: line 28: dustmasker: command not found\n",
            "Progress : [######################################--] 96% 384/396environment: line 28: dustmasker: command not found\n",
            "Progress : [######################################--] 97% 385/396environment: line 28: dustmasker: command not found\n",
            "Progress : [######################################--] 97% 386/396environment: line 28: dustmasker: command not found\n",
            "Progress : [######################################--] 97% 387/396environment: line 28: dustmasker: command not found\n",
            "Progress : [######################################--] 97% 388/396environment: line 28: dustmasker: command not found\n",
            "Progress : [#######################################-] 98% 389/396environment: line 28: dustmasker: command not found\n",
            "Progress : [#######################################-] 98% 390/396environment: line 28: dustmasker: command not found\n",
            "Progress : [#######################################-] 98% 391/396environment: line 28: dustmasker: command not found\n",
            "Progress : [#######################################-] 98% 392/396environment: line 28: dustmasker: command not found\n",
            "Progress : [#######################################-] 99% 393/396environment: line 28: dustmasker: command not found\n",
            "Progress : [#######################################-] 99% 394/396environment: line 28: dustmasker: command not found\n",
            "Progress : [#######################################-] 99% 395/396environment: line 28: dustmasker: command not found\n",
            "Progress : [########################################] 100% 396/396\n"
          ]
        }
      ]
    },
    {
      "cell_type": "markdown",
      "metadata": {
        "id": "ziv7jo9LoO42"
      },
      "source": [
        "#Subir tus archivos\n"
      ]
    },
    {
      "cell_type": "code",
      "metadata": {
        "colab": {
          "resources": {
            "http://localhost:8080/nbextensions/google.colab/files.js": {
              "data": "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",
              "ok": true,
              "headers": [
                [
                  "content-type",
                  "application/javascript"
                ]
              ],
              "status": 200,
              "status_text": "OK"
            }
          },
          "base_uri": "https://localhost:8080/",
          "height": 205
        },
        "id": "IM91GPhZoUQq",
        "outputId": "95a02926-5194-4ef6-fd55-1eefac8ce44c"
      },
      "source": [
        "from google.colab import files\n",
        "uploads=files.upload()"
      ],
      "execution_count": 2,
      "outputs": [
        {
          "output_type": "display_data",
          "data": {
            "text/html": [
              "\n",
              "     <input type=\"file\" id=\"files-9c82ad3f-74f3-414a-94c4-d92ae1f08624\" name=\"files[]\" multiple disabled\n",
              "        style=\"border:none\" />\n",
              "     <output id=\"result-9c82ad3f-74f3-414a-94c4-d92ae1f08624\">\n",
              "      Upload widget is only available when the cell has been executed in the\n",
              "      current browser session. Please rerun this cell to enable.\n",
              "      </output>\n",
              "      <script src=\"/nbextensions/google.colab/files.js\"></script> "
            ],
            "text/plain": [
              "<IPython.core.display.HTML object>"
            ]
          },
          "metadata": {}
        },
        {
          "output_type": "stream",
          "name": "stdout",
          "text": [
            "Saving GCF_000827835.1_ASM82783v1_cds_from_genomic.fna to GCF_000827835.1_ASM82783v1_cds_from_genomic.fna\n",
            "Saving GCF_902410085.1_KTX-Assembly-1_cds_from_genomic.fna to GCF_902410085.1_KTX-Assembly-1_cds_from_genomic.fna\n",
            "Saving GCF_003383025.1_ASM338302v1_genomic.fna to GCF_003383025.1_ASM338302v1_genomic.fna\n",
            "Saving GCF_000213215.1_ASM21321v1_cds_from_genomic.fna to GCF_000213215.1_ASM21321v1_cds_from_genomic.fna\n"
          ]
        }
      ]
    },
    {
      "cell_type": "code",
      "metadata": {
        "colab": {
          "base_uri": "https://localhost:8080/"
        },
        "id": "1MAq0DiQBblV",
        "outputId": "ff595b61-2b39-480d-d0f1-7bb65319ac81"
      },
      "source": [
        "from google.colab import drive\n",
        "drive.mount('/content/drive')"
      ],
      "execution_count": 3,
      "outputs": [
        {
          "output_type": "stream",
          "name": "stdout",
          "text": [
            "Drive already mounted at /content/drive; to attempt to forcibly remount, call drive.mount(\"/content/drive\", force_remount=True).\n"
          ]
        }
      ]
    },
    {
      "cell_type": "markdown",
      "metadata": {
        "id": "qG1LN-EcAlfj"
      },
      "source": [
        "Reducimos a un solo archivo"
      ]
    },
    {
      "cell_type": "code",
      "metadata": {
        "id": "QDafWcn_oWdM"
      },
      "source": [
        "!cat *.fna > input-sequences.fna"
      ],
      "execution_count": 4,
      "outputs": []
    },
    {
      "cell_type": "code",
      "metadata": {
        "colab": {
          "base_uri": "https://localhost:8080/"
        },
        "id": "5jH7tq3Q6ZR5",
        "outputId": "469c7535-0343-4efa-f187-f5e7a834b538"
      },
      "source": [
        "!centrifuge-build -p 4 --conversion-table seqid2taxid.map --taxonomy-tree taxonomy/nodes.dmp --name-table taxonomy/names.dmp input-sequences.fna abv"
      ],
      "execution_count": 5,
      "outputs": [
        {
          "output_type": "stream",
          "name": "stdout",
          "text": [
            "/bin/bash: centrifuge-build: command not found\n"
          ]
        }
      ]
    },
    {
      "cell_type": "code",
      "metadata": {
        "id": "cWV_L9mfBlaO"
      },
      "source": [
        ""
      ],
      "execution_count": null,
      "outputs": []
    }
  ]
}