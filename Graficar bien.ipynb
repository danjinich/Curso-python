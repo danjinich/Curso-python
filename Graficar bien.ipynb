{
 "cells": [
  {
   "cell_type": "markdown",
   "metadata": {
    "slideshow": {
     "slide_type": "slide"
    }
   },
   "source": [
    "# ¿Qué es graficar bien?\n",
    "Por: Dan Jinich\n",
    "\n",
    "\n",
    "https://github.com/danjinich/Curso-python"
   ]
  },
  {
   "cell_type": "markdown",
   "metadata": {
    "slideshow": {
     "slide_type": "skip"
    }
   },
   "source": [
    "jupyter nbconvert ~/Cursos\\ python/Graficar\\ bien.ipynb --to slides --post serve"
   ]
  },
  {
   "cell_type": "markdown",
   "metadata": {
    "slideshow": {
     "slide_type": "slide"
    }
   },
   "source": [
    "## ¿Qué es graficar?\n",
    "- Comunicar una idea o una historia lo mas eficientemente posible.\n",
    "- Puede ser exploratorio o explicativo.\n"
   ]
  },
  {
   "cell_type": "markdown",
   "metadata": {
    "slideshow": {
     "slide_type": "slide"
    }
   },
   "source": [
    "## ¿Comó?\n",
    "1. Situación retorica.\n",
    "2. Escoger el tipo correcto.\n",
    "3. Eliminar lo que no aumenta valor.\n",
    "4. Llamar la atención del lector a lo más importante.\n",
    "5. Usarlo como herramienta para contar una historia.\n",
    "\n",
    "http://www.vizwiz.com/2013/01/alberto-cairo-three-steps-to-become.html"
   ]
  },
  {
   "cell_type": "code",
   "execution_count": 1,
   "metadata": {
    "slideshow": {
     "slide_type": "subslide"
    }
   },
   "outputs": [],
   "source": [
    "import pandas as pd\n",
    "import matplotlib.pyplot as plt\n",
    "import seaborn as sns"
   ]
  },
  {
   "cell_type": "markdown",
   "metadata": {
    "slideshow": {
     "slide_type": "slide"
    }
   },
   "source": [
    "## Gráficas exploratorias v.s. explicativas"
   ]
  },
  {
   "cell_type": "markdown",
   "metadata": {
    "slideshow": {
     "slide_type": "fragment"
    }
   },
   "source": [
    "- Las gráficas exploratorias son para cuando tu estas solo con tus datos, tratas de entender que esta pasando.\n",
    "- Las gráficas explicativas son para cuando quieres compartir tus datos, presentar una historia."
   ]
  },
  {
   "cell_type": "code",
   "execution_count": 2,
   "metadata": {
    "slideshow": {
     "slide_type": "skip"
    }
   },
   "outputs": [],
   "source": [
    "import numpy as np \n",
    "\n",
    "s=np.random.normal(0, 1, 1000)"
   ]
  },
  {
   "cell_type": "code",
   "execution_count": 3,
   "metadata": {
    "slideshow": {
     "slide_type": "subslide"
    }
   },
   "outputs": [
    {
     "data": {
      "image/png": "[encoded data removed]",
      "text/plain": [
       "<Figure size 432x288 with 1 Axes>"
      ]
     },
     "metadata": {
      "needs_background": "light"
     },
     "output_type": "display_data"
    }
   ],
   "source": [
    "plt.hist(s, bins=20)\n",
    "plt.show()"
   ]
  },
  {
   "cell_type": "code",
   "execution_count": 4,
   "metadata": {
    "slideshow": {
     "slide_type": "subslide"
    }
   },
   "outputs": [
    {
     "data": {
      "image/png": "[encoded data removed]",
      "text/plain": [
       "<Figure size 432x288 with 1 Axes>"
      ]
     },
     "metadata": {},
     "output_type": "display_data"
    }
   ],
   "source": [
    "sns.set(style=\"darkgrid\")\n",
    "sns.distplot(s, bins=20, \n",
    "             kde_kws={\"color\": \"k\", \"lw\": 3, \n",
    "                      \"alpha\":.6, \"lw\":4},\n",
    "             hist_kws={\"histtype\": \"bar\", \"linewidth\": 5, \n",
    "                       \"alpha\": .6, \"color\": \"indigo\"})\n",
    "plt.show()"
   ]
  },
  {
   "cell_type": "code",
   "execution_count": 5,
   "metadata": {
    "slideshow": {
     "slide_type": "skip"
    }
   },
   "outputs": [],
   "source": [
    "datasaurus  = pd.read_csv('DatasaurusDozen.tsv',sep='\\t')"
   ]
  },
  {
   "cell_type": "code",
   "execution_count": 6,
   "metadata": {
    "slideshow": {
     "slide_type": "slide"
    }
   },
   "outputs": [
    {
     "data": {
      "text/html": [
       "<div>\n",
       "<style scoped>\n",
       "    .dataframe tbody tr th:only-of-type {\n",
       "        vertical-align: middle;\n",
       "    }\n",
       "\n",
       "    .dataframe tbody tr th {\n",
       "        vertical-align: top;\n",
       "    }\n",
       "\n",
       "    .dataframe thead th {\n",
       "        text-align: right;\n",
       "    }\n",
       "</style>\n",
       "<table border=\"1\" class=\"dataframe\">\n",
       "  <thead>\n",
       "    <tr style=\"text-align: right;\">\n",
       "      <th></th>\n",
       "      <th>dataset</th>\n",
       "      <th>x</th>\n",
       "      <th>y</th>\n",
       "    </tr>\n",
       "  </thead>\n",
       "  <tbody>\n",
       "    <tr>\n",
       "      <td>0</td>\n",
       "      <td>dino</td>\n",
       "      <td>55.3846</td>\n",
       "      <td>97.1795</td>\n",
       "    </tr>\n",
       "    <tr>\n",
       "      <td>1</td>\n",
       "      <td>dino</td>\n",
       "      <td>51.5385</td>\n",
       "      <td>96.0256</td>\n",
       "    </tr>\n",
       "    <tr>\n",
       "      <td>2</td>\n",
       "      <td>dino</td>\n",
       "      <td>46.1538</td>\n",
       "      <td>94.4872</td>\n",
       "    </tr>\n",
       "    <tr>\n",
       "      <td>3</td>\n",
       "      <td>dino</td>\n",
       "      <td>42.8205</td>\n",
       "      <td>91.4103</td>\n",
       "    </tr>\n",
       "    <tr>\n",
       "      <td>4</td>\n",
       "      <td>dino</td>\n",
       "      <td>40.7692</td>\n",
       "      <td>88.3333</td>\n",
       "    </tr>\n",
       "  </tbody>\n",
       "</table>\n",
       "</div>"
      ],
      "text/plain": [
       "  dataset        x        y\n",
       "0    dino  55.3846  97.1795\n",
       "1    dino  51.5385  96.0256\n",
       "2    dino  46.1538  94.4872\n",
       "3    dino  42.8205  91.4103\n",
       "4    dino  40.7692  88.3333"
      ]
     },
     "execution_count": 6,
     "metadata": {},
     "output_type": "execute_result"
    }
   ],
   "source": [
    "datasaurus.head()"
   ]
  },
  {
   "cell_type": "code",
   "execution_count": 7,
   "metadata": {
    "slideshow": {
     "slide_type": "subslide"
    }
   },
   "outputs": [
    {
     "data": {
      "text/html": [
       "<div>\n",
       "<style scoped>\n",
       "    .dataframe tbody tr th:only-of-type {\n",
       "        vertical-align: middle;\n",
       "    }\n",
       "\n",
       "    .dataframe tbody tr th {\n",
       "        vertical-align: top;\n",
       "    }\n",
       "\n",
       "    .dataframe thead tr th {\n",
       "        text-align: left;\n",
       "    }\n",
       "\n",
       "    .dataframe thead tr:last-of-type th {\n",
       "        text-align: right;\n",
       "    }\n",
       "</style>\n",
       "<table border=\"1\" class=\"dataframe\">\n",
       "  <thead>\n",
       "    <tr>\n",
       "      <th></th>\n",
       "      <th colspan=\"8\" halign=\"left\">x</th>\n",
       "      <th colspan=\"8\" halign=\"left\">y</th>\n",
       "    </tr>\n",
       "    <tr>\n",
       "      <th></th>\n",
       "      <th>count</th>\n",
       "      <th>mean</th>\n",
       "      <th>std</th>\n",
       "      <th>min</th>\n",
       "      <th>25%</th>\n",
       "      <th>50%</th>\n",
       "      <th>75%</th>\n",
       "      <th>max</th>\n",
       "      <th>count</th>\n",
       "      <th>mean</th>\n",
       "      <th>std</th>\n",
       "      <th>min</th>\n",
       "      <th>25%</th>\n",
       "      <th>50%</th>\n",
       "      <th>75%</th>\n",
       "      <th>max</th>\n",
       "    </tr>\n",
       "    <tr>\n",
       "      <th>dataset</th>\n",
       "      <th></th>\n",
       "      <th></th>\n",
       "      <th></th>\n",
       "      <th></th>\n",
       "      <th></th>\n",
       "      <th></th>\n",
       "      <th></th>\n",
       "      <th></th>\n",
       "      <th></th>\n",
       "      <th></th>\n",
       "      <th></th>\n",
       "      <th></th>\n",
       "      <th></th>\n",
       "      <th></th>\n",
       "      <th></th>\n",
       "      <th></th>\n",
       "    </tr>\n",
       "  </thead>\n",
       "  <tbody>\n",
       "    <tr>\n",
       "      <td>away</td>\n",
       "      <td>142.0</td>\n",
       "      <td>54.266100</td>\n",
       "      <td>16.769825</td>\n",
       "      <td>15.560750</td>\n",
       "      <td>39.724115</td>\n",
       "      <td>53.340296</td>\n",
       "      <td>69.146597</td>\n",
       "      <td>91.639961</td>\n",
       "      <td>142.0</td>\n",
       "      <td>47.834721</td>\n",
       "      <td>26.939743</td>\n",
       "      <td>0.015119</td>\n",
       "      <td>24.625892</td>\n",
       "      <td>47.535269</td>\n",
       "      <td>71.803148</td>\n",
       "      <td>97.475771</td>\n",
       "    </tr>\n",
       "    <tr>\n",
       "      <td>bullseye</td>\n",
       "      <td>142.0</td>\n",
       "      <td>54.268730</td>\n",
       "      <td>16.769239</td>\n",
       "      <td>19.288205</td>\n",
       "      <td>41.627968</td>\n",
       "      <td>53.842088</td>\n",
       "      <td>64.798900</td>\n",
       "      <td>91.735539</td>\n",
       "      <td>142.0</td>\n",
       "      <td>47.830823</td>\n",
       "      <td>26.935727</td>\n",
       "      <td>9.691547</td>\n",
       "      <td>26.244735</td>\n",
       "      <td>47.382937</td>\n",
       "      <td>72.532852</td>\n",
       "      <td>85.876229</td>\n",
       "    </tr>\n",
       "    <tr>\n",
       "      <td>circle</td>\n",
       "      <td>142.0</td>\n",
       "      <td>54.267320</td>\n",
       "      <td>16.760013</td>\n",
       "      <td>21.863581</td>\n",
       "      <td>43.379116</td>\n",
       "      <td>54.023213</td>\n",
       "      <td>64.972672</td>\n",
       "      <td>85.664761</td>\n",
       "      <td>142.0</td>\n",
       "      <td>47.837717</td>\n",
       "      <td>26.930036</td>\n",
       "      <td>16.326546</td>\n",
       "      <td>18.349610</td>\n",
       "      <td>51.025022</td>\n",
       "      <td>77.782382</td>\n",
       "      <td>85.578134</td>\n",
       "    </tr>\n",
       "    <tr>\n",
       "      <td>dino</td>\n",
       "      <td>142.0</td>\n",
       "      <td>54.263273</td>\n",
       "      <td>16.765142</td>\n",
       "      <td>22.307700</td>\n",
       "      <td>44.102600</td>\n",
       "      <td>53.333300</td>\n",
       "      <td>64.743600</td>\n",
       "      <td>98.205100</td>\n",
       "      <td>142.0</td>\n",
       "      <td>47.832253</td>\n",
       "      <td>26.935403</td>\n",
       "      <td>2.948700</td>\n",
       "      <td>25.288450</td>\n",
       "      <td>46.025600</td>\n",
       "      <td>68.525675</td>\n",
       "      <td>99.487200</td>\n",
       "    </tr>\n",
       "    <tr>\n",
       "      <td>dots</td>\n",
       "      <td>142.0</td>\n",
       "      <td>54.260303</td>\n",
       "      <td>16.767735</td>\n",
       "      <td>25.443526</td>\n",
       "      <td>50.359707</td>\n",
       "      <td>50.976768</td>\n",
       "      <td>75.197363</td>\n",
       "      <td>77.954435</td>\n",
       "      <td>142.0</td>\n",
       "      <td>47.839829</td>\n",
       "      <td>26.930192</td>\n",
       "      <td>15.771892</td>\n",
       "      <td>17.107141</td>\n",
       "      <td>51.299291</td>\n",
       "      <td>82.881589</td>\n",
       "      <td>94.249328</td>\n",
       "    </tr>\n",
       "    <tr>\n",
       "      <td>h_lines</td>\n",
       "      <td>142.0</td>\n",
       "      <td>54.261442</td>\n",
       "      <td>16.765898</td>\n",
       "      <td>22.003709</td>\n",
       "      <td>42.293828</td>\n",
       "      <td>53.069678</td>\n",
       "      <td>66.768274</td>\n",
       "      <td>98.288123</td>\n",
       "      <td>142.0</td>\n",
       "      <td>47.830252</td>\n",
       "      <td>26.939876</td>\n",
       "      <td>10.463915</td>\n",
       "      <td>30.479911</td>\n",
       "      <td>50.473527</td>\n",
       "      <td>70.349471</td>\n",
       "      <td>90.458936</td>\n",
       "    </tr>\n",
       "    <tr>\n",
       "      <td>high_lines</td>\n",
       "      <td>142.0</td>\n",
       "      <td>54.268805</td>\n",
       "      <td>16.766704</td>\n",
       "      <td>17.893499</td>\n",
       "      <td>41.535981</td>\n",
       "      <td>54.168689</td>\n",
       "      <td>63.952667</td>\n",
       "      <td>96.080519</td>\n",
       "      <td>142.0</td>\n",
       "      <td>47.835450</td>\n",
       "      <td>26.939998</td>\n",
       "      <td>14.913962</td>\n",
       "      <td>22.920843</td>\n",
       "      <td>32.499203</td>\n",
       "      <td>75.940022</td>\n",
       "      <td>87.152208</td>\n",
       "    </tr>\n",
       "    <tr>\n",
       "      <td>slant_down</td>\n",
       "      <td>142.0</td>\n",
       "      <td>54.267849</td>\n",
       "      <td>16.766759</td>\n",
       "      <td>18.109472</td>\n",
       "      <td>42.890931</td>\n",
       "      <td>53.135159</td>\n",
       "      <td>64.469989</td>\n",
       "      <td>95.593416</td>\n",
       "      <td>142.0</td>\n",
       "      <td>47.835896</td>\n",
       "      <td>26.936105</td>\n",
       "      <td>0.303872</td>\n",
       "      <td>27.840858</td>\n",
       "      <td>46.401314</td>\n",
       "      <td>68.439430</td>\n",
       "      <td>99.644179</td>\n",
       "    </tr>\n",
       "    <tr>\n",
       "      <td>slant_up</td>\n",
       "      <td>142.0</td>\n",
       "      <td>54.265882</td>\n",
       "      <td>16.768853</td>\n",
       "      <td>20.209778</td>\n",
       "      <td>42.810866</td>\n",
       "      <td>54.261345</td>\n",
       "      <td>64.488010</td>\n",
       "      <td>95.260528</td>\n",
       "      <td>142.0</td>\n",
       "      <td>47.831496</td>\n",
       "      <td>26.938608</td>\n",
       "      <td>5.645777</td>\n",
       "      <td>24.756248</td>\n",
       "      <td>45.292238</td>\n",
       "      <td>70.855844</td>\n",
       "      <td>99.579591</td>\n",
       "    </tr>\n",
       "    <tr>\n",
       "      <td>star</td>\n",
       "      <td>142.0</td>\n",
       "      <td>54.267341</td>\n",
       "      <td>16.768959</td>\n",
       "      <td>27.024603</td>\n",
       "      <td>41.034210</td>\n",
       "      <td>56.534732</td>\n",
       "      <td>68.711493</td>\n",
       "      <td>86.435897</td>\n",
       "      <td>142.0</td>\n",
       "      <td>47.839545</td>\n",
       "      <td>26.930275</td>\n",
       "      <td>14.365590</td>\n",
       "      <td>20.374135</td>\n",
       "      <td>50.110554</td>\n",
       "      <td>63.548584</td>\n",
       "      <td>92.214989</td>\n",
       "    </tr>\n",
       "    <tr>\n",
       "      <td>v_lines</td>\n",
       "      <td>142.0</td>\n",
       "      <td>54.269927</td>\n",
       "      <td>16.769959</td>\n",
       "      <td>30.449654</td>\n",
       "      <td>49.964506</td>\n",
       "      <td>50.362890</td>\n",
       "      <td>69.504068</td>\n",
       "      <td>89.504851</td>\n",
       "      <td>142.0</td>\n",
       "      <td>47.836988</td>\n",
       "      <td>26.937684</td>\n",
       "      <td>2.734760</td>\n",
       "      <td>22.752884</td>\n",
       "      <td>47.113616</td>\n",
       "      <td>65.845391</td>\n",
       "      <td>99.694680</td>\n",
       "    </tr>\n",
       "    <tr>\n",
       "      <td>wide_lines</td>\n",
       "      <td>142.0</td>\n",
       "      <td>54.266916</td>\n",
       "      <td>16.770000</td>\n",
       "      <td>27.439632</td>\n",
       "      <td>35.522449</td>\n",
       "      <td>64.550226</td>\n",
       "      <td>67.453672</td>\n",
       "      <td>77.915874</td>\n",
       "      <td>142.0</td>\n",
       "      <td>47.831602</td>\n",
       "      <td>26.937902</td>\n",
       "      <td>0.217006</td>\n",
       "      <td>24.346941</td>\n",
       "      <td>46.279331</td>\n",
       "      <td>67.568127</td>\n",
       "      <td>99.283764</td>\n",
       "    </tr>\n",
       "    <tr>\n",
       "      <td>x_shape</td>\n",
       "      <td>142.0</td>\n",
       "      <td>54.260150</td>\n",
       "      <td>16.769958</td>\n",
       "      <td>31.106867</td>\n",
       "      <td>40.091656</td>\n",
       "      <td>47.136458</td>\n",
       "      <td>71.856923</td>\n",
       "      <td>85.446186</td>\n",
       "      <td>142.0</td>\n",
       "      <td>47.839717</td>\n",
       "      <td>26.930002</td>\n",
       "      <td>4.577661</td>\n",
       "      <td>23.470809</td>\n",
       "      <td>39.876211</td>\n",
       "      <td>73.609634</td>\n",
       "      <td>97.837615</td>\n",
       "    </tr>\n",
       "  </tbody>\n",
       "</table>\n",
       "</div>"
      ],
      "text/plain": [
       "                x                                                         \\\n",
       "            count       mean        std        min        25%        50%   \n",
       "dataset                                                                    \n",
       "away        142.0  54.266100  16.769825  15.560750  39.724115  53.340296   \n",
       "bullseye    142.0  54.268730  16.769239  19.288205  41.627968  53.842088   \n",
       "circle      142.0  54.267320  16.760013  21.863581  43.379116  54.023213   \n",
       "dino        142.0  54.263273  16.765142  22.307700  44.102600  53.333300   \n",
       "dots        142.0  54.260303  16.767735  25.443526  50.359707  50.976768   \n",
       "h_lines     142.0  54.261442  16.765898  22.003709  42.293828  53.069678   \n",
       "high_lines  142.0  54.268805  16.766704  17.893499  41.535981  54.168689   \n",
       "slant_down  142.0  54.267849  16.766759  18.109472  42.890931  53.135159   \n",
       "slant_up    142.0  54.265882  16.768853  20.209778  42.810866  54.261345   \n",
       "star        142.0  54.267341  16.768959  27.024603  41.034210  56.534732   \n",
       "v_lines     142.0  54.269927  16.769959  30.449654  49.964506  50.362890   \n",
       "wide_lines  142.0  54.266916  16.770000  27.439632  35.522449  64.550226   \n",
       "x_shape     142.0  54.260150  16.769958  31.106867  40.091656  47.136458   \n",
       "\n",
       "                                      y                                   \\\n",
       "                  75%        max  count       mean        std        min   \n",
       "dataset                                                                    \n",
       "away        69.146597  91.639961  142.0  47.834721  26.939743   0.015119   \n",
       "bullseye    64.798900  91.735539  142.0  47.830823  26.935727   9.691547   \n",
       "circle      64.972672  85.664761  142.0  47.837717  26.930036  16.326546   \n",
       "dino        64.743600  98.205100  142.0  47.832253  26.935403   2.948700   \n",
       "dots        75.197363  77.954435  142.0  47.839829  26.930192  15.771892   \n",
       "h_lines     66.768274  98.288123  142.0  47.830252  26.939876  10.463915   \n",
       "high_lines  63.952667  96.080519  142.0  47.835450  26.939998  14.913962   \n",
       "slant_down  64.469989  95.593416  142.0  47.835896  26.936105   0.303872   \n",
       "slant_up    64.488010  95.260528  142.0  47.831496  26.938608   5.645777   \n",
       "star        68.711493  86.435897  142.0  47.839545  26.930275  14.365590   \n",
       "v_lines     69.504068  89.504851  142.0  47.836988  26.937684   2.734760   \n",
       "wide_lines  67.453672  77.915874  142.0  47.831602  26.937902   0.217006   \n",
       "x_shape     71.856923  85.446186  142.0  47.839717  26.930002   4.577661   \n",
       "\n",
       "                                                        \n",
       "                  25%        50%        75%        max  \n",
       "dataset                                                 \n",
       "away        24.625892  47.535269  71.803148  97.475771  \n",
       "bullseye    26.244735  47.382937  72.532852  85.876229  \n",
       "circle      18.349610  51.025022  77.782382  85.578134  \n",
       "dino        25.288450  46.025600  68.525675  99.487200  \n",
       "dots        17.107141  51.299291  82.881589  94.249328  \n",
       "h_lines     30.479911  50.473527  70.349471  90.458936  \n",
       "high_lines  22.920843  32.499203  75.940022  87.152208  \n",
       "slant_down  27.840858  46.401314  68.439430  99.644179  \n",
       "slant_up    24.756248  45.292238  70.855844  99.579591  \n",
       "star        20.374135  50.110554  63.548584  92.214989  \n",
       "v_lines     22.752884  47.113616  65.845391  99.694680  \n",
       "wide_lines  24.346941  46.279331  67.568127  99.283764  \n",
       "x_shape     23.470809  39.876211  73.609634  97.837615  "
      ]
     },
     "execution_count": 7,
     "metadata": {},
     "output_type": "execute_result"
    }
   ],
   "source": [
    "datasaurus.groupby(\"dataset\").describe()"
   ]
  },
  {
   "cell_type": "code",
   "execution_count": 8,
   "metadata": {
    "slideshow": {
     "slide_type": "subslide"
    }
   },
   "outputs": [
    {
     "data": {
      "image/png": "[encoded data removed]",
      "text/plain": [
       "<Figure size 1728x432 with 4 Axes>"
      ]
     },
     "metadata": {},
     "output_type": "display_data"
    }
   ],
   "source": [
    "f = plt.figure(figsize=(24, 6))\n",
    "gs = f.add_gridspec(1, 4)\n",
    "\n",
    "ax = f.add_subplot(gs[0, 0])\n",
    "sns.scatterplot(data=datasaurus[datasaurus['dataset']=='dino'], \n",
    "                x='x', y='y', ax=ax)\n",
    "\n",
    "ax = f.add_subplot(gs[0, 1])\n",
    "sns.scatterplot(data=datasaurus[datasaurus['dataset']=='star'], \n",
    "                x='x', y='y', ax=ax)\n",
    "\n",
    "ax = f.add_subplot(gs[0, 2])\n",
    "sns.scatterplot(data=datasaurus[datasaurus['dataset']=='bullseye'], \n",
    "                x='x', y='y', ax=ax)\n",
    "\n",
    "ax = f.add_subplot(gs[0, 3])\n",
    "sns.scatterplot(data=datasaurus[datasaurus['dataset']=='slant_up'], \n",
    "                x='x', y='y', ax=ax)\n",
    "\n",
    "f.tight_layout()"
   ]
  },
  {
   "cell_type": "markdown",
   "metadata": {
    "slideshow": {
     "slide_type": "slide"
    }
   },
   "source": [
    "## Tipos de datos"
   ]
  },
  {
   "cell_type": "markdown",
   "metadata": {
    "slideshow": {
     "slide_type": "fragment"
    }
   },
   "source": [
    "- Continuos\n",
    "- Discretos\n",
    "- Categóricos\n",
    "    - Ordenados\n",
    "    - No ordenados\n",
    "    \n",
    "¿Qué tipo de visualización es la correcta para todas las combinaciones?"
   ]
  },
  {
   "cell_type": "markdown",
   "metadata": {
    "slideshow": {
     "slide_type": "slide"
    }
   },
   "source": [
    "## ¿Comó graficar?\n",
    "\n",
    "https://www.gapminder.org"
   ]
  },
  {
   "cell_type": "markdown",
   "metadata": {
    "slideshow": {
     "slide_type": "subslide"
    }
   },
   "source": [
    "## Mejores formas de mapear información\n",
    "1. Posición\n",
    "2. Largo\n",
    "3. Ángulo o pendiente\n",
    "4. Área\n",
    "5. Volumen\n",
    "6. Color o densidad\n",
    "\n",
    "\n",
    "https://web.cs.dal.ca/~sbrooks/csci4166-6406/seminars/readings/Cleveland_GraphicalPerception_Science85.pdf"
   ]
  },
  {
   "cell_type": "code",
   "execution_count": 9,
   "metadata": {
    "scrolled": true,
    "slideshow": {
     "slide_type": "skip"
    }
   },
   "outputs": [
    {
     "data": {
      "text/html": [
       "<div>\n",
       "<style scoped>\n",
       "    .dataframe tbody tr th:only-of-type {\n",
       "        vertical-align: middle;\n",
       "    }\n",
       "\n",
       "    .dataframe tbody tr th {\n",
       "        vertical-align: top;\n",
       "    }\n",
       "\n",
       "    .dataframe thead th {\n",
       "        text-align: right;\n",
       "    }\n",
       "</style>\n",
       "<table border=\"1\" class=\"dataframe\">\n",
       "  <thead>\n",
       "    <tr style=\"text-align: right;\">\n",
       "      <th></th>\n",
       "      <th>a</th>\n",
       "      <th>b</th>\n",
       "    </tr>\n",
       "  </thead>\n",
       "  <tbody>\n",
       "    <tr>\n",
       "      <td>0</td>\n",
       "      <td>Lunes</td>\n",
       "      <td>150</td>\n",
       "    </tr>\n",
       "    <tr>\n",
       "      <td>1</td>\n",
       "      <td>Martes</td>\n",
       "      <td>200</td>\n",
       "    </tr>\n",
       "    <tr>\n",
       "      <td>2</td>\n",
       "      <td>Miercoles</td>\n",
       "      <td>160</td>\n",
       "    </tr>\n",
       "    <tr>\n",
       "      <td>3</td>\n",
       "      <td>Jueves</td>\n",
       "      <td>190</td>\n",
       "    </tr>\n",
       "    <tr>\n",
       "      <td>4</td>\n",
       "      <td>Viernes</td>\n",
       "      <td>180</td>\n",
       "    </tr>\n",
       "  </tbody>\n",
       "</table>\n",
       "</div>"
      ],
      "text/plain": [
       "           a    b\n",
       "0      Lunes  150\n",
       "1     Martes  200\n",
       "2  Miercoles  160\n",
       "3     Jueves  190\n",
       "4    Viernes  180"
      ]
     },
     "execution_count": 9,
     "metadata": {},
     "output_type": "execute_result"
    }
   ],
   "source": [
    "val = pd.DataFrame({\"a\":[\"Lunes\", \"Martes\", \"Miercoles\", \"Jueves\", \"Viernes\"], \"b\":[150,200,160,190,180]})\n",
    "val.head()"
   ]
  },
  {
   "cell_type": "code",
   "execution_count": 10,
   "metadata": {
    "scrolled": false,
    "slideshow": {
     "slide_type": "slide"
    }
   },
   "outputs": [
    {
     "data": {
      "image/png": "[encoded data removed]",
      "text/plain": [
       "<Figure size 432x288 with 1 Axes>"
      ]
     },
     "metadata": {},
     "output_type": "display_data"
    }
   ],
   "source": [
    "sns.set_palette(sns.dark_palette(\"purple\"))\n",
    "\n",
    "plt.pie(shadow=True, x=val['b'], labels=val['a'])\n",
    "plt.show()"
   ]
  },
  {
   "cell_type": "markdown",
   "metadata": {
    "slideshow": {
     "slide_type": "fragment"
    }
   },
   "source": [
    "- Mala elección de color.\n",
    "- La sombra.\n",
    "- Es de pie, entonces no sabemos que dice."
   ]
  },
  {
   "cell_type": "code",
   "execution_count": 11,
   "metadata": {
    "slideshow": {
     "slide_type": "skip"
    }
   },
   "outputs": [
    {
     "data": {
      "text/html": [
       "<div>\n",
       "<style scoped>\n",
       "    .dataframe tbody tr th:only-of-type {\n",
       "        vertical-align: middle;\n",
       "    }\n",
       "\n",
       "    .dataframe tbody tr th {\n",
       "        vertical-align: top;\n",
       "    }\n",
       "\n",
       "    .dataframe thead th {\n",
       "        text-align: right;\n",
       "    }\n",
       "</style>\n",
       "<table border=\"1\" class=\"dataframe\">\n",
       "  <thead>\n",
       "    <tr style=\"text-align: right;\">\n",
       "      <th></th>\n",
       "      <th>a</th>\n",
       "      <th>b</th>\n",
       "    </tr>\n",
       "  </thead>\n",
       "  <tbody>\n",
       "    <tr>\n",
       "      <td>0</td>\n",
       "      <td>Lunes</td>\n",
       "      <td>160</td>\n",
       "    </tr>\n",
       "    <tr>\n",
       "      <td>1</td>\n",
       "      <td>Martes</td>\n",
       "      <td>202</td>\n",
       "    </tr>\n",
       "    <tr>\n",
       "      <td>2</td>\n",
       "      <td>Miercoles</td>\n",
       "      <td>150</td>\n",
       "    </tr>\n",
       "    <tr>\n",
       "      <td>3</td>\n",
       "      <td>Jueves</td>\n",
       "      <td>200</td>\n",
       "    </tr>\n",
       "    <tr>\n",
       "      <td>4</td>\n",
       "      <td>Viernes</td>\n",
       "      <td>180</td>\n",
       "    </tr>\n",
       "  </tbody>\n",
       "</table>\n",
       "</div>"
      ],
      "text/plain": [
       "           a    b\n",
       "0      Lunes  160\n",
       "1     Martes  202\n",
       "2  Miercoles  150\n",
       "3     Jueves  200\n",
       "4    Viernes  180"
      ]
     },
     "execution_count": 11,
     "metadata": {},
     "output_type": "execute_result"
    }
   ],
   "source": [
    "val = pd.DataFrame({\"a\":[\"Lunes\", \"Martes\", \"Miercoles\", \"Jueves\", \"Viernes\"], \"b\":[160,202,150,200,180]})\n",
    "val.head()"
   ]
  },
  {
   "cell_type": "code",
   "execution_count": 12,
   "metadata": {
    "scrolled": true,
    "slideshow": {
     "slide_type": "subslide"
    }
   },
   "outputs": [
    {
     "data": {
      "image/png": "[encoded data removed]",
      "text/plain": [
       "<Figure size 432x288 with 1 Axes>"
      ]
     },
     "metadata": {},
     "output_type": "display_data"
    }
   ],
   "source": [
    "sns.set_palette(\"Accent_r\")\n",
    "\n",
    "plt.pie(x=val['b'], labels=val['a'])\n",
    "plt.show()"
   ]
  },
  {
   "cell_type": "markdown",
   "metadata": {
    "slideshow": {
     "slide_type": "fragment"
    }
   },
   "source": [
    "- Mejor elección de color, pero sigue sin estar bien.\n",
    "- No se puede entender toda la información."
   ]
  },
  {
   "cell_type": "code",
   "execution_count": 13,
   "metadata": {
    "slideshow": {
     "slide_type": "skip"
    }
   },
   "outputs": [
    {
     "data": {
      "text/html": [
       "<div>\n",
       "<style scoped>\n",
       "    .dataframe tbody tr th:only-of-type {\n",
       "        vertical-align: middle;\n",
       "    }\n",
       "\n",
       "    .dataframe tbody tr th {\n",
       "        vertical-align: top;\n",
       "    }\n",
       "\n",
       "    .dataframe thead th {\n",
       "        text-align: right;\n",
       "    }\n",
       "</style>\n",
       "<table border=\"1\" class=\"dataframe\">\n",
       "  <thead>\n",
       "    <tr style=\"text-align: right;\">\n",
       "      <th></th>\n",
       "      <th>a</th>\n",
       "      <th>b</th>\n",
       "    </tr>\n",
       "  </thead>\n",
       "  <tbody>\n",
       "    <tr>\n",
       "      <td>0</td>\n",
       "      <td>Lunes</td>\n",
       "      <td>165</td>\n",
       "    </tr>\n",
       "    <tr>\n",
       "      <td>1</td>\n",
       "      <td>Martes</td>\n",
       "      <td>200</td>\n",
       "    </tr>\n",
       "    <tr>\n",
       "      <td>2</td>\n",
       "      <td>Miercoles</td>\n",
       "      <td>157</td>\n",
       "    </tr>\n",
       "    <tr>\n",
       "      <td>3</td>\n",
       "      <td>Jueves</td>\n",
       "      <td>205</td>\n",
       "    </tr>\n",
       "    <tr>\n",
       "      <td>4</td>\n",
       "      <td>Viernes</td>\n",
       "      <td>177</td>\n",
       "    </tr>\n",
       "  </tbody>\n",
       "</table>\n",
       "</div>"
      ],
      "text/plain": [
       "           a    b\n",
       "0      Lunes  165\n",
       "1     Martes  200\n",
       "2  Miercoles  157\n",
       "3     Jueves  205\n",
       "4    Viernes  177"
      ]
     },
     "execution_count": 13,
     "metadata": {},
     "output_type": "execute_result"
    }
   ],
   "source": [
    "val = pd.DataFrame({\"a\":[\"Lunes\", \"Martes\", \"Miercoles\", \"Jueves\", \"Viernes\"], \"b\":[165,200,157,205,177]})\n",
    "val.head()"
   ]
  },
  {
   "cell_type": "code",
   "execution_count": 14,
   "metadata": {
    "scrolled": true,
    "slideshow": {
     "slide_type": "subslide"
    }
   },
   "outputs": [
    {
     "data": {
      "image/png": "[encoded data removed]",
      "text/plain": [
       "<Figure size 432x288 with 1 Axes>"
      ]
     },
     "metadata": {},
     "output_type": "display_data"
    }
   ],
   "source": [
    "sns.set_palette(\"Accent\")\n",
    "plt.pie(x=val['b'], labels=val['a'], autopct='%1.1f%%')\n",
    "plt.show()"
   ]
  },
  {
   "cell_type": "markdown",
   "metadata": {
    "slideshow": {
     "slide_type": "fragment"
    }
   },
   "source": [
    "### Solución:\n",
    "Friends don't let friends do pie charts."
   ]
  },
  {
   "cell_type": "markdown",
   "metadata": {
    "slideshow": {
     "slide_type": "slide"
    }
   },
   "source": [
    "## Escoger colores\n",
    "1. Considera la rueda"
   ]
  },
  {
   "cell_type": "markdown",
   "metadata": {
    "slideshow": {
     "slide_type": "fragment"
    }
   },
   "source": [
    "![image](https://2.bp.blogspot.com/-e3MLUiRpxHc/T0WJq2AEqeI/AAAAAAAAChI/kJpKw7GTtZ4/s1600/Color+Wheel.jpg)"
   ]
  },
  {
   "cell_type": "markdown",
   "metadata": {
    "slideshow": {
     "slide_type": "subslide"
    }
   },
   "source": [
    "2. Asegurate de conocer las implicaciones que tienen los colores que escogiste. "
   ]
  },
  {
   "cell_type": "code",
   "execution_count": 15,
   "metadata": {
    "slideshow": {
     "slide_type": "fragment"
    }
   },
   "outputs": [
    {
     "data": {
      "image/png": "[encoded data removed]",
      "text/plain": [
       "<Figure size 720x72 with 1 Axes>"
      ]
     },
     "metadata": {},
     "output_type": "display_data"
    }
   ],
   "source": [
    "sns.palplot(sns.color_palette(\"Paired\", 10))"
   ]
  },
  {
   "cell_type": "code",
   "execution_count": 16,
   "metadata": {
    "slideshow": {
     "slide_type": "skip"
    }
   },
   "outputs": [],
   "source": [
    "tip = sns.load_dataset('tips')\n",
    "tip['percent']=tip['tip']/tip['total_bill']\n"
   ]
  },
  {
   "cell_type": "code",
   "execution_count": 17,
   "metadata": {
    "slideshow": {
     "slide_type": "fragment"
    }
   },
   "outputs": [
    {
     "data": {
      "text/plain": [
       "<matplotlib.axes._subplots.AxesSubplot at 0x7f11683dae10>"
      ]
     },
     "execution_count": 17,
     "metadata": {},
     "output_type": "execute_result"
    },
    {
     "data": {
      "image/png": "[encoded data removed]",
      "text/plain": [
       "<Figure size 432x288 with 1 Axes>"
      ]
     },
     "metadata": {},
     "output_type": "display_data"
    }
   ],
   "source": [
    "sns.violinplot(x=\"day\", y=\"percent\", \n",
    "               hue=\"sex\", data=tip, split=True, \n",
    "               palette=['royalblue','lightpink'])"
   ]
  },
  {
   "cell_type": "markdown",
   "metadata": {
    "slideshow": {
     "slide_type": "subslide"
    }
   },
   "source": [
    "3. Manten un tema constante. Acuerdate que estas contando una historia.\n",
    "4. Usa las diferencias de color para mostrar importancia.\n",
    "5. Asegurate que tus gráficas se entiendan en blanco y negro. "
   ]
  },
  {
   "cell_type": "markdown",
   "metadata": {
    "slideshow": {
     "slide_type": "subslide"
    }
   },
   "source": [
    "5. Escoge el tipo de paleta de color apropiado."
   ]
  },
  {
   "cell_type": "code",
   "execution_count": 18,
   "metadata": {
    "slideshow": {
     "slide_type": "fragment"
    }
   },
   "outputs": [
    {
     "data": {
      "image/png": "[encoded data removed]",
      "text/plain": [
       "<Figure size 720x72 with 1 Axes>"
      ]
     },
     "metadata": {},
     "output_type": "display_data"
    },
    {
     "data": {
      "image/png": "[encoded data removed]",
      "text/plain": [
       "<Figure size 720x72 with 1 Axes>"
      ]
     },
     "metadata": {},
     "output_type": "display_data"
    },
    {
     "data": {
      "image/png": "[encoded data removed]",
      "text/plain": [
       "<Figure size 720x72 with 1 Axes>"
      ]
     },
     "metadata": {},
     "output_type": "display_data"
    }
   ],
   "source": [
    "sns.palplot(sns.color_palette(\"Paired\", 10))\n",
    "sns.palplot(sns.color_palette(\"YlGnBu\", 10))\n",
    "sns.palplot(sns.color_palette(\"RdYlGn\", 10))"
   ]
  },
  {
   "cell_type": "markdown",
   "metadata": {
    "slideshow": {
     "slide_type": "slide"
    }
   },
   "source": [
    "## Algunos links útiles\n",
    "- https://cfwebprod.sandia.gov/cfdocs/CompResearch/docs/ColorMapsExpanded.pdf \n",
    "- http://paletton.com/ \n",
    "- https://learnui.design/tools/data-color-picker.html"
   ]
  }
 ],
 "metadata": {
  "celltoolbar": "Slideshow",
  "kernelspec": {
   "display_name": "Python 3",
   "language": "python",
   "name": "python3"
  },
  "language_info": {
   "codemirror_mode": {
    "name": "ipython",
    "version": 3
   },
   "file_extension": ".py",
   "mimetype": "text/x-python",
   "name": "python",
   "nbconvert_exporter": "python",
   "pygments_lexer": "ipython3",
   "version": "3.7.4"
  }
 },
 "nbformat": 4,
 "nbformat_minor": 2
}
