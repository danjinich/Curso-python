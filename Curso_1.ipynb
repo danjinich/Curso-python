{
  "nbformat": 4,
  "nbformat_minor": 0,
  "metadata": {
    "kernelspec": {
      "display_name": "Python 3",
      "language": "python",
      "name": "python3"
    },
    "language_info": {
      "codemirror_mode": {
        "name": "ipython",
        "version": 3
      },
      "file_extension": ".py",
      "mimetype": "text/x-python",
      "name": "python",
      "nbconvert_exporter": "python",
      "pygments_lexer": "ipython3",
      "version": "3.7.2"
    },
    "colab": {
      "name": "Curso Python Basico.ipynb",
      "provenance": []
    }
  },
  "cells": [
    {
      "cell_type": "markdown",
      "metadata": {
        "id": "ehvgJQtW16mb",
        "colab_type": "text"
      },
      "source": [
        "# Introducción a Python"
      ]
    },
    {
      "cell_type": "markdown",
      "metadata": {
        "id": "-vLKj_uM16mh",
        "colab_type": "text"
      },
      "source": [
        "En Python, podemos utilizar todos los tipos primitivos que conocemos normalmente: int, double, float, string, etc. Pero para asignarlos a una variable, no es necesario decir qué tipo de dato será.\n",
        "\n",
        "Para saber el tipo que tiene alguna variable se utiliza `type`."
      ]
    },
    {
      "cell_type": "code",
      "metadata": {
        "id": "pcEyV_7016ml",
        "colab_type": "code",
        "colab": {}
      },
      "source": [
        "num = 3\n",
        "decimal = 3.2\n",
        "string = 'Hola'"
      ],
      "execution_count": 0,
      "outputs": []
    },
    {
      "cell_type": "code",
      "metadata": {
        "id": "UyvJiABR16mz",
        "colab_type": "code",
        "outputId": "77bd5dfc-f18c-4e5f-b65f-7fdceba545d5",
        "colab": {}
      },
      "source": [
        "type(num)"
      ],
      "execution_count": 0,
      "outputs": [
        {
          "output_type": "execute_result",
          "data": {
            "text/plain": [
              "int"
            ]
          },
          "metadata": {
            "tags": []
          },
          "execution_count": 2
        }
      ]
    },
    {
      "cell_type": "code",
      "metadata": {
        "id": "XpyMAuzr16m8",
        "colab_type": "code",
        "outputId": "2d19befb-18e2-4600-d835-db8f6d6e25ba",
        "colab": {}
      },
      "source": [
        "type(decimal)"
      ],
      "execution_count": 0,
      "outputs": [
        {
          "output_type": "execute_result",
          "data": {
            "text/plain": [
              "float"
            ]
          },
          "metadata": {
            "tags": []
          },
          "execution_count": 3
        }
      ]
    },
    {
      "cell_type": "code",
      "metadata": {
        "id": "IBMD5WpR16nE",
        "colab_type": "code",
        "outputId": "75d0834e-9226-480c-df57-dd857584c84d",
        "colab": {}
      },
      "source": [
        "type(string)"
      ],
      "execution_count": 0,
      "outputs": [
        {
          "output_type": "execute_result",
          "data": {
            "text/plain": [
              "str"
            ]
          },
          "metadata": {
            "tags": []
          },
          "execution_count": 4
        }
      ]
    },
    {
      "cell_type": "markdown",
      "metadata": {
        "id": "QZ4pLfPF16nO",
        "colab_type": "text"
      },
      "source": [
        "También podemos imprimir las variables con print(), hacer operaciones y concatenar texto. Se puede concatenar texto utilizando + o una coma. Además, se puede hacer operaciones antes de imprimir."
      ]
    },
    {
      "cell_type": "code",
      "metadata": {
        "id": "e-Gey5F416nQ",
        "colab_type": "code",
        "outputId": "b151ae2f-e107-4ecf-8cb0-852925e89faf",
        "colab": {}
      },
      "source": [
        "print(\"Int:\",num+2)\n",
        "print(\"Float: \"+ str(decimal))\n",
        "print(\"Estos \"+\"son \"+\"strings: \"+string)"
      ],
      "execution_count": 0,
      "outputs": [
        {
          "output_type": "stream",
          "text": [
            "Int: 5\n",
            "Float: 3.2\n",
            "Estos son strings: Hola\n"
          ],
          "name": "stdout"
        }
      ]
    },
    {
      "cell_type": "code",
      "metadata": {
        "id": "AboEC4ffxRVZ",
        "colab_type": "code",
        "outputId": "32404269-8641-45dd-f3e2-2e3d3928bd5b",
        "colab": {
          "base_uri": "https://localhost:8080/",
          "height": 35
        }
      },
      "source": [
        "(string+' ')*3"
      ],
      "execution_count": 0,
      "outputs": [
        {
          "output_type": "execute_result",
          "data": {
            "text/plain": [
              "'Hola Hola Hola '"
            ]
          },
          "metadata": {
            "tags": []
          },
          "execution_count": 6
        }
      ]
    },
    {
      "cell_type": "markdown",
      "metadata": {
        "id": "DzdhJz9j16nX",
        "colab_type": "text"
      },
      "source": [
        "La diferencia entre `,` y `+` es que la `,` agrega un espacio en medio, y no se necesita convertir todo a String"
      ]
    },
    {
      "cell_type": "markdown",
      "metadata": {
        "id": "ydNj9nNv16nZ",
        "colab_type": "text"
      },
      "source": [
        "Con los Strings tambieén se pueden hacer operacines."
      ]
    },
    {
      "cell_type": "code",
      "metadata": {
        "id": "f7F5B5rd16nb",
        "colab_type": "code",
        "outputId": "7027142a-a742-4bde-d7ce-b5b3f66b1e0a",
        "colab": {}
      },
      "source": [
        "string*3"
      ],
      "execution_count": 0,
      "outputs": [
        {
          "output_type": "execute_result",
          "data": {
            "text/plain": [
              "'HolaHolaHola'"
            ]
          },
          "metadata": {
            "tags": []
          },
          "execution_count": 6
        }
      ]
    },
    {
      "cell_type": "code",
      "metadata": {
        "id": "rF-xjPhl16nk",
        "colab_type": "code",
        "outputId": "e2fe230a-7481-4097-cdde-0dcba7e1dd47",
        "colab": {}
      },
      "source": [
        "(string*3).replace('a','e')"
      ],
      "execution_count": 0,
      "outputs": [
        {
          "output_type": "execute_result",
          "data": {
            "text/plain": [
              "'HoleHoleHole'"
            ]
          },
          "metadata": {
            "tags": []
          },
          "execution_count": 7
        }
      ]
    },
    {
      "cell_type": "markdown",
      "metadata": {
        "id": "WZfc_8-716nq",
        "colab_type": "text"
      },
      "source": [
        "## Operaciones"
      ]
    },
    {
      "cell_type": "code",
      "metadata": {
        "id": "V3IN31IE16ns",
        "colab_type": "code",
        "outputId": "ef3a5527-a7e2-41d2-89fc-37f1ff28521e",
        "colab": {}
      },
      "source": [
        "2+2"
      ],
      "execution_count": 0,
      "outputs": [
        {
          "output_type": "execute_result",
          "data": {
            "text/plain": [
              "4"
            ]
          },
          "metadata": {
            "tags": []
          },
          "execution_count": 8
        }
      ]
    },
    {
      "cell_type": "code",
      "metadata": {
        "id": "I6ebJWX216nz",
        "colab_type": "code",
        "outputId": "b114f07d-81c1-42ab-a6a3-d5e7b38faf18",
        "colab": {}
      },
      "source": [
        "2-3"
      ],
      "execution_count": 0,
      "outputs": [
        {
          "output_type": "execute_result",
          "data": {
            "text/plain": [
              "-1"
            ]
          },
          "metadata": {
            "tags": []
          },
          "execution_count": 9
        }
      ]
    },
    {
      "cell_type": "code",
      "metadata": {
        "id": "cm15YCEX16oH",
        "colab_type": "code",
        "outputId": "414f6c5c-f3b7-4c7a-9220-4c9928d22d86",
        "colab": {}
      },
      "source": [
        "4*4"
      ],
      "execution_count": 0,
      "outputs": [
        {
          "output_type": "execute_result",
          "data": {
            "text/plain": [
              "16"
            ]
          },
          "metadata": {
            "tags": []
          },
          "execution_count": 10
        }
      ]
    },
    {
      "cell_type": "code",
      "metadata": {
        "id": "OCda-Wy816oU",
        "colab_type": "code",
        "outputId": "78602fbd-5ccc-4e06-e49e-486df9d7dad0",
        "colab": {}
      },
      "source": [
        "4**4"
      ],
      "execution_count": 0,
      "outputs": [
        {
          "output_type": "execute_result",
          "data": {
            "text/plain": [
              "256"
            ]
          },
          "metadata": {
            "tags": []
          },
          "execution_count": 11
        }
      ]
    },
    {
      "cell_type": "code",
      "metadata": {
        "id": "WrrZClOS16od",
        "colab_type": "code",
        "outputId": "3939e89e-d113-44d2-a80e-328eee194337",
        "colab": {}
      },
      "source": [
        "5%2"
      ],
      "execution_count": 0,
      "outputs": [
        {
          "output_type": "execute_result",
          "data": {
            "text/plain": [
              "1"
            ]
          },
          "metadata": {
            "tags": []
          },
          "execution_count": 12
        }
      ]
    },
    {
      "cell_type": "code",
      "metadata": {
        "id": "6UZq23YF16oj",
        "colab_type": "code",
        "outputId": "3888bda9-dcdd-45fe-f006-66080983610c",
        "colab": {}
      },
      "source": [
        "abs(-5)"
      ],
      "execution_count": 0,
      "outputs": [
        {
          "output_type": "execute_result",
          "data": {
            "text/plain": [
              "5"
            ]
          },
          "metadata": {
            "tags": []
          },
          "execution_count": 13
        }
      ]
    },
    {
      "cell_type": "code",
      "metadata": {
        "id": "lBvEQP4c16op",
        "colab_type": "code",
        "outputId": "0105e437-086b-4eb9-c272-08bad155d56c",
        "colab": {
          "base_uri": "https://localhost:8080/",
          "height": 35
        }
      },
      "source": [
        "str(3)"
      ],
      "execution_count": 0,
      "outputs": [
        {
          "output_type": "execute_result",
          "data": {
            "text/plain": [
              "'3'"
            ]
          },
          "metadata": {
            "tags": []
          },
          "execution_count": 8
        }
      ]
    },
    {
      "cell_type": "code",
      "metadata": {
        "id": "klyALX_f16ou",
        "colab_type": "code",
        "outputId": "c1de9e80-7fa7-4037-f0a9-347f4b210aa5",
        "colab": {}
      },
      "source": [
        "'Hola'*2"
      ],
      "execution_count": 0,
      "outputs": [
        {
          "output_type": "execute_result",
          "data": {
            "text/plain": [
              "'HolaHola'"
            ]
          },
          "metadata": {
            "tags": []
          },
          "execution_count": 15
        }
      ]
    },
    {
      "cell_type": "code",
      "metadata": {
        "id": "CsdbQZOx16oz",
        "colab_type": "code",
        "outputId": "8859ab96-45e1-4ac4-ff15-1a3dd705941c",
        "colab": {
          "base_uri": "https://localhost:8080/",
          "height": 35
        }
      },
      "source": [
        "a='Hola '+'Adios'\n",
        "a+' ....'"
      ],
      "execution_count": 0,
      "outputs": [
        {
          "output_type": "execute_result",
          "data": {
            "text/plain": [
              "'Hola Adios ....'"
            ]
          },
          "metadata": {
            "tags": []
          },
          "execution_count": 11
        }
      ]
    },
    {
      "cell_type": "code",
      "metadata": {
        "id": "bYmrW_WE16o5",
        "colab_type": "code",
        "outputId": "ee2ccf3d-2d4a-4190-c29b-4b43607cb0bd",
        "colab": {
          "base_uri": "https://localhost:8080/",
          "height": 35
        }
      },
      "source": [
        "int('2')"
      ],
      "execution_count": 0,
      "outputs": [
        {
          "output_type": "execute_result",
          "data": {
            "text/plain": [
              "2"
            ]
          },
          "metadata": {
            "tags": []
          },
          "execution_count": 13
        }
      ]
    },
    {
      "cell_type": "code",
      "metadata": {
        "id": "AGj7XaTv16o_",
        "colab_type": "code",
        "outputId": "e8f6e22f-7ad7-4990-a21f-f8a85f32d56f",
        "colab": {
          "base_uri": "https://localhost:8080/",
          "height": 35
        }
      },
      "source": [
        "float('2')"
      ],
      "execution_count": 0,
      "outputs": [
        {
          "output_type": "execute_result",
          "data": {
            "text/plain": [
              "2.0"
            ]
          },
          "metadata": {
            "tags": []
          },
          "execution_count": 14
        }
      ]
    },
    {
      "cell_type": "markdown",
      "metadata": {
        "id": "eGpWvmIZ16pD",
        "colab_type": "text"
      },
      "source": [
        "Utilizando estas operaciones se pueden hacer cosas interesantes como imprimir números muy grandes."
      ]
    },
    {
      "cell_type": "code",
      "metadata": {
        "id": "MYGLF6B916pF",
        "colab_type": "code",
        "outputId": "a1c74c80-1311-4ad1-a398-95d500578692",
        "colab": {}
      },
      "source": [
        "int('1'+'0'*100)"
      ],
      "execution_count": 0,
      "outputs": [
        {
          "output_type": "execute_result",
          "data": {
            "text/plain": [
              "10000000000000000000000000000000000000000000000000000000000000000000000000000000000000000000000000000"
            ]
          },
          "metadata": {
            "tags": []
          },
          "execution_count": 19
        }
      ]
    },
    {
      "cell_type": "markdown",
      "metadata": {
        "id": "cHtOU7fW16pK",
        "colab_type": "text"
      },
      "source": [
        "## Listas"
      ]
    },
    {
      "cell_type": "markdown",
      "metadata": {
        "id": "7c5kO02W16pM",
        "colab_type": "text"
      },
      "source": [
        "Las listas se definen utilizando corchetes y se les puede agregar cualquier tipo de objeto."
      ]
    },
    {
      "cell_type": "code",
      "metadata": {
        "id": "GsYBVW2R16pN",
        "colab_type": "code",
        "outputId": "f79579aa-2017-4d01-fc58-9870ce6d9e94",
        "colab": {}
      },
      "source": [
        "lista = []\n",
        "type(lista)"
      ],
      "execution_count": 0,
      "outputs": [
        {
          "output_type": "execute_result",
          "data": {
            "text/plain": [
              "list"
            ]
          },
          "metadata": {
            "tags": []
          },
          "execution_count": 20
        }
      ]
    },
    {
      "cell_type": "code",
      "metadata": {
        "id": "kNiaMvuK16pS",
        "colab_type": "code",
        "outputId": "ca72a572-96b3-4be8-878e-610b6c712175",
        "colab": {
          "base_uri": "https://localhost:8080/",
          "height": 35
        }
      },
      "source": [
        "lista=[1,2.0, \"3\"]\n",
        "print(lista)"
      ],
      "execution_count": 0,
      "outputs": [
        {
          "output_type": "stream",
          "text": [
            "[1, 2.0, '3']\n"
          ],
          "name": "stdout"
        }
      ]
    },
    {
      "cell_type": "markdown",
      "metadata": {
        "id": "1a7oG--T16pX",
        "colab_type": "text"
      },
      "source": [
        "Para acceder a los valores de la lista, se utilizan corchetes. Recuerden que los indices comienzan en 0."
      ]
    },
    {
      "cell_type": "code",
      "metadata": {
        "id": "Q38sU0GY16pY",
        "colab_type": "code",
        "outputId": "69bc7921-ce87-4f06-d4c4-569674b020a9",
        "colab": {
          "base_uri": "https://localhost:8080/",
          "height": 35
        }
      },
      "source": [
        "lista[2]"
      ],
      "execution_count": 0,
      "outputs": [
        {
          "output_type": "execute_result",
          "data": {
            "text/plain": [
              "'3'"
            ]
          },
          "metadata": {
            "tags": []
          },
          "execution_count": 28
        }
      ]
    },
    {
      "cell_type": "markdown",
      "metadata": {
        "id": "1oPstU4Q16pe",
        "colab_type": "text"
      },
      "source": [
        "Para medir la longitud de la lista, se utiliza `len`."
      ]
    },
    {
      "cell_type": "code",
      "metadata": {
        "id": "5-Y89_Tq16pg",
        "colab_type": "code",
        "outputId": "23220cc7-5b99-42e5-fa74-ce32d08978b4",
        "colab": {
          "base_uri": "https://localhost:8080/",
          "height": 35
        }
      },
      "source": [
        "len(lista)"
      ],
      "execution_count": 0,
      "outputs": [
        {
          "output_type": "execute_result",
          "data": {
            "text/plain": [
              "3"
            ]
          },
          "metadata": {
            "tags": []
          },
          "execution_count": 29
        }
      ]
    },
    {
      "cell_type": "markdown",
      "metadata": {
        "id": "D2CZBXa916pk",
        "colab_type": "text"
      },
      "source": [
        "Para agregar nuevos elementos se utiliza `append`."
      ]
    },
    {
      "cell_type": "code",
      "metadata": {
        "id": "9AQv0PJX16pl",
        "colab_type": "code",
        "outputId": "3804c49f-eaf5-4cfd-becb-32c06273621b",
        "colab": {
          "base_uri": "https://localhost:8080/",
          "height": 35
        }
      },
      "source": [
        "lista.append(4)\n",
        "print(lista)"
      ],
      "execution_count": 0,
      "outputs": [
        {
          "output_type": "stream",
          "text": [
            "[1, 2.0, '3', 4]\n"
          ],
          "name": "stdout"
        }
      ]
    },
    {
      "cell_type": "markdown",
      "metadata": {
        "id": "l_Z3bReY16pq",
        "colab_type": "text"
      },
      "source": [
        "Y podemos accesar a solamente un *slice* de la lista."
      ]
    },
    {
      "cell_type": "code",
      "metadata": {
        "id": "XioLGM6t16ps",
        "colab_type": "code",
        "outputId": "298a1010-19ad-4484-cdea-595a2c63ab71",
        "colab": {
          "base_uri": "https://localhost:8080/",
          "height": 35
        }
      },
      "source": [
        "lista[1:100]"
      ],
      "execution_count": 0,
      "outputs": [
        {
          "output_type": "execute_result",
          "data": {
            "text/plain": [
              "[2.0, '3', 4]"
            ]
          },
          "metadata": {
            "tags": []
          },
          "execution_count": 11
        }
      ]
    },
    {
      "cell_type": "code",
      "metadata": {
        "id": "afXf_y2B16qF",
        "colab_type": "code",
        "outputId": "eea8163f-4f87-4dcd-8e21-fdf6ccb9dfbc",
        "colab": {}
      },
      "source": [
        "lista[:2]"
      ],
      "execution_count": 0,
      "outputs": [
        {
          "output_type": "execute_result",
          "data": {
            "text/plain": [
              "[1, 2.0]"
            ]
          },
          "metadata": {
            "tags": []
          },
          "execution_count": 29
        }
      ]
    },
    {
      "cell_type": "code",
      "metadata": {
        "id": "enJ6ft1R16qK",
        "colab_type": "code",
        "outputId": "63876425-5fb4-434e-b123-4bcef01d1fb6",
        "colab": {}
      },
      "source": [
        "lista[1:]"
      ],
      "execution_count": 0,
      "outputs": [
        {
          "output_type": "execute_result",
          "data": {
            "text/plain": [
              "[2.0, '3', 4]"
            ]
          },
          "metadata": {
            "tags": []
          },
          "execution_count": 30
        }
      ]
    },
    {
      "cell_type": "code",
      "metadata": {
        "id": "0eYaaK_R16qQ",
        "colab_type": "code",
        "outputId": "94e98edc-d1e2-42d6-8002-ca71dcfac0dd",
        "colab": {}
      },
      "source": [
        "lista[::2]"
      ],
      "execution_count": 0,
      "outputs": [
        {
          "output_type": "execute_result",
          "data": {
            "text/plain": [
              "[2.0]"
            ]
          },
          "metadata": {
            "tags": []
          },
          "execution_count": 32
        }
      ]
    },
    {
      "cell_type": "markdown",
      "metadata": {
        "id": "Ho7MykmD16qU",
        "colab_type": "text"
      },
      "source": [
        "Al igual que con los strings, se pueden sumar las listas."
      ]
    },
    {
      "cell_type": "code",
      "metadata": {
        "id": "yamHawEB16qW",
        "colab_type": "code",
        "outputId": "2b234def-10cc-4621-df6f-42e2ef107d2e",
        "colab": {}
      },
      "source": [
        "lista+lista"
      ],
      "execution_count": 0,
      "outputs": [
        {
          "output_type": "execute_result",
          "data": {
            "text/plain": [
              "[1, 2.0, '3', 4, 1, 2.0, '3', 4]"
            ]
          },
          "metadata": {
            "tags": []
          },
          "execution_count": 33
        }
      ]
    },
    {
      "cell_type": "markdown",
      "metadata": {
        "id": "68_nHJON16qa",
        "colab_type": "text"
      },
      "source": [
        "Y para obtener un conjunto de valores únicos utlizamos `set`"
      ]
    },
    {
      "cell_type": "code",
      "metadata": {
        "id": "yNSDLO7D16qb",
        "colab_type": "code",
        "outputId": "6eaa7671-2ce9-41f5-b424-b4be63334655",
        "colab": {
          "base_uri": "https://localhost:8080/",
          "height": 35
        }
      },
      "source": [
        "set(lista+lista+[1, 2, 4, 3])"
      ],
      "execution_count": 0,
      "outputs": [
        {
          "output_type": "execute_result",
          "data": {
            "text/plain": [
              "{1, 2.0, '3', 3, 4}"
            ]
          },
          "metadata": {
            "tags": []
          },
          "execution_count": 14
        }
      ]
    },
    {
      "cell_type": "code",
      "metadata": {
        "id": "AX7n9aen16qe",
        "colab_type": "code",
        "outputId": "239c00d1-722b-4c29-e689-c6de3a77a8c4",
        "colab": {}
      },
      "source": [
        "type(set(lista+lista))"
      ],
      "execution_count": 0,
      "outputs": [
        {
          "output_type": "execute_result",
          "data": {
            "text/plain": [
              "set"
            ]
          },
          "metadata": {
            "tags": []
          },
          "execution_count": 37
        }
      ]
    },
    {
      "cell_type": "code",
      "metadata": {
        "id": "NuWIaydd16qi",
        "colab_type": "code",
        "outputId": "e386fb02-caae-4b5b-b27c-9e07b1e9fd70",
        "colab": {}
      },
      "source": [
        "\"Estamos aprendiendo Python\"[8:]"
      ],
      "execution_count": 0,
      "outputs": [
        {
          "output_type": "execute_result",
          "data": {
            "text/plain": [
              "'aprendiendo Python'"
            ]
          },
          "metadata": {
            "tags": []
          },
          "execution_count": 42
        }
      ]
    },
    {
      "cell_type": "markdown",
      "metadata": {
        "id": "Yx_EMnCn16qm",
        "colab_type": "text"
      },
      "source": [
        "## Booleanos"
      ]
    },
    {
      "cell_type": "code",
      "metadata": {
        "id": "6yrnoT1M16qm",
        "colab_type": "code",
        "outputId": "d82f18c4-1021-4abe-da7c-1f40dc677799",
        "colab": {
          "base_uri": "https://localhost:8080/",
          "height": 164
        }
      },
      "source": [
        "# Igualdad\n",
        "print(\"1 == 1: \", 1 == 1)\n",
        "print(\"1 != 1: \", 1 != 1)\n",
        "print(\"1 <= 2: \", 1 <= 2)\n",
        "print(\"1 >= 2: \", 1 >= 2)\n",
        "print(\"1 < 2: \", 1 < 2)\n",
        "print(\"1 > 2: \", 1 > 2)\n",
        "print(\"hola >= hola: \",\"hola\" >= \"hola\")\n",
        "print(\"'hola' in 'hola': \",\"hola\" in \"hola como estas\")"
      ],
      "execution_count": 0,
      "outputs": [
        {
          "output_type": "stream",
          "text": [
            "1 == 1:  True\n",
            "1 != 1:  False\n",
            "1 <= 2:  True\n",
            "1 >= 2:  False\n",
            "1 < 2:  True\n",
            "1 > 2:  False\n",
            "hola >= hola:  True\n",
            "'hola' in 'hola':  True\n"
          ],
          "name": "stdout"
        }
      ]
    },
    {
      "cell_type": "code",
      "metadata": {
        "id": "vZX6Vr5s16qq",
        "colab_type": "code",
        "outputId": "4ea39924-5fdb-4491-a7a5-b0bb168423c6",
        "colab": {}
      },
      "source": [
        "print('True & True: ', True & True)\n",
        "print('True & False: ', True & False)\n",
        "print('False & False: ', False & False)\n",
        "print('True | True: ', True | True)\n",
        "print('True | False: ', True | False)\n",
        "print('False | False: ', False | False)"
      ],
      "execution_count": 0,
      "outputs": [
        {
          "output_type": "stream",
          "text": [
            "True & True:  True\n",
            "True & False:  False\n",
            "False & False:  False\n",
            "True | True:  True\n",
            "True | False:  True\n",
            "False | False:  False\n"
          ],
          "name": "stdout"
        }
      ]
    },
    {
      "cell_type": "markdown",
      "metadata": {
        "id": "0hx0TC9w16qt",
        "colab_type": "text"
      },
      "source": [
        "También se pueden utilizar `or` y `and`."
      ]
    },
    {
      "cell_type": "code",
      "metadata": {
        "id": "bhWasj9M16qu",
        "colab_type": "code",
        "outputId": "5be80d43-f9d1-4f02-80e1-563c416c8fee",
        "colab": {}
      },
      "source": [
        "True or False"
      ],
      "execution_count": 0,
      "outputs": [
        {
          "output_type": "execute_result",
          "data": {
            "text/plain": [
              "True"
            ]
          },
          "metadata": {
            "tags": []
          },
          "execution_count": 47
        }
      ]
    },
    {
      "cell_type": "code",
      "metadata": {
        "id": "DelkyGwi16qy",
        "colab_type": "code",
        "outputId": "7d7e63b2-07dc-40b1-c9b6-925130fe6de2",
        "colab": {}
      },
      "source": [
        "True and False"
      ],
      "execution_count": 0,
      "outputs": [
        {
          "output_type": "execute_result",
          "data": {
            "text/plain": [
              "False"
            ]
          },
          "metadata": {
            "tags": []
          },
          "execution_count": 48
        }
      ]
    },
    {
      "cell_type": "code",
      "metadata": {
        "id": "enNhOTfr5slE",
        "colab_type": "code",
        "outputId": "5aaa1e5c-5064-4737-e90e-600a3728bde7",
        "colab": {
          "base_uri": "https://localhost:8080/",
          "height": 35
        }
      },
      "source": [
        "type(True)"
      ],
      "execution_count": 0,
      "outputs": [
        {
          "output_type": "execute_result",
          "data": {
            "text/plain": [
              "bool"
            ]
          },
          "metadata": {
            "tags": []
          },
          "execution_count": 16
        }
      ]
    },
    {
      "cell_type": "markdown",
      "metadata": {
        "id": "ZwBG3zij16q2",
        "colab_type": "text"
      },
      "source": [
        "## Condicionales y ciclos"
      ]
    },
    {
      "cell_type": "markdown",
      "metadata": {
        "id": "Ii-BpmSz16q4",
        "colab_type": "text"
      },
      "source": [
        "Podemos utilizar los los condicionales y los ciclos normales: `if`, `for` y `while`."
      ]
    },
    {
      "cell_type": "code",
      "metadata": {
        "id": "Et9crkJX16q4",
        "colab_type": "code",
        "outputId": "179296ef-2569-4658-d72e-b41c9dd16572",
        "colab": {
          "base_uri": "https://localhost:8080/",
          "height": 35
        }
      },
      "source": [
        "if True:\n",
        "  print('if')\n",
        "  if True:\n",
        "    a=1\n",
        "elif True:\n",
        "    print('elif')\n",
        "else:\n",
        "    print('else')"
      ],
      "execution_count": 0,
      "outputs": [
        {
          "output_type": "stream",
          "text": [
            "if\n"
          ],
          "name": "stdout"
        }
      ]
    },
    {
      "cell_type": "markdown",
      "metadata": {
        "id": "gYXZfadK16q9",
        "colab_type": "text"
      },
      "source": [
        "Dos ejemplos de objetos iterables son la función `range` y una lista."
      ]
    },
    {
      "cell_type": "code",
      "metadata": {
        "id": "lx_Ovv6d16q-",
        "colab_type": "code",
        "outputId": "58ad2535-51d8-4f7f-9ba9-f9b9986d4635",
        "colab": {
          "base_uri": "https://localhost:8080/",
          "height": 35
        }
      },
      "source": [
        "range(0,10,2)"
      ],
      "execution_count": 0,
      "outputs": [
        {
          "output_type": "execute_result",
          "data": {
            "text/plain": [
              "range(0, 10, 2)"
            ]
          },
          "metadata": {
            "tags": []
          },
          "execution_count": 23
        }
      ]
    },
    {
      "cell_type": "code",
      "metadata": {
        "id": "QsSDDdxC16rE",
        "colab_type": "code",
        "outputId": "bfe2d501-5a30-4b77-c3c3-c7673d9c98f1",
        "colab": {
          "base_uri": "https://localhost:8080/",
          "height": 54
        }
      },
      "source": [
        "for i in range(0,10,4):\n",
        "  if i>5:\n",
        "    print(i*2)\n",
        "print(i)"
      ],
      "execution_count": 0,
      "outputs": [
        {
          "output_type": "stream",
          "text": [
            "16\n",
            "8\n"
          ],
          "name": "stdout"
        }
      ]
    },
    {
      "cell_type": "code",
      "metadata": {
        "id": "XA5tt7d216rH",
        "colab_type": "code",
        "outputId": "3b227bbb-2816-4963-dfc5-323e2b2ae832",
        "colab": {
          "base_uri": "https://localhost:8080/",
          "height": 109
        }
      },
      "source": [
        "for i in lista:\n",
        "    print(i)"
      ],
      "execution_count": 0,
      "outputs": [
        {
          "output_type": "stream",
          "text": [
            "1\n",
            "2.0\n",
            "3\n",
            "4\n",
            "3\n"
          ],
          "name": "stdout"
        }
      ]
    },
    {
      "cell_type": "code",
      "metadata": {
        "id": "3jb3qvas16rL",
        "colab_type": "code",
        "outputId": "c4367c64-e463-4f4f-a1a4-462f4f0573fd",
        "colab": {
          "base_uri": "https://localhost:8080/",
          "height": 164
        }
      },
      "source": [
        "n=10\n",
        "while n>=3:\n",
        "    print(n)\n",
        "    n-=1"
      ],
      "execution_count": 0,
      "outputs": [
        {
          "output_type": "stream",
          "text": [
            "10\n",
            "9\n",
            "8\n",
            "7\n",
            "6\n",
            "5\n",
            "4\n",
            "3\n"
          ],
          "name": "stdout"
        }
      ]
    },
    {
      "cell_type": "markdown",
      "metadata": {
        "id": "xUYH3Clo16rN",
        "colab_type": "text"
      },
      "source": [
        "En Python se pueden crear listas directamente con un ciclo."
      ]
    },
    {
      "cell_type": "code",
      "metadata": {
        "id": "wPVSwr4H16rQ",
        "colab_type": "code",
        "outputId": "dc96ae00-ffb5-444f-faa2-896c80ba35e5",
        "colab": {
          "base_uri": "https://localhost:8080/",
          "height": 201
        }
      },
      "source": [
        "[1/(i+1) for i in range(0,10)]"
      ],
      "execution_count": 0,
      "outputs": [
        {
          "output_type": "execute_result",
          "data": {
            "text/plain": [
              "[1.0,\n",
              " 0.5,\n",
              " 0.3333333333333333,\n",
              " 0.25,\n",
              " 0.2,\n",
              " 0.16666666666666666,\n",
              " 0.14285714285714285,\n",
              " 0.125,\n",
              " 0.1111111111111111,\n",
              " 0.1]"
            ]
          },
          "metadata": {
            "tags": []
          },
          "execution_count": 36
        }
      ]
    },
    {
      "cell_type": "code",
      "metadata": {
        "id": "u2UA-j0p16rg",
        "colab_type": "code",
        "outputId": "2c553951-c66f-4c7a-d3d4-2ac83d763e68",
        "colab": {}
      },
      "source": [
        "type([i for i in range(0,10)])"
      ],
      "execution_count": 0,
      "outputs": [
        {
          "output_type": "execute_result",
          "data": {
            "text/plain": [
              "list"
            ]
          },
          "metadata": {
            "tags": []
          },
          "execution_count": 57
        }
      ]
    },
    {
      "cell_type": "code",
      "metadata": {
        "id": "bwI0QKcW16rj",
        "colab_type": "code",
        "outputId": "297ef94e-5279-4cc0-d490-271fff7cd7da",
        "colab": {}
      },
      "source": [
        "[i**2 for i in range(1,10)]"
      ],
      "execution_count": 0,
      "outputs": [
        {
          "output_type": "execute_result",
          "data": {
            "text/plain": [
              "[1, 4, 9, 16, 25, 36, 49, 64, 81]"
            ]
          },
          "metadata": {
            "tags": []
          },
          "execution_count": 58
        }
      ]
    },
    {
      "cell_type": "code",
      "metadata": {
        "id": "PdOQW2D716rn",
        "colab_type": "code",
        "outputId": "cb0f319a-fbf1-428d-e73d-8f21f55f93bd",
        "colab": {}
      },
      "source": [
        "[(i**3)/2 for i in range(0,10)]"
      ],
      "execution_count": 0,
      "outputs": [
        {
          "output_type": "execute_result",
          "data": {
            "text/plain": [
              "[0.0, 0.5, 4.0, 13.5, 32.0, 62.5, 108.0, 171.5, 256.0, 364.5]"
            ]
          },
          "metadata": {
            "tags": []
          },
          "execution_count": 59
        }
      ]
    },
    {
      "cell_type": "markdown",
      "metadata": {
        "id": "X5fs-GdA16rq",
        "colab_type": "text"
      },
      "source": [
        "## Funciones"
      ]
    },
    {
      "cell_type": "code",
      "metadata": {
        "id": "yBOG-DwN16rr",
        "colab_type": "code",
        "outputId": "607df765-9d7d-445c-d581-7535fd30513d",
        "colab": {
          "base_uri": "https://localhost:8080/",
          "height": 54
        }
      },
      "source": [
        "def cuadrado(x):\n",
        "  if x!=2:\n",
        "    print(x,\"!=2\")\n",
        "  return x**2\n",
        "cuadrado(3)"
      ],
      "execution_count": 0,
      "outputs": [
        {
          "output_type": "stream",
          "text": [
            "3 !=2\n"
          ],
          "name": "stdout"
        },
        {
          "output_type": "execute_result",
          "data": {
            "text/plain": [
              "9"
            ]
          },
          "metadata": {
            "tags": []
          },
          "execution_count": 38
        }
      ]
    },
    {
      "cell_type": "code",
      "metadata": {
        "id": "JceF04U516ru",
        "colab_type": "code",
        "outputId": "825595bb-9931-4512-e061-aac4667293af",
        "colab": {
          "base_uri": "https://localhost:8080/",
          "height": 35
        }
      },
      "source": [
        "def potencia_n(x,n):\n",
        "    return x**n\n",
        "x=potencia_n(2,4)\n",
        "x"
      ],
      "execution_count": 0,
      "outputs": [
        {
          "output_type": "execute_result",
          "data": {
            "text/plain": [
              "16"
            ]
          },
          "metadata": {
            "tags": []
          },
          "execution_count": 40
        }
      ]
    },
    {
      "cell_type": "code",
      "metadata": {
        "id": "dN-So2bQ16rx",
        "colab_type": "code",
        "outputId": "4550eb21-a7e4-4e42-fac0-894474f54a7a",
        "colab": {
          "base_uri": "https://localhost:8080/",
          "height": 201
        }
      },
      "source": [
        "def imprime_lista(lista):\n",
        "    for i in lista:\n",
        "        print(i)\n",
        "imprime_lista([1,2,3,4,5,6,7,8,9,0])\n"
      ],
      "execution_count": 0,
      "outputs": [
        {
          "output_type": "stream",
          "text": [
            "1\n",
            "2\n",
            "3\n",
            "4\n",
            "5\n",
            "6\n",
            "7\n",
            "8\n",
            "9\n",
            "0\n"
          ],
          "name": "stdout"
        }
      ]
    },
    {
      "cell_type": "markdown",
      "metadata": {
        "id": "PKDX7V3J16r1",
        "colab_type": "text"
      },
      "source": [
        "#### Ejercicio"
      ]
    },
    {
      "cell_type": "markdown",
      "metadata": {
        "id": "d7FKcEJ516r3",
        "colab_type": "text"
      },
      "source": [
        "Haz una funcion que reciba una lista de nombres de personas e imprima una lista de los nombres que contienen una 'a'.\n",
        "\n",
        "Nota: la 'a' que debe de contener no importa si es mayuscula o minuscula."
      ]
    },
    {
      "cell_type": "code",
      "metadata": {
        "id": "NjXfbf8y16r3",
        "colab_type": "code",
        "outputId": "49e338f8-8787-4b79-f511-8bf70d78a9d1",
        "colab": {
          "base_uri": "https://localhost:8080/",
          "height": 35
        }
      },
      "source": [
        "def nombres_con_a(lista):\n",
        "    lista_res=[]\n",
        "    for i in lista:\n",
        "        if ('a' in i or 'A' in i):\n",
        "            lista_res.append(i) \n",
        "    return lista_res\n",
        "nombres_con_a(['Dan', 'Andrea', 'Eyal', 'Diego', 'Jose', 'Daniela'])"
      ],
      "execution_count": 0,
      "outputs": [
        {
          "output_type": "execute_result",
          "data": {
            "text/plain": [
              "['Dan', 'Andrea', 'Eyal', 'Daniela']"
            ]
          },
          "metadata": {
            "tags": []
          },
          "execution_count": 47
        }
      ]
    },
    {
      "cell_type": "markdown",
      "metadata": {
        "id": "6MN_nbgb16r6",
        "colab_type": "text"
      },
      "source": [
        "## Diccionarios"
      ]
    },
    {
      "cell_type": "code",
      "metadata": {
        "id": "b1PQyhc216r7",
        "colab_type": "code",
        "outputId": "99c73cff-3bfc-408e-c372-902a18d7af96",
        "colab": {}
      },
      "source": [
        "dic = {}\n",
        "type(dic)"
      ],
      "execution_count": 0,
      "outputs": [
        {
          "output_type": "execute_result",
          "data": {
            "text/plain": [
              "dict"
            ]
          },
          "metadata": {
            "tags": []
          },
          "execution_count": 73
        }
      ]
    },
    {
      "cell_type": "code",
      "metadata": {
        "id": "OrnZbDCz16sU",
        "colab_type": "code",
        "colab": {}
      },
      "source": [
        "dic = {'llave 1':'valor 1', 'llave 2':'valor 2'}"
      ],
      "execution_count": 0,
      "outputs": []
    },
    {
      "cell_type": "code",
      "metadata": {
        "id": "WfHlZJ3X16sY",
        "colab_type": "code",
        "outputId": "44c7d742-c4d3-4960-e92d-a998bcb2a916",
        "colab": {}
      },
      "source": [
        "dic"
      ],
      "execution_count": 0,
      "outputs": [
        {
          "output_type": "execute_result",
          "data": {
            "text/plain": [
              "{'llave 1': 'valor 1', 'llave 2': 'valor 2'}"
            ]
          },
          "metadata": {
            "tags": []
          },
          "execution_count": 75
        }
      ]
    },
    {
      "cell_type": "code",
      "metadata": {
        "id": "mgI10Vvx16sc",
        "colab_type": "code",
        "outputId": "dbf68fc2-37fc-491d-efa4-ee2b8119e1ca",
        "colab": {}
      },
      "source": [
        "dic['llave 1']"
      ],
      "execution_count": 0,
      "outputs": [
        {
          "output_type": "execute_result",
          "data": {
            "text/plain": [
              "'valor 1'"
            ]
          },
          "metadata": {
            "tags": []
          },
          "execution_count": 76
        }
      ]
    },
    {
      "cell_type": "markdown",
      "metadata": {
        "id": "BdRgl3h-16sg",
        "colab_type": "text"
      },
      "source": [
        "Los diccionarios tienen dos listas principales: llaves (`keys`) y valores (`values`)."
      ]
    },
    {
      "cell_type": "code",
      "metadata": {
        "id": "A6QlxaA916sh",
        "colab_type": "code",
        "outputId": "402aaae0-f40a-4c60-b1b6-7d3d74896677",
        "colab": {}
      },
      "source": [
        "dic.keys()"
      ],
      "execution_count": 0,
      "outputs": [
        {
          "output_type": "execute_result",
          "data": {
            "text/plain": [
              "dict_keys(['llave 1', 'llave 2'])"
            ]
          },
          "metadata": {
            "tags": []
          },
          "execution_count": 77
        }
      ]
    },
    {
      "cell_type": "code",
      "metadata": {
        "id": "M2lazlis16sk",
        "colab_type": "code",
        "outputId": "189dcd11-a670-4975-9dd9-00ad52dbebd9",
        "colab": {
          "base_uri": "https://localhost:8080/",
          "height": 35
        }
      },
      "source": [
        "dic.values()"
      ],
      "execution_count": 0,
      "outputs": [
        {
          "output_type": "execute_result",
          "data": {
            "text/plain": [
              "dict_values(['valor 1', 'valor 2'])"
            ]
          },
          "metadata": {
            "tags": []
          },
          "execution_count": 52
        }
      ]
    },
    {
      "cell_type": "code",
      "metadata": {
        "id": "K8gARRtO16sn",
        "colab_type": "code",
        "outputId": "8b28c918-bbfe-4dca-9a7e-ad4b17c2f789",
        "colab": {
          "base_uri": "https://localhost:8080/",
          "height": 90
        }
      },
      "source": [
        "calificaciones = {'Juan':7,\n",
        "                  'Pedro':8,\n",
        "                  'Jose':6,\n",
        "                  'Gabriel':10,\n",
        "                  'Juan': 10}\n",
        "for i in calificaciones.keys():\n",
        "    print('La calificación de',i,'es',calificaciones[i])"
      ],
      "execution_count": 0,
      "outputs": [
        {
          "output_type": "stream",
          "text": [
            "La calificación de Juan es 10\n",
            "La calificación de Pedro es 8\n",
            "La calificación de Jose es 6\n",
            "La calificación de Gabriel es 10\n"
          ],
          "name": "stdout"
        }
      ]
    },
    {
      "cell_type": "markdown",
      "metadata": {
        "id": "EgDQvgKl16sp",
        "colab_type": "text"
      },
      "source": [
        "## Archivos"
      ]
    },
    {
      "cell_type": "markdown",
      "metadata": {
        "id": "2V5B9-bZ16sq",
        "colab_type": "text"
      },
      "source": [
        "En Python, según lo que queramos hacer con el archivo, hay varias cosas diferentes que se pueden hacer. Pero siempre lo primero que se debe de hacer es abrir el archivo."
      ]
    },
    {
      "cell_type": "code",
      "metadata": {
        "id": "uZsbstq316sr",
        "colab_type": "code",
        "outputId": "10527fff-86bb-4b3a-ae29-1d7a0dad00da",
        "colab": {}
      },
      "source": [
        "archivo = open('/content/drive/My Drive/nombres.txt')\n",
        "type(archivo)"
      ],
      "execution_count": 0,
      "outputs": [
        {
          "output_type": "execute_result",
          "data": {
            "text/plain": [
              "_io.TextIOWrapper"
            ]
          },
          "metadata": {
            "tags": []
          },
          "execution_count": 80
        }
      ]
    },
    {
      "cell_type": "markdown",
      "metadata": {
        "id": "umJ2c8y416su",
        "colab_type": "text"
      },
      "source": [
        "Después de utilizar el archivo, se debe de cerrar."
      ]
    },
    {
      "cell_type": "code",
      "metadata": {
        "id": "2VKvO7Ht16sv",
        "colab_type": "code",
        "colab": {}
      },
      "source": [
        "archivo.close()"
      ],
      "execution_count": 0,
      "outputs": []
    },
    {
      "cell_type": "markdown",
      "metadata": {
        "id": "I1gPSD5T16sy",
        "colab_type": "text"
      },
      "source": [
        "### Lectura"
      ]
    },
    {
      "cell_type": "code",
      "metadata": {
        "id": "U54yLj-A16sz",
        "colab_type": "code",
        "outputId": "d14b1c20-8f78-4bac-ce6e-bc5977abcd25",
        "colab": {}
      },
      "source": [
        "archivo = open('nombres.txt')\n",
        "nombres = archivo.read()\n",
        "archivo.close()\n",
        "nombres"
      ],
      "execution_count": 0,
      "outputs": [
        {
          "output_type": "execute_result",
          "data": {
            "text/plain": [
              "'Juan\\nAndrea\\nPedro\\nEsther\\nJose\\nRicardo\\nElias'"
            ]
          },
          "metadata": {
            "tags": []
          },
          "execution_count": 82
        }
      ]
    },
    {
      "cell_type": "code",
      "metadata": {
        "id": "YzuGhNZ816s1",
        "colab_type": "code",
        "outputId": "3c9e810d-7435-41bd-c706-34e3ea0ba9cf",
        "colab": {}
      },
      "source": [
        "print(nombres)"
      ],
      "execution_count": 0,
      "outputs": [
        {
          "output_type": "stream",
          "text": [
            "Juan\n",
            "Andrea\n",
            "Pedro\n",
            "Esther\n",
            "Jose\n",
            "Ricardo\n",
            "Elias\n"
          ],
          "name": "stdout"
        }
      ]
    },
    {
      "cell_type": "markdown",
      "metadata": {
        "id": "XECy3ALE16s7",
        "colab_type": "text"
      },
      "source": [
        "En los archivos, las lineas diferentes se pueden ver con `\\n` por eso, tenemos que utilizar `split` plara limpiarlo y convertirlo en una lista."
      ]
    },
    {
      "cell_type": "code",
      "metadata": {
        "id": "if0iDFTJ16s8",
        "colab_type": "code",
        "outputId": "2a493f08-5853-4e71-89ef-68ae24843f51",
        "colab": {}
      },
      "source": [
        "nombres.split('\\n')"
      ],
      "execution_count": 0,
      "outputs": [
        {
          "output_type": "execute_result",
          "data": {
            "text/plain": [
              "['Juan', 'Andrea', 'Pedro', 'Esther', 'Jose', 'Ricardo', 'Elias']"
            ]
          },
          "metadata": {
            "tags": []
          },
          "execution_count": 84
        }
      ]
    },
    {
      "cell_type": "markdown",
      "metadata": {
        "id": "M0riEP2w16tA",
        "colab_type": "text"
      },
      "source": [
        "Otra manera de leer el archivo es como una lista de renglones con `readlines`."
      ]
    },
    {
      "cell_type": "code",
      "metadata": {
        "id": "FwTXctVI16tA",
        "colab_type": "code",
        "outputId": "9bd8805a-11fa-448f-ae2e-a8db64f6e1ee",
        "colab": {}
      },
      "source": [
        "archivo = open('nombres.txt')\n",
        "nombres = archivo.readlines()\n",
        "archivo.close()\n",
        "nombres"
      ],
      "execution_count": 0,
      "outputs": [
        {
          "output_type": "execute_result",
          "data": {
            "text/plain": [
              "['Juan\\n', 'Andrea\\n', 'Pedro\\n', 'Esther\\n', 'Jose\\n', 'Ricardo\\n', 'Elias']"
            ]
          },
          "metadata": {
            "tags": []
          },
          "execution_count": 85
        }
      ]
    },
    {
      "cell_type": "markdown",
      "metadata": {
        "id": "_SyCmFMb16tD",
        "colab_type": "text"
      },
      "source": [
        "Por último, se puede utilizar `with` para no tener que cerrar el archivo."
      ]
    },
    {
      "cell_type": "code",
      "metadata": {
        "id": "84H_tgfT16tE",
        "colab_type": "code",
        "outputId": "8771f640-ebc5-485e-8504-1b6f2b948b22",
        "colab": {}
      },
      "source": [
        "with open('nombres.txt') as archivo:\n",
        "    nombres = archivo.readlines()\n",
        "nombres"
      ],
      "execution_count": 0,
      "outputs": [
        {
          "output_type": "execute_result",
          "data": {
            "text/plain": [
              "['Juan\\n', 'Andrea\\n', 'Pedro\\n', 'Esther\\n', 'Jose\\n', 'Ricardo\\n', 'Elias']"
            ]
          },
          "metadata": {
            "tags": []
          },
          "execution_count": 86
        }
      ]
    },
    {
      "cell_type": "markdown",
      "metadata": {
        "id": "ZKQ976JR16tH",
        "colab_type": "text"
      },
      "source": [
        "### Escritura"
      ]
    },
    {
      "cell_type": "markdown",
      "metadata": {
        "id": "B4zQ227M16tI",
        "colab_type": "text"
      },
      "source": [
        "Para escribir en un archivo, se tiene que utilizar `'w'` para escribirlo desde cero o `'a'` para agregar cosas."
      ]
    },
    {
      "cell_type": "code",
      "metadata": {
        "id": "7ns9lVP916tI",
        "colab_type": "code",
        "colab": {}
      },
      "source": [
        "with open('arch.txt','w') as f:\n",
        "    f.write('Hola')"
      ],
      "execution_count": 0,
      "outputs": []
    },
    {
      "cell_type": "code",
      "metadata": {
        "id": "4j1oOycv16tL",
        "colab_type": "code",
        "colab": {}
      },
      "source": [
        "with open('arch.txt','w') as f:\n",
        "    f.write('Adios')"
      ],
      "execution_count": 0,
      "outputs": []
    },
    {
      "cell_type": "code",
      "metadata": {
        "id": "uGo0jgWR16tP",
        "colab_type": "code",
        "colab": {}
      },
      "source": [
        "with open('arch.txt','a') as f:\n",
        "    f.write('Hola')"
      ],
      "execution_count": 0,
      "outputs": []
    },
    {
      "cell_type": "markdown",
      "metadata": {
        "id": "boRXmu0e16tU",
        "colab_type": "text"
      },
      "source": [
        "Recuerden agregar `\\n` para hacer saltos de linea."
      ]
    },
    {
      "cell_type": "markdown",
      "metadata": {
        "id": "wmJLHKGT16tU",
        "colab_type": "text"
      },
      "source": [
        "## Ejercicio"
      ]
    },
    {
      "cell_type": "markdown",
      "metadata": {
        "id": "9bqELIm_16tV",
        "colab_type": "text"
      },
      "source": [
        "Busquen un archivo de texto con La Iliada en http://www.gutenberg.org/cache/epub/2199/pg2199.txt.\n",
        "* ¿Cuántas palabras tiene en total?\n",
        "* ¿Cuántas palabras son únicas?"
      ]
    },
    {
      "cell_type": "code",
      "metadata": {
        "id": "JwDCu3g_16tW",
        "colab_type": "code",
        "colab": {}
      },
      "source": [
        "with open('iliada.txt') as f:\n",
        "    iliada = f.read().replace(',','').replace('.','').split()"
      ],
      "execution_count": 0,
      "outputs": []
    },
    {
      "cell_type": "code",
      "metadata": {
        "id": "ZKI6tpBm16tY",
        "colab_type": "code",
        "outputId": "8cfe096b-3c7c-48d6-d42a-a92bbf8876e5",
        "colab": {}
      },
      "source": [
        "len(iliada)"
      ],
      "execution_count": 0,
      "outputs": [
        {
          "output_type": "execute_result",
          "data": {
            "text/plain": [
              "155731"
            ]
          },
          "metadata": {
            "tags": []
          },
          "execution_count": 93
        }
      ]
    },
    {
      "cell_type": "code",
      "metadata": {
        "id": "xHkedIj816tb",
        "colab_type": "code",
        "outputId": "6fc7b591-9f2e-4bee-d525-b1c4895dc865",
        "colab": {}
      },
      "source": [
        "palabras_iliada = set(iliada)\n",
        "len(palabras_iliada)"
      ],
      "execution_count": 0,
      "outputs": [
        {
          "output_type": "execute_result",
          "data": {
            "text/plain": [
              "10882"
            ]
          },
          "metadata": {
            "tags": []
          },
          "execution_count": 95
        }
      ]
    },
    {
      "cell_type": "markdown",
      "metadata": {
        "id": "93zXJi0116td",
        "colab_type": "text"
      },
      "source": [
        "# Pandas y Matplotlib"
      ]
    },
    {
      "cell_type": "markdown",
      "metadata": {
        "id": "Mz-LTSZ216te",
        "colab_type": "text"
      },
      "source": [
        "Ya sabiendo utilzar Python básico, podemos comenzar a utilizar una de las librerías que más se utilizan para manejar datos y otra para visualización de datos."
      ]
    },
    {
      "cell_type": "code",
      "metadata": {
        "id": "_qmZOI6516tf",
        "colab_type": "code",
        "colab": {}
      },
      "source": [
        "import pandas as pd\n",
        "import matplotlib.pyplot as plt"
      ],
      "execution_count": 0,
      "outputs": []
    },
    {
      "cell_type": "markdown",
      "metadata": {
        "id": "OuNPJ1vv16th",
        "colab_type": "text"
      },
      "source": [
        "## Series y DataFrames"
      ]
    },
    {
      "cell_type": "code",
      "metadata": {
        "id": "qK7BLJxB16th",
        "colab_type": "code",
        "outputId": "801c8546-18da-4c8c-d23b-748631ed59ea",
        "colab": {}
      },
      "source": [
        "pd.Series({'a':[1,2,3,4,5,6]})"
      ],
      "execution_count": 0,
      "outputs": [
        {
          "output_type": "execute_result",
          "data": {
            "text/plain": [
              "a    [1, 2, 3, 4, 5, 6]\n",
              "dtype: object"
            ]
          },
          "metadata": {
            "tags": []
          },
          "execution_count": 97
        }
      ]
    },
    {
      "cell_type": "code",
      "metadata": {
        "id": "bDZz6mrH16tk",
        "colab_type": "code",
        "outputId": "8ff21612-85d9-4d04-cc84-2a3581629db0",
        "colab": {}
      },
      "source": [
        "pd.DataFrame({'a':[1,2,3,4,5], 'b':[5,4,3,2,1]})"
      ],
      "execution_count": 0,
      "outputs": [
        {
          "output_type": "execute_result",
          "data": {
            "text/html": [
              "<div>\n",
              "<style scoped>\n",
              "    .dataframe tbody tr th:only-of-type {\n",
              "        vertical-align: middle;\n",
              "    }\n",
              "\n",
              "    .dataframe tbody tr th {\n",
              "        vertical-align: top;\n",
              "    }\n",
              "\n",
              "    .dataframe thead th {\n",
              "        text-align: right;\n",
              "    }\n",
              "</style>\n",
              "<table border=\"1\" class=\"dataframe\">\n",
              "  <thead>\n",
              "    <tr style=\"text-align: right;\">\n",
              "      <th></th>\n",
              "      <th>a</th>\n",
              "      <th>b</th>\n",
              "    </tr>\n",
              "  </thead>\n",
              "  <tbody>\n",
              "    <tr>\n",
              "      <th>0</th>\n",
              "      <td>1</td>\n",
              "      <td>5</td>\n",
              "    </tr>\n",
              "    <tr>\n",
              "      <th>1</th>\n",
              "      <td>2</td>\n",
              "      <td>4</td>\n",
              "    </tr>\n",
              "    <tr>\n",
              "      <th>2</th>\n",
              "      <td>3</td>\n",
              "      <td>3</td>\n",
              "    </tr>\n",
              "    <tr>\n",
              "      <th>3</th>\n",
              "      <td>4</td>\n",
              "      <td>2</td>\n",
              "    </tr>\n",
              "    <tr>\n",
              "      <th>4</th>\n",
              "      <td>5</td>\n",
              "      <td>1</td>\n",
              "    </tr>\n",
              "  </tbody>\n",
              "</table>\n",
              "</div>"
            ],
            "text/plain": [
              "   a  b\n",
              "0  1  5\n",
              "1  2  4\n",
              "2  3  3\n",
              "3  4  2\n",
              "4  5  1"
            ]
          },
          "metadata": {
            "tags": []
          },
          "execution_count": 101
        }
      ]
    },
    {
      "cell_type": "code",
      "metadata": {
        "id": "b6QJ1kSW16tn",
        "colab_type": "code",
        "outputId": "557c6c97-64e7-4a7a-be2f-cc984b073352",
        "colab": {}
      },
      "source": [
        "indices = ['a','b','c','d']\n",
        "columns = [1,2,3,4,5]\n",
        "df = pd.DataFrame(index=indices,columns=columns)\n",
        "df"
      ],
      "execution_count": 0,
      "outputs": [
        {
          "output_type": "execute_result",
          "data": {
            "text/html": [
              "<div>\n",
              "<style scoped>\n",
              "    .dataframe tbody tr th:only-of-type {\n",
              "        vertical-align: middle;\n",
              "    }\n",
              "\n",
              "    .dataframe tbody tr th {\n",
              "        vertical-align: top;\n",
              "    }\n",
              "\n",
              "    .dataframe thead th {\n",
              "        text-align: right;\n",
              "    }\n",
              "</style>\n",
              "<table border=\"1\" class=\"dataframe\">\n",
              "  <thead>\n",
              "    <tr style=\"text-align: right;\">\n",
              "      <th></th>\n",
              "      <th>1</th>\n",
              "      <th>2</th>\n",
              "      <th>3</th>\n",
              "      <th>4</th>\n",
              "      <th>5</th>\n",
              "    </tr>\n",
              "  </thead>\n",
              "  <tbody>\n",
              "    <tr>\n",
              "      <th>a</th>\n",
              "      <td>NaN</td>\n",
              "      <td>NaN</td>\n",
              "      <td>NaN</td>\n",
              "      <td>NaN</td>\n",
              "      <td>NaN</td>\n",
              "    </tr>\n",
              "    <tr>\n",
              "      <th>b</th>\n",
              "      <td>NaN</td>\n",
              "      <td>NaN</td>\n",
              "      <td>NaN</td>\n",
              "      <td>NaN</td>\n",
              "      <td>NaN</td>\n",
              "    </tr>\n",
              "    <tr>\n",
              "      <th>c</th>\n",
              "      <td>NaN</td>\n",
              "      <td>NaN</td>\n",
              "      <td>NaN</td>\n",
              "      <td>NaN</td>\n",
              "      <td>NaN</td>\n",
              "    </tr>\n",
              "    <tr>\n",
              "      <th>d</th>\n",
              "      <td>NaN</td>\n",
              "      <td>NaN</td>\n",
              "      <td>NaN</td>\n",
              "      <td>NaN</td>\n",
              "      <td>NaN</td>\n",
              "    </tr>\n",
              "  </tbody>\n",
              "</table>\n",
              "</div>"
            ],
            "text/plain": [
              "     1    2    3    4    5\n",
              "a  NaN  NaN  NaN  NaN  NaN\n",
              "b  NaN  NaN  NaN  NaN  NaN\n",
              "c  NaN  NaN  NaN  NaN  NaN\n",
              "d  NaN  NaN  NaN  NaN  NaN"
            ]
          },
          "metadata": {
            "tags": []
          },
          "execution_count": 103
        }
      ]
    },
    {
      "cell_type": "code",
      "metadata": {
        "id": "DG5GR7ps16t5",
        "colab_type": "code",
        "outputId": "32479665-0334-4976-bac1-ae058c1097d1",
        "colab": {}
      },
      "source": [
        "df.fillna('a')"
      ],
      "execution_count": 0,
      "outputs": [
        {
          "output_type": "execute_result",
          "data": {
            "text/html": [
              "<div>\n",
              "<style scoped>\n",
              "    .dataframe tbody tr th:only-of-type {\n",
              "        vertical-align: middle;\n",
              "    }\n",
              "\n",
              "    .dataframe tbody tr th {\n",
              "        vertical-align: top;\n",
              "    }\n",
              "\n",
              "    .dataframe thead th {\n",
              "        text-align: right;\n",
              "    }\n",
              "</style>\n",
              "<table border=\"1\" class=\"dataframe\">\n",
              "  <thead>\n",
              "    <tr style=\"text-align: right;\">\n",
              "      <th></th>\n",
              "      <th>1</th>\n",
              "      <th>2</th>\n",
              "      <th>3</th>\n",
              "      <th>4</th>\n",
              "      <th>5</th>\n",
              "    </tr>\n",
              "  </thead>\n",
              "  <tbody>\n",
              "    <tr>\n",
              "      <th>a</th>\n",
              "      <td>a</td>\n",
              "      <td>a</td>\n",
              "      <td>a</td>\n",
              "      <td>a</td>\n",
              "      <td>a</td>\n",
              "    </tr>\n",
              "    <tr>\n",
              "      <th>b</th>\n",
              "      <td>a</td>\n",
              "      <td>a</td>\n",
              "      <td>a</td>\n",
              "      <td>a</td>\n",
              "      <td>a</td>\n",
              "    </tr>\n",
              "    <tr>\n",
              "      <th>c</th>\n",
              "      <td>a</td>\n",
              "      <td>a</td>\n",
              "      <td>a</td>\n",
              "      <td>a</td>\n",
              "      <td>a</td>\n",
              "    </tr>\n",
              "    <tr>\n",
              "      <th>d</th>\n",
              "      <td>a</td>\n",
              "      <td>a</td>\n",
              "      <td>a</td>\n",
              "      <td>a</td>\n",
              "      <td>a</td>\n",
              "    </tr>\n",
              "  </tbody>\n",
              "</table>\n",
              "</div>"
            ],
            "text/plain": [
              "   1  2  3  4  5\n",
              "a  a  a  a  a  a\n",
              "b  a  a  a  a  a\n",
              "c  a  a  a  a  a\n",
              "d  a  a  a  a  a"
            ]
          },
          "metadata": {
            "tags": []
          },
          "execution_count": 105
        }
      ]
    },
    {
      "cell_type": "markdown",
      "metadata": {
        "id": "ScXxlD3a16t_",
        "colab_type": "text"
      },
      "source": [
        "## Trabajando con datos"
      ]
    },
    {
      "cell_type": "markdown",
      "metadata": {
        "id": "WwVJeNbO16uA",
        "colab_type": "text"
      },
      "source": [
        "Bajen el DataSet de futbol de https://www.kaggle.com/tadhgfitzgerald/fifa-international-soccer-mens-ranking-1993now y pongan el archivo CSV en la misma carpeta en que están trabajando."
      ]
    },
    {
      "cell_type": "code",
      "metadata": {
        "id": "x1Bmx0WI16uD",
        "colab_type": "code",
        "outputId": "946fad8b-0003-4aed-ee8a-d85399dacc36",
        "colab": {}
      },
      "source": [
        "fifa = pd.read_csv('fifa_ranking.csv')\n",
        "fifa.head(5)"
      ],
      "execution_count": 0,
      "outputs": [
        {
          "output_type": "execute_result",
          "data": {
            "text/html": [
              "<div>\n",
              "<style scoped>\n",
              "    .dataframe tbody tr th:only-of-type {\n",
              "        vertical-align: middle;\n",
              "    }\n",
              "\n",
              "    .dataframe tbody tr th {\n",
              "        vertical-align: top;\n",
              "    }\n",
              "\n",
              "    .dataframe thead th {\n",
              "        text-align: right;\n",
              "    }\n",
              "</style>\n",
              "<table border=\"1\" class=\"dataframe\">\n",
              "  <thead>\n",
              "    <tr style=\"text-align: right;\">\n",
              "      <th></th>\n",
              "      <th>rank</th>\n",
              "      <th>country_full</th>\n",
              "      <th>country_abrv</th>\n",
              "      <th>total_points</th>\n",
              "      <th>previous_points</th>\n",
              "      <th>rank_change</th>\n",
              "      <th>cur_year_avg</th>\n",
              "      <th>cur_year_avg_weighted</th>\n",
              "      <th>last_year_avg</th>\n",
              "      <th>last_year_avg_weighted</th>\n",
              "      <th>two_year_ago_avg</th>\n",
              "      <th>two_year_ago_weighted</th>\n",
              "      <th>three_year_ago_avg</th>\n",
              "      <th>three_year_ago_weighted</th>\n",
              "      <th>confederation</th>\n",
              "      <th>rank_date</th>\n",
              "    </tr>\n",
              "  </thead>\n",
              "  <tbody>\n",
              "    <tr>\n",
              "      <th>0</th>\n",
              "      <td>1</td>\n",
              "      <td>Germany</td>\n",
              "      <td>GER</td>\n",
              "      <td>0.0</td>\n",
              "      <td>57</td>\n",
              "      <td>0</td>\n",
              "      <td>0.0</td>\n",
              "      <td>0.0</td>\n",
              "      <td>0.0</td>\n",
              "      <td>0.0</td>\n",
              "      <td>0.0</td>\n",
              "      <td>0.0</td>\n",
              "      <td>0.0</td>\n",
              "      <td>0.0</td>\n",
              "      <td>UEFA</td>\n",
              "      <td>1993-08-08</td>\n",
              "    </tr>\n",
              "    <tr>\n",
              "      <th>1</th>\n",
              "      <td>2</td>\n",
              "      <td>Italy</td>\n",
              "      <td>ITA</td>\n",
              "      <td>0.0</td>\n",
              "      <td>57</td>\n",
              "      <td>0</td>\n",
              "      <td>0.0</td>\n",
              "      <td>0.0</td>\n",
              "      <td>0.0</td>\n",
              "      <td>0.0</td>\n",
              "      <td>0.0</td>\n",
              "      <td>0.0</td>\n",
              "      <td>0.0</td>\n",
              "      <td>0.0</td>\n",
              "      <td>UEFA</td>\n",
              "      <td>1993-08-08</td>\n",
              "    </tr>\n",
              "    <tr>\n",
              "      <th>2</th>\n",
              "      <td>3</td>\n",
              "      <td>Switzerland</td>\n",
              "      <td>SUI</td>\n",
              "      <td>0.0</td>\n",
              "      <td>50</td>\n",
              "      <td>9</td>\n",
              "      <td>0.0</td>\n",
              "      <td>0.0</td>\n",
              "      <td>0.0</td>\n",
              "      <td>0.0</td>\n",
              "      <td>0.0</td>\n",
              "      <td>0.0</td>\n",
              "      <td>0.0</td>\n",
              "      <td>0.0</td>\n",
              "      <td>UEFA</td>\n",
              "      <td>1993-08-08</td>\n",
              "    </tr>\n",
              "    <tr>\n",
              "      <th>3</th>\n",
              "      <td>4</td>\n",
              "      <td>Sweden</td>\n",
              "      <td>SWE</td>\n",
              "      <td>0.0</td>\n",
              "      <td>55</td>\n",
              "      <td>0</td>\n",
              "      <td>0.0</td>\n",
              "      <td>0.0</td>\n",
              "      <td>0.0</td>\n",
              "      <td>0.0</td>\n",
              "      <td>0.0</td>\n",
              "      <td>0.0</td>\n",
              "      <td>0.0</td>\n",
              "      <td>0.0</td>\n",
              "      <td>UEFA</td>\n",
              "      <td>1993-08-08</td>\n",
              "    </tr>\n",
              "    <tr>\n",
              "      <th>4</th>\n",
              "      <td>5</td>\n",
              "      <td>Argentina</td>\n",
              "      <td>ARG</td>\n",
              "      <td>0.0</td>\n",
              "      <td>51</td>\n",
              "      <td>5</td>\n",
              "      <td>0.0</td>\n",
              "      <td>0.0</td>\n",
              "      <td>0.0</td>\n",
              "      <td>0.0</td>\n",
              "      <td>0.0</td>\n",
              "      <td>0.0</td>\n",
              "      <td>0.0</td>\n",
              "      <td>0.0</td>\n",
              "      <td>CONMEBOL</td>\n",
              "      <td>1993-08-08</td>\n",
              "    </tr>\n",
              "  </tbody>\n",
              "</table>\n",
              "</div>"
            ],
            "text/plain": [
              "   rank country_full country_abrv  total_points  previous_points  rank_change  \\\n",
              "0     1      Germany          GER           0.0               57            0   \n",
              "1     2        Italy          ITA           0.0               57            0   \n",
              "2     3  Switzerland          SUI           0.0               50            9   \n",
              "3     4       Sweden          SWE           0.0               55            0   \n",
              "4     5    Argentina          ARG           0.0               51            5   \n",
              "\n",
              "   cur_year_avg  cur_year_avg_weighted  last_year_avg  last_year_avg_weighted  \\\n",
              "0           0.0                    0.0            0.0                     0.0   \n",
              "1           0.0                    0.0            0.0                     0.0   \n",
              "2           0.0                    0.0            0.0                     0.0   \n",
              "3           0.0                    0.0            0.0                     0.0   \n",
              "4           0.0                    0.0            0.0                     0.0   \n",
              "\n",
              "   two_year_ago_avg  two_year_ago_weighted  three_year_ago_avg  \\\n",
              "0               0.0                    0.0                 0.0   \n",
              "1               0.0                    0.0                 0.0   \n",
              "2               0.0                    0.0                 0.0   \n",
              "3               0.0                    0.0                 0.0   \n",
              "4               0.0                    0.0                 0.0   \n",
              "\n",
              "   three_year_ago_weighted confederation   rank_date  \n",
              "0                      0.0          UEFA  1993-08-08  \n",
              "1                      0.0          UEFA  1993-08-08  \n",
              "2                      0.0          UEFA  1993-08-08  \n",
              "3                      0.0          UEFA  1993-08-08  \n",
              "4                      0.0      CONMEBOL  1993-08-08  "
            ]
          },
          "metadata": {
            "tags": []
          },
          "execution_count": 108
        }
      ]
    },
    {
      "cell_type": "code",
      "metadata": {
        "id": "qBRLJRph16uL",
        "colab_type": "code",
        "outputId": "2548cc5a-1fe1-4f6e-b7a4-0c1ab4de0f50",
        "colab": {}
      },
      "source": [
        "fifa.set_index('rank', inplace = True)\n",
        "fifa.head()"
      ],
      "execution_count": 0,
      "outputs": [
        {
          "output_type": "execute_result",
          "data": {
            "text/html": [
              "<div>\n",
              "<style scoped>\n",
              "    .dataframe tbody tr th:only-of-type {\n",
              "        vertical-align: middle;\n",
              "    }\n",
              "\n",
              "    .dataframe tbody tr th {\n",
              "        vertical-align: top;\n",
              "    }\n",
              "\n",
              "    .dataframe thead th {\n",
              "        text-align: right;\n",
              "    }\n",
              "</style>\n",
              "<table border=\"1\" class=\"dataframe\">\n",
              "  <thead>\n",
              "    <tr style=\"text-align: right;\">\n",
              "      <th></th>\n",
              "      <th>country_full</th>\n",
              "      <th>country_abrv</th>\n",
              "      <th>total_points</th>\n",
              "      <th>previous_points</th>\n",
              "      <th>rank_change</th>\n",
              "      <th>cur_year_avg</th>\n",
              "      <th>cur_year_avg_weighted</th>\n",
              "      <th>last_year_avg</th>\n",
              "      <th>last_year_avg_weighted</th>\n",
              "      <th>two_year_ago_avg</th>\n",
              "      <th>two_year_ago_weighted</th>\n",
              "      <th>three_year_ago_avg</th>\n",
              "      <th>three_year_ago_weighted</th>\n",
              "      <th>confederation</th>\n",
              "      <th>rank_date</th>\n",
              "    </tr>\n",
              "    <tr>\n",
              "      <th>rank</th>\n",
              "      <th></th>\n",
              "      <th></th>\n",
              "      <th></th>\n",
              "      <th></th>\n",
              "      <th></th>\n",
              "      <th></th>\n",
              "      <th></th>\n",
              "      <th></th>\n",
              "      <th></th>\n",
              "      <th></th>\n",
              "      <th></th>\n",
              "      <th></th>\n",
              "      <th></th>\n",
              "      <th></th>\n",
              "      <th></th>\n",
              "    </tr>\n",
              "  </thead>\n",
              "  <tbody>\n",
              "    <tr>\n",
              "      <th>1</th>\n",
              "      <td>Germany</td>\n",
              "      <td>GER</td>\n",
              "      <td>0.0</td>\n",
              "      <td>57</td>\n",
              "      <td>0</td>\n",
              "      <td>0.0</td>\n",
              "      <td>0.0</td>\n",
              "      <td>0.0</td>\n",
              "      <td>0.0</td>\n",
              "      <td>0.0</td>\n",
              "      <td>0.0</td>\n",
              "      <td>0.0</td>\n",
              "      <td>0.0</td>\n",
              "      <td>UEFA</td>\n",
              "      <td>1993-08-08</td>\n",
              "    </tr>\n",
              "    <tr>\n",
              "      <th>2</th>\n",
              "      <td>Italy</td>\n",
              "      <td>ITA</td>\n",
              "      <td>0.0</td>\n",
              "      <td>57</td>\n",
              "      <td>0</td>\n",
              "      <td>0.0</td>\n",
              "      <td>0.0</td>\n",
              "      <td>0.0</td>\n",
              "      <td>0.0</td>\n",
              "      <td>0.0</td>\n",
              "      <td>0.0</td>\n",
              "      <td>0.0</td>\n",
              "      <td>0.0</td>\n",
              "      <td>UEFA</td>\n",
              "      <td>1993-08-08</td>\n",
              "    </tr>\n",
              "    <tr>\n",
              "      <th>3</th>\n",
              "      <td>Switzerland</td>\n",
              "      <td>SUI</td>\n",
              "      <td>0.0</td>\n",
              "      <td>50</td>\n",
              "      <td>9</td>\n",
              "      <td>0.0</td>\n",
              "      <td>0.0</td>\n",
              "      <td>0.0</td>\n",
              "      <td>0.0</td>\n",
              "      <td>0.0</td>\n",
              "      <td>0.0</td>\n",
              "      <td>0.0</td>\n",
              "      <td>0.0</td>\n",
              "      <td>UEFA</td>\n",
              "      <td>1993-08-08</td>\n",
              "    </tr>\n",
              "    <tr>\n",
              "      <th>4</th>\n",
              "      <td>Sweden</td>\n",
              "      <td>SWE</td>\n",
              "      <td>0.0</td>\n",
              "      <td>55</td>\n",
              "      <td>0</td>\n",
              "      <td>0.0</td>\n",
              "      <td>0.0</td>\n",
              "      <td>0.0</td>\n",
              "      <td>0.0</td>\n",
              "      <td>0.0</td>\n",
              "      <td>0.0</td>\n",
              "      <td>0.0</td>\n",
              "      <td>0.0</td>\n",
              "      <td>UEFA</td>\n",
              "      <td>1993-08-08</td>\n",
              "    </tr>\n",
              "    <tr>\n",
              "      <th>5</th>\n",
              "      <td>Argentina</td>\n",
              "      <td>ARG</td>\n",
              "      <td>0.0</td>\n",
              "      <td>51</td>\n",
              "      <td>5</td>\n",
              "      <td>0.0</td>\n",
              "      <td>0.0</td>\n",
              "      <td>0.0</td>\n",
              "      <td>0.0</td>\n",
              "      <td>0.0</td>\n",
              "      <td>0.0</td>\n",
              "      <td>0.0</td>\n",
              "      <td>0.0</td>\n",
              "      <td>CONMEBOL</td>\n",
              "      <td>1993-08-08</td>\n",
              "    </tr>\n",
              "  </tbody>\n",
              "</table>\n",
              "</div>"
            ],
            "text/plain": [
              "     country_full country_abrv  total_points  previous_points  rank_change  \\\n",
              "rank                                                                         \n",
              "1         Germany          GER           0.0               57            0   \n",
              "2           Italy          ITA           0.0               57            0   \n",
              "3     Switzerland          SUI           0.0               50            9   \n",
              "4          Sweden          SWE           0.0               55            0   \n",
              "5       Argentina          ARG           0.0               51            5   \n",
              "\n",
              "      cur_year_avg  cur_year_avg_weighted  last_year_avg  \\\n",
              "rank                                                       \n",
              "1              0.0                    0.0            0.0   \n",
              "2              0.0                    0.0            0.0   \n",
              "3              0.0                    0.0            0.0   \n",
              "4              0.0                    0.0            0.0   \n",
              "5              0.0                    0.0            0.0   \n",
              "\n",
              "      last_year_avg_weighted  two_year_ago_avg  two_year_ago_weighted  \\\n",
              "rank                                                                    \n",
              "1                        0.0               0.0                    0.0   \n",
              "2                        0.0               0.0                    0.0   \n",
              "3                        0.0               0.0                    0.0   \n",
              "4                        0.0               0.0                    0.0   \n",
              "5                        0.0               0.0                    0.0   \n",
              "\n",
              "      three_year_ago_avg  three_year_ago_weighted confederation   rank_date  \n",
              "rank                                                                         \n",
              "1                    0.0                      0.0          UEFA  1993-08-08  \n",
              "2                    0.0                      0.0          UEFA  1993-08-08  \n",
              "3                    0.0                      0.0          UEFA  1993-08-08  \n",
              "4                    0.0                      0.0          UEFA  1993-08-08  \n",
              "5                    0.0                      0.0      CONMEBOL  1993-08-08  "
            ]
          },
          "metadata": {
            "tags": []
          },
          "execution_count": 109
        }
      ]
    },
    {
      "cell_type": "code",
      "metadata": {
        "id": "Jri-ESDQ16uO",
        "colab_type": "code",
        "outputId": "2d040847-2124-477a-e33c-44a5ccf4be4c",
        "colab": {}
      },
      "source": [
        "fifa.columns"
      ],
      "execution_count": 0,
      "outputs": [
        {
          "output_type": "execute_result",
          "data": {
            "text/plain": [
              "Index(['country_full', 'country_abrv', 'total_points', 'previous_points',\n",
              "       'rank_change', 'cur_year_avg', 'cur_year_avg_weighted', 'last_year_avg',\n",
              "       'last_year_avg_weighted', 'two_year_ago_avg', 'two_year_ago_weighted',\n",
              "       'three_year_ago_avg', 'three_year_ago_weighted', 'confederation',\n",
              "       'rank_date'],\n",
              "      dtype='object')"
            ]
          },
          "metadata": {
            "tags": []
          },
          "execution_count": 110
        }
      ]
    },
    {
      "cell_type": "code",
      "metadata": {
        "id": "PccQrbnV16uQ",
        "colab_type": "code",
        "outputId": "4d3199ea-e702-4eee-a28d-389c83275c75",
        "colab": {}
      },
      "source": [
        "fifa['country_full'].head()"
      ],
      "execution_count": 0,
      "outputs": [
        {
          "output_type": "execute_result",
          "data": {
            "text/plain": [
              "rank\n",
              "1        Germany\n",
              "2          Italy\n",
              "3    Switzerland\n",
              "4         Sweden\n",
              "5      Argentina\n",
              "Name: country_full, dtype: object"
            ]
          },
          "metadata": {
            "tags": []
          },
          "execution_count": 111
        }
      ]
    },
    {
      "cell_type": "code",
      "metadata": {
        "id": "-YNOq1Xa16uS",
        "colab_type": "code",
        "outputId": "b3724f2d-5d76-48bc-a96a-d6c4b4642cb9",
        "colab": {}
      },
      "source": [
        "fifa.iloc[2]"
      ],
      "execution_count": 0,
      "outputs": [
        {
          "output_type": "execute_result",
          "data": {
            "text/plain": [
              "country_full               Switzerland\n",
              "country_abrv                       SUI\n",
              "total_points                         0\n",
              "previous_points                     50\n",
              "rank_change                          9\n",
              "cur_year_avg                         0\n",
              "cur_year_avg_weighted                0\n",
              "last_year_avg                        0\n",
              "last_year_avg_weighted               0\n",
              "two_year_ago_avg                     0\n",
              "two_year_ago_weighted                0\n",
              "three_year_ago_avg                   0\n",
              "three_year_ago_weighted              0\n",
              "confederation                     UEFA\n",
              "rank_date                   1993-08-08\n",
              "Name: 3, dtype: object"
            ]
          },
          "metadata": {
            "tags": []
          },
          "execution_count": 112
        }
      ]
    },
    {
      "cell_type": "code",
      "metadata": {
        "id": "UATHdahl16uV",
        "colab_type": "code",
        "outputId": "ac34669b-ae35-4cdf-9c0c-2bd1a8777d34",
        "colab": {}
      },
      "source": [
        "fifa.iloc[12:32:2]"
      ],
      "execution_count": 0,
      "outputs": [
        {
          "output_type": "execute_result",
          "data": {
            "text/html": [
              "<div>\n",
              "<style scoped>\n",
              "    .dataframe tbody tr th:only-of-type {\n",
              "        vertical-align: middle;\n",
              "    }\n",
              "\n",
              "    .dataframe tbody tr th {\n",
              "        vertical-align: top;\n",
              "    }\n",
              "\n",
              "    .dataframe thead th {\n",
              "        text-align: right;\n",
              "    }\n",
              "</style>\n",
              "<table border=\"1\" class=\"dataframe\">\n",
              "  <thead>\n",
              "    <tr style=\"text-align: right;\">\n",
              "      <th></th>\n",
              "      <th>country_full</th>\n",
              "      <th>country_abrv</th>\n",
              "      <th>total_points</th>\n",
              "      <th>previous_points</th>\n",
              "      <th>rank_change</th>\n",
              "      <th>cur_year_avg</th>\n",
              "      <th>cur_year_avg_weighted</th>\n",
              "      <th>last_year_avg</th>\n",
              "      <th>last_year_avg_weighted</th>\n",
              "      <th>two_year_ago_avg</th>\n",
              "      <th>two_year_ago_weighted</th>\n",
              "      <th>three_year_ago_avg</th>\n",
              "      <th>three_year_ago_weighted</th>\n",
              "      <th>confederation</th>\n",
              "      <th>rank_date</th>\n",
              "    </tr>\n",
              "    <tr>\n",
              "      <th>rank</th>\n",
              "      <th></th>\n",
              "      <th></th>\n",
              "      <th></th>\n",
              "      <th></th>\n",
              "      <th></th>\n",
              "      <th></th>\n",
              "      <th></th>\n",
              "      <th></th>\n",
              "      <th></th>\n",
              "      <th></th>\n",
              "      <th></th>\n",
              "      <th></th>\n",
              "      <th></th>\n",
              "      <th></th>\n",
              "      <th></th>\n",
              "    </tr>\n",
              "  </thead>\n",
              "  <tbody>\n",
              "    <tr>\n",
              "      <th>13</th>\n",
              "      <td>Spain</td>\n",
              "      <td>ESP</td>\n",
              "      <td>0.0</td>\n",
              "      <td>49</td>\n",
              "      <td>2</td>\n",
              "      <td>0.0</td>\n",
              "      <td>0.0</td>\n",
              "      <td>0.0</td>\n",
              "      <td>0.0</td>\n",
              "      <td>0.0</td>\n",
              "      <td>0.0</td>\n",
              "      <td>0.0</td>\n",
              "      <td>0.0</td>\n",
              "      <td>UEFA</td>\n",
              "      <td>1993-08-08</td>\n",
              "    </tr>\n",
              "    <tr>\n",
              "      <th>15</th>\n",
              "      <td>RCS</td>\n",
              "      <td>TCH</td>\n",
              "      <td>0.0</td>\n",
              "      <td>47</td>\n",
              "      <td>3</td>\n",
              "      <td>0.0</td>\n",
              "      <td>0.0</td>\n",
              "      <td>0.0</td>\n",
              "      <td>0.0</td>\n",
              "      <td>0.0</td>\n",
              "      <td>0.0</td>\n",
              "      <td>0.0</td>\n",
              "      <td>0.0</td>\n",
              "      <td>UEFA</td>\n",
              "      <td>1993-08-08</td>\n",
              "    </tr>\n",
              "    <tr>\n",
              "      <th>17</th>\n",
              "      <td>Nigeria</td>\n",
              "      <td>NGA</td>\n",
              "      <td>0.0</td>\n",
              "      <td>49</td>\n",
              "      <td>-4</td>\n",
              "      <td>0.0</td>\n",
              "      <td>0.0</td>\n",
              "      <td>0.0</td>\n",
              "      <td>0.0</td>\n",
              "      <td>0.0</td>\n",
              "      <td>0.0</td>\n",
              "      <td>0.0</td>\n",
              "      <td>0.0</td>\n",
              "      <td>CAF</td>\n",
              "      <td>1993-08-08</td>\n",
              "    </tr>\n",
              "    <tr>\n",
              "      <th>19</th>\n",
              "      <td>Colombia</td>\n",
              "      <td>COL</td>\n",
              "      <td>0.0</td>\n",
              "      <td>36</td>\n",
              "      <td>16</td>\n",
              "      <td>0.0</td>\n",
              "      <td>0.0</td>\n",
              "      <td>0.0</td>\n",
              "      <td>0.0</td>\n",
              "      <td>0.0</td>\n",
              "      <td>0.0</td>\n",
              "      <td>0.0</td>\n",
              "      <td>0.0</td>\n",
              "      <td>CONMEBOL</td>\n",
              "      <td>1993-08-08</td>\n",
              "    </tr>\n",
              "    <tr>\n",
              "      <th>21</th>\n",
              "      <td>Romania</td>\n",
              "      <td>ROU</td>\n",
              "      <td>0.0</td>\n",
              "      <td>51</td>\n",
              "      <td>-10</td>\n",
              "      <td>0.0</td>\n",
              "      <td>0.0</td>\n",
              "      <td>0.0</td>\n",
              "      <td>0.0</td>\n",
              "      <td>0.0</td>\n",
              "      <td>0.0</td>\n",
              "      <td>0.0</td>\n",
              "      <td>0.0</td>\n",
              "      <td>UEFA</td>\n",
              "      <td>1993-08-08</td>\n",
              "    </tr>\n",
              "    <tr>\n",
              "      <th>23</th>\n",
              "      <td>Portugal</td>\n",
              "      <td>POR</td>\n",
              "      <td>0.0</td>\n",
              "      <td>38</td>\n",
              "      <td>10</td>\n",
              "      <td>0.0</td>\n",
              "      <td>0.0</td>\n",
              "      <td>0.0</td>\n",
              "      <td>0.0</td>\n",
              "      <td>0.0</td>\n",
              "      <td>0.0</td>\n",
              "      <td>0.0</td>\n",
              "      <td>0.0</td>\n",
              "      <td>UEFA</td>\n",
              "      <td>1993-08-08</td>\n",
              "    </tr>\n",
              "    <tr>\n",
              "      <th>25</th>\n",
              "      <td>Zambia</td>\n",
              "      <td>ZAM</td>\n",
              "      <td>0.0</td>\n",
              "      <td>38</td>\n",
              "      <td>7</td>\n",
              "      <td>0.0</td>\n",
              "      <td>0.0</td>\n",
              "      <td>0.0</td>\n",
              "      <td>0.0</td>\n",
              "      <td>0.0</td>\n",
              "      <td>0.0</td>\n",
              "      <td>0.0</td>\n",
              "      <td>0.0</td>\n",
              "      <td>CAF</td>\n",
              "      <td>1993-08-08</td>\n",
              "    </tr>\n",
              "    <tr>\n",
              "      <th>27</th>\n",
              "      <td>Wales</td>\n",
              "      <td>WAL</td>\n",
              "      <td>0.0</td>\n",
              "      <td>40</td>\n",
              "      <td>1</td>\n",
              "      <td>0.0</td>\n",
              "      <td>0.0</td>\n",
              "      <td>0.0</td>\n",
              "      <td>0.0</td>\n",
              "      <td>0.0</td>\n",
              "      <td>0.0</td>\n",
              "      <td>0.0</td>\n",
              "      <td>0.0</td>\n",
              "      <td>UEFA</td>\n",
              "      <td>1993-08-08</td>\n",
              "    </tr>\n",
              "    <tr>\n",
              "      <th>29</th>\n",
              "      <td>Côte d'Ivoire</td>\n",
              "      <td>CIV</td>\n",
              "      <td>0.0</td>\n",
              "      <td>41</td>\n",
              "      <td>-2</td>\n",
              "      <td>0.0</td>\n",
              "      <td>0.0</td>\n",
              "      <td>0.0</td>\n",
              "      <td>0.0</td>\n",
              "      <td>0.0</td>\n",
              "      <td>0.0</td>\n",
              "      <td>0.0</td>\n",
              "      <td>0.0</td>\n",
              "      <td>CAF</td>\n",
              "      <td>1993-08-08</td>\n",
              "    </tr>\n",
              "    <tr>\n",
              "      <th>31</th>\n",
              "      <td>Tunisia</td>\n",
              "      <td>TUN</td>\n",
              "      <td>0.0</td>\n",
              "      <td>35</td>\n",
              "      <td>7</td>\n",
              "      <td>0.0</td>\n",
              "      <td>0.0</td>\n",
              "      <td>0.0</td>\n",
              "      <td>0.0</td>\n",
              "      <td>0.0</td>\n",
              "      <td>0.0</td>\n",
              "      <td>0.0</td>\n",
              "      <td>0.0</td>\n",
              "      <td>CAF</td>\n",
              "      <td>1993-08-08</td>\n",
              "    </tr>\n",
              "  </tbody>\n",
              "</table>\n",
              "</div>"
            ],
            "text/plain": [
              "       country_full country_abrv  total_points  previous_points  rank_change  \\\n",
              "rank                                                                           \n",
              "13            Spain          ESP           0.0               49            2   \n",
              "15              RCS          TCH           0.0               47            3   \n",
              "17          Nigeria          NGA           0.0               49           -4   \n",
              "19         Colombia          COL           0.0               36           16   \n",
              "21          Romania          ROU           0.0               51          -10   \n",
              "23         Portugal          POR           0.0               38           10   \n",
              "25           Zambia          ZAM           0.0               38            7   \n",
              "27            Wales          WAL           0.0               40            1   \n",
              "29    Côte d'Ivoire          CIV           0.0               41           -2   \n",
              "31          Tunisia          TUN           0.0               35            7   \n",
              "\n",
              "      cur_year_avg  cur_year_avg_weighted  last_year_avg  \\\n",
              "rank                                                       \n",
              "13             0.0                    0.0            0.0   \n",
              "15             0.0                    0.0            0.0   \n",
              "17             0.0                    0.0            0.0   \n",
              "19             0.0                    0.0            0.0   \n",
              "21             0.0                    0.0            0.0   \n",
              "23             0.0                    0.0            0.0   \n",
              "25             0.0                    0.0            0.0   \n",
              "27             0.0                    0.0            0.0   \n",
              "29             0.0                    0.0            0.0   \n",
              "31             0.0                    0.0            0.0   \n",
              "\n",
              "      last_year_avg_weighted  two_year_ago_avg  two_year_ago_weighted  \\\n",
              "rank                                                                    \n",
              "13                       0.0               0.0                    0.0   \n",
              "15                       0.0               0.0                    0.0   \n",
              "17                       0.0               0.0                    0.0   \n",
              "19                       0.0               0.0                    0.0   \n",
              "21                       0.0               0.0                    0.0   \n",
              "23                       0.0               0.0                    0.0   \n",
              "25                       0.0               0.0                    0.0   \n",
              "27                       0.0               0.0                    0.0   \n",
              "29                       0.0               0.0                    0.0   \n",
              "31                       0.0               0.0                    0.0   \n",
              "\n",
              "      three_year_ago_avg  three_year_ago_weighted confederation   rank_date  \n",
              "rank                                                                         \n",
              "13                   0.0                      0.0          UEFA  1993-08-08  \n",
              "15                   0.0                      0.0          UEFA  1993-08-08  \n",
              "17                   0.0                      0.0           CAF  1993-08-08  \n",
              "19                   0.0                      0.0      CONMEBOL  1993-08-08  \n",
              "21                   0.0                      0.0          UEFA  1993-08-08  \n",
              "23                   0.0                      0.0          UEFA  1993-08-08  \n",
              "25                   0.0                      0.0           CAF  1993-08-08  \n",
              "27                   0.0                      0.0          UEFA  1993-08-08  \n",
              "29                   0.0                      0.0           CAF  1993-08-08  \n",
              "31                   0.0                      0.0           CAF  1993-08-08  "
            ]
          },
          "metadata": {
            "tags": []
          },
          "execution_count": 115
        }
      ]
    },
    {
      "cell_type": "code",
      "metadata": {
        "id": "4UlLcqkC16uX",
        "colab_type": "code",
        "outputId": "59e10558-942f-4526-f259-43b49390ad02",
        "colab": {}
      },
      "source": [
        "fifa.loc[12].head()"
      ],
      "execution_count": 0,
      "outputs": [
        {
          "output_type": "execute_result",
          "data": {
            "text/html": [
              "<div>\n",
              "<style scoped>\n",
              "    .dataframe tbody tr th:only-of-type {\n",
              "        vertical-align: middle;\n",
              "    }\n",
              "\n",
              "    .dataframe tbody tr th {\n",
              "        vertical-align: top;\n",
              "    }\n",
              "\n",
              "    .dataframe thead th {\n",
              "        text-align: right;\n",
              "    }\n",
              "</style>\n",
              "<table border=\"1\" class=\"dataframe\">\n",
              "  <thead>\n",
              "    <tr style=\"text-align: right;\">\n",
              "      <th></th>\n",
              "      <th>country_full</th>\n",
              "      <th>country_abrv</th>\n",
              "      <th>total_points</th>\n",
              "      <th>previous_points</th>\n",
              "      <th>rank_change</th>\n",
              "      <th>cur_year_avg</th>\n",
              "      <th>cur_year_avg_weighted</th>\n",
              "      <th>last_year_avg</th>\n",
              "      <th>last_year_avg_weighted</th>\n",
              "      <th>two_year_ago_avg</th>\n",
              "      <th>two_year_ago_weighted</th>\n",
              "      <th>three_year_ago_avg</th>\n",
              "      <th>three_year_ago_weighted</th>\n",
              "      <th>confederation</th>\n",
              "      <th>rank_date</th>\n",
              "    </tr>\n",
              "    <tr>\n",
              "      <th>rank</th>\n",
              "      <th></th>\n",
              "      <th></th>\n",
              "      <th></th>\n",
              "      <th></th>\n",
              "      <th></th>\n",
              "      <th></th>\n",
              "      <th></th>\n",
              "      <th></th>\n",
              "      <th></th>\n",
              "      <th></th>\n",
              "      <th></th>\n",
              "      <th></th>\n",
              "      <th></th>\n",
              "      <th></th>\n",
              "      <th></th>\n",
              "    </tr>\n",
              "  </thead>\n",
              "  <tbody>\n",
              "    <tr>\n",
              "      <th>12</th>\n",
              "      <td>France</td>\n",
              "      <td>FRA</td>\n",
              "      <td>0.0</td>\n",
              "      <td>45</td>\n",
              "      <td>7</td>\n",
              "      <td>0.0</td>\n",
              "      <td>0.0</td>\n",
              "      <td>0.0</td>\n",
              "      <td>0.0</td>\n",
              "      <td>0.0</td>\n",
              "      <td>0.0</td>\n",
              "      <td>0.0</td>\n",
              "      <td>0.0</td>\n",
              "      <td>UEFA</td>\n",
              "      <td>1993-08-08</td>\n",
              "    </tr>\n",
              "    <tr>\n",
              "      <th>12</th>\n",
              "      <td>Argentina</td>\n",
              "      <td>ARG</td>\n",
              "      <td>0.0</td>\n",
              "      <td>56</td>\n",
              "      <td>-7</td>\n",
              "      <td>0.0</td>\n",
              "      <td>0.0</td>\n",
              "      <td>0.0</td>\n",
              "      <td>0.0</td>\n",
              "      <td>0.0</td>\n",
              "      <td>0.0</td>\n",
              "      <td>0.0</td>\n",
              "      <td>0.0</td>\n",
              "      <td>CONMEBOL</td>\n",
              "      <td>1993-09-23</td>\n",
              "    </tr>\n",
              "    <tr>\n",
              "      <th>12</th>\n",
              "      <td>Romania</td>\n",
              "      <td>ROU</td>\n",
              "      <td>0.0</td>\n",
              "      <td>52</td>\n",
              "      <td>3</td>\n",
              "      <td>0.0</td>\n",
              "      <td>0.0</td>\n",
              "      <td>0.0</td>\n",
              "      <td>0.0</td>\n",
              "      <td>0.0</td>\n",
              "      <td>0.0</td>\n",
              "      <td>0.0</td>\n",
              "      <td>0.0</td>\n",
              "      <td>UEFA</td>\n",
              "      <td>1993-11-19</td>\n",
              "    </tr>\n",
              "    <tr>\n",
              "      <th>12</th>\n",
              "      <td>Switzerland</td>\n",
              "      <td>SUI</td>\n",
              "      <td>0.0</td>\n",
              "      <td>55</td>\n",
              "      <td>-3</td>\n",
              "      <td>0.0</td>\n",
              "      <td>0.0</td>\n",
              "      <td>0.0</td>\n",
              "      <td>0.0</td>\n",
              "      <td>0.0</td>\n",
              "      <td>0.0</td>\n",
              "      <td>0.0</td>\n",
              "      <td>0.0</td>\n",
              "      <td>UEFA</td>\n",
              "      <td>1993-12-23</td>\n",
              "    </tr>\n",
              "    <tr>\n",
              "      <th>12</th>\n",
              "      <td>England</td>\n",
              "      <td>ENG</td>\n",
              "      <td>0.0</td>\n",
              "      <td>54</td>\n",
              "      <td>-1</td>\n",
              "      <td>0.0</td>\n",
              "      <td>0.0</td>\n",
              "      <td>0.0</td>\n",
              "      <td>0.0</td>\n",
              "      <td>0.0</td>\n",
              "      <td>0.0</td>\n",
              "      <td>0.0</td>\n",
              "      <td>0.0</td>\n",
              "      <td>UEFA</td>\n",
              "      <td>1994-02-15</td>\n",
              "    </tr>\n",
              "  </tbody>\n",
              "</table>\n",
              "</div>"
            ],
            "text/plain": [
              "     country_full country_abrv  total_points  previous_points  rank_change  \\\n",
              "rank                                                                         \n",
              "12         France          FRA           0.0               45            7   \n",
              "12      Argentina          ARG           0.0               56           -7   \n",
              "12        Romania          ROU           0.0               52            3   \n",
              "12    Switzerland          SUI           0.0               55           -3   \n",
              "12        England          ENG           0.0               54           -1   \n",
              "\n",
              "      cur_year_avg  cur_year_avg_weighted  last_year_avg  \\\n",
              "rank                                                       \n",
              "12             0.0                    0.0            0.0   \n",
              "12             0.0                    0.0            0.0   \n",
              "12             0.0                    0.0            0.0   \n",
              "12             0.0                    0.0            0.0   \n",
              "12             0.0                    0.0            0.0   \n",
              "\n",
              "      last_year_avg_weighted  two_year_ago_avg  two_year_ago_weighted  \\\n",
              "rank                                                                    \n",
              "12                       0.0               0.0                    0.0   \n",
              "12                       0.0               0.0                    0.0   \n",
              "12                       0.0               0.0                    0.0   \n",
              "12                       0.0               0.0                    0.0   \n",
              "12                       0.0               0.0                    0.0   \n",
              "\n",
              "      three_year_ago_avg  three_year_ago_weighted confederation   rank_date  \n",
              "rank                                                                         \n",
              "12                   0.0                      0.0          UEFA  1993-08-08  \n",
              "12                   0.0                      0.0      CONMEBOL  1993-09-23  \n",
              "12                   0.0                      0.0          UEFA  1993-11-19  \n",
              "12                   0.0                      0.0          UEFA  1993-12-23  \n",
              "12                   0.0                      0.0          UEFA  1994-02-15  "
            ]
          },
          "metadata": {
            "tags": []
          },
          "execution_count": 117
        }
      ]
    },
    {
      "cell_type": "code",
      "metadata": {
        "id": "6bg-6gxw16ua",
        "colab_type": "code",
        "outputId": "2f8f46ce-645f-4c6f-c503-ff22098d4c64",
        "colab": {}
      },
      "source": [
        "fifa.loc[12, 'country_abrv'].head()"
      ],
      "execution_count": 0,
      "outputs": [
        {
          "output_type": "execute_result",
          "data": {
            "text/plain": [
              "rank\n",
              "12    FRA\n",
              "12    ARG\n",
              "12    ROU\n",
              "12    SUI\n",
              "12    ENG\n",
              "Name: country_abrv, dtype: object"
            ]
          },
          "metadata": {
            "tags": []
          },
          "execution_count": 118
        }
      ]
    },
    {
      "cell_type": "code",
      "metadata": {
        "id": "p75L9hF916uc",
        "colab_type": "code",
        "outputId": "31308815-2306-4dda-fe5c-b82de1a48dc9",
        "colab": {}
      },
      "source": [
        "fifa.rename(columns={'country_full':'pais_f', 'country_abrv':'pais_a'}).head()"
      ],
      "execution_count": 0,
      "outputs": [
        {
          "output_type": "execute_result",
          "data": {
            "text/html": [
              "<div>\n",
              "<style scoped>\n",
              "    .dataframe tbody tr th:only-of-type {\n",
              "        vertical-align: middle;\n",
              "    }\n",
              "\n",
              "    .dataframe tbody tr th {\n",
              "        vertical-align: top;\n",
              "    }\n",
              "\n",
              "    .dataframe thead th {\n",
              "        text-align: right;\n",
              "    }\n",
              "</style>\n",
              "<table border=\"1\" class=\"dataframe\">\n",
              "  <thead>\n",
              "    <tr style=\"text-align: right;\">\n",
              "      <th></th>\n",
              "      <th>pais_f</th>\n",
              "      <th>pais_a</th>\n",
              "      <th>total_points</th>\n",
              "      <th>previous_points</th>\n",
              "      <th>rank_change</th>\n",
              "      <th>cur_year_avg</th>\n",
              "      <th>cur_year_avg_weighted</th>\n",
              "      <th>last_year_avg</th>\n",
              "      <th>last_year_avg_weighted</th>\n",
              "      <th>two_year_ago_avg</th>\n",
              "      <th>two_year_ago_weighted</th>\n",
              "      <th>three_year_ago_avg</th>\n",
              "      <th>three_year_ago_weighted</th>\n",
              "      <th>confederation</th>\n",
              "      <th>rank_date</th>\n",
              "    </tr>\n",
              "    <tr>\n",
              "      <th>rank</th>\n",
              "      <th></th>\n",
              "      <th></th>\n",
              "      <th></th>\n",
              "      <th></th>\n",
              "      <th></th>\n",
              "      <th></th>\n",
              "      <th></th>\n",
              "      <th></th>\n",
              "      <th></th>\n",
              "      <th></th>\n",
              "      <th></th>\n",
              "      <th></th>\n",
              "      <th></th>\n",
              "      <th></th>\n",
              "      <th></th>\n",
              "    </tr>\n",
              "  </thead>\n",
              "  <tbody>\n",
              "    <tr>\n",
              "      <th>1</th>\n",
              "      <td>Germany</td>\n",
              "      <td>GER</td>\n",
              "      <td>0.0</td>\n",
              "      <td>57</td>\n",
              "      <td>0</td>\n",
              "      <td>0.0</td>\n",
              "      <td>0.0</td>\n",
              "      <td>0.0</td>\n",
              "      <td>0.0</td>\n",
              "      <td>0.0</td>\n",
              "      <td>0.0</td>\n",
              "      <td>0.0</td>\n",
              "      <td>0.0</td>\n",
              "      <td>UEFA</td>\n",
              "      <td>1993-08-08</td>\n",
              "    </tr>\n",
              "    <tr>\n",
              "      <th>2</th>\n",
              "      <td>Italy</td>\n",
              "      <td>ITA</td>\n",
              "      <td>0.0</td>\n",
              "      <td>57</td>\n",
              "      <td>0</td>\n",
              "      <td>0.0</td>\n",
              "      <td>0.0</td>\n",
              "      <td>0.0</td>\n",
              "      <td>0.0</td>\n",
              "      <td>0.0</td>\n",
              "      <td>0.0</td>\n",
              "      <td>0.0</td>\n",
              "      <td>0.0</td>\n",
              "      <td>UEFA</td>\n",
              "      <td>1993-08-08</td>\n",
              "    </tr>\n",
              "    <tr>\n",
              "      <th>3</th>\n",
              "      <td>Switzerland</td>\n",
              "      <td>SUI</td>\n",
              "      <td>0.0</td>\n",
              "      <td>50</td>\n",
              "      <td>9</td>\n",
              "      <td>0.0</td>\n",
              "      <td>0.0</td>\n",
              "      <td>0.0</td>\n",
              "      <td>0.0</td>\n",
              "      <td>0.0</td>\n",
              "      <td>0.0</td>\n",
              "      <td>0.0</td>\n",
              "      <td>0.0</td>\n",
              "      <td>UEFA</td>\n",
              "      <td>1993-08-08</td>\n",
              "    </tr>\n",
              "    <tr>\n",
              "      <th>4</th>\n",
              "      <td>Sweden</td>\n",
              "      <td>SWE</td>\n",
              "      <td>0.0</td>\n",
              "      <td>55</td>\n",
              "      <td>0</td>\n",
              "      <td>0.0</td>\n",
              "      <td>0.0</td>\n",
              "      <td>0.0</td>\n",
              "      <td>0.0</td>\n",
              "      <td>0.0</td>\n",
              "      <td>0.0</td>\n",
              "      <td>0.0</td>\n",
              "      <td>0.0</td>\n",
              "      <td>UEFA</td>\n",
              "      <td>1993-08-08</td>\n",
              "    </tr>\n",
              "    <tr>\n",
              "      <th>5</th>\n",
              "      <td>Argentina</td>\n",
              "      <td>ARG</td>\n",
              "      <td>0.0</td>\n",
              "      <td>51</td>\n",
              "      <td>5</td>\n",
              "      <td>0.0</td>\n",
              "      <td>0.0</td>\n",
              "      <td>0.0</td>\n",
              "      <td>0.0</td>\n",
              "      <td>0.0</td>\n",
              "      <td>0.0</td>\n",
              "      <td>0.0</td>\n",
              "      <td>0.0</td>\n",
              "      <td>CONMEBOL</td>\n",
              "      <td>1993-08-08</td>\n",
              "    </tr>\n",
              "  </tbody>\n",
              "</table>\n",
              "</div>"
            ],
            "text/plain": [
              "           pais_f pais_a  total_points  previous_points  rank_change  \\\n",
              "rank                                                                   \n",
              "1         Germany    GER           0.0               57            0   \n",
              "2           Italy    ITA           0.0               57            0   \n",
              "3     Switzerland    SUI           0.0               50            9   \n",
              "4          Sweden    SWE           0.0               55            0   \n",
              "5       Argentina    ARG           0.0               51            5   \n",
              "\n",
              "      cur_year_avg  cur_year_avg_weighted  last_year_avg  \\\n",
              "rank                                                       \n",
              "1              0.0                    0.0            0.0   \n",
              "2              0.0                    0.0            0.0   \n",
              "3              0.0                    0.0            0.0   \n",
              "4              0.0                    0.0            0.0   \n",
              "5              0.0                    0.0            0.0   \n",
              "\n",
              "      last_year_avg_weighted  two_year_ago_avg  two_year_ago_weighted  \\\n",
              "rank                                                                    \n",
              "1                        0.0               0.0                    0.0   \n",
              "2                        0.0               0.0                    0.0   \n",
              "3                        0.0               0.0                    0.0   \n",
              "4                        0.0               0.0                    0.0   \n",
              "5                        0.0               0.0                    0.0   \n",
              "\n",
              "      three_year_ago_avg  three_year_ago_weighted confederation   rank_date  \n",
              "rank                                                                         \n",
              "1                    0.0                      0.0          UEFA  1993-08-08  \n",
              "2                    0.0                      0.0          UEFA  1993-08-08  \n",
              "3                    0.0                      0.0          UEFA  1993-08-08  \n",
              "4                    0.0                      0.0          UEFA  1993-08-08  \n",
              "5                    0.0                      0.0      CONMEBOL  1993-08-08  "
            ]
          },
          "metadata": {
            "tags": []
          },
          "execution_count": 119
        }
      ]
    },
    {
      "cell_type": "code",
      "metadata": {
        "id": "9CZ2v8HJ16uq",
        "colab_type": "code",
        "outputId": "2a201108-8808-40a9-bb20-1f80fbb056be",
        "colab": {}
      },
      "source": [
        "fifa.head(5)"
      ],
      "execution_count": 0,
      "outputs": [
        {
          "output_type": "execute_result",
          "data": {
            "text/html": [
              "<div>\n",
              "<style scoped>\n",
              "    .dataframe tbody tr th:only-of-type {\n",
              "        vertical-align: middle;\n",
              "    }\n",
              "\n",
              "    .dataframe tbody tr th {\n",
              "        vertical-align: top;\n",
              "    }\n",
              "\n",
              "    .dataframe thead th {\n",
              "        text-align: right;\n",
              "    }\n",
              "</style>\n",
              "<table border=\"1\" class=\"dataframe\">\n",
              "  <thead>\n",
              "    <tr style=\"text-align: right;\">\n",
              "      <th></th>\n",
              "      <th>country_full</th>\n",
              "      <th>country_abrv</th>\n",
              "      <th>total_points</th>\n",
              "      <th>previous_points</th>\n",
              "      <th>rank_change</th>\n",
              "      <th>cur_year_avg</th>\n",
              "      <th>cur_year_avg_weighted</th>\n",
              "      <th>last_year_avg</th>\n",
              "      <th>last_year_avg_weighted</th>\n",
              "      <th>two_year_ago_avg</th>\n",
              "      <th>two_year_ago_weighted</th>\n",
              "      <th>three_year_ago_avg</th>\n",
              "      <th>three_year_ago_weighted</th>\n",
              "      <th>confederation</th>\n",
              "      <th>rank_date</th>\n",
              "    </tr>\n",
              "    <tr>\n",
              "      <th>rank</th>\n",
              "      <th></th>\n",
              "      <th></th>\n",
              "      <th></th>\n",
              "      <th></th>\n",
              "      <th></th>\n",
              "      <th></th>\n",
              "      <th></th>\n",
              "      <th></th>\n",
              "      <th></th>\n",
              "      <th></th>\n",
              "      <th></th>\n",
              "      <th></th>\n",
              "      <th></th>\n",
              "      <th></th>\n",
              "      <th></th>\n",
              "    </tr>\n",
              "  </thead>\n",
              "  <tbody>\n",
              "    <tr>\n",
              "      <th>1</th>\n",
              "      <td>Germany</td>\n",
              "      <td>GER</td>\n",
              "      <td>0.0</td>\n",
              "      <td>57</td>\n",
              "      <td>0</td>\n",
              "      <td>0.0</td>\n",
              "      <td>0.0</td>\n",
              "      <td>0.0</td>\n",
              "      <td>0.0</td>\n",
              "      <td>0.0</td>\n",
              "      <td>0.0</td>\n",
              "      <td>0.0</td>\n",
              "      <td>0.0</td>\n",
              "      <td>UEFA</td>\n",
              "      <td>1993-08-08</td>\n",
              "    </tr>\n",
              "    <tr>\n",
              "      <th>2</th>\n",
              "      <td>Italy</td>\n",
              "      <td>ITA</td>\n",
              "      <td>0.0</td>\n",
              "      <td>57</td>\n",
              "      <td>0</td>\n",
              "      <td>0.0</td>\n",
              "      <td>0.0</td>\n",
              "      <td>0.0</td>\n",
              "      <td>0.0</td>\n",
              "      <td>0.0</td>\n",
              "      <td>0.0</td>\n",
              "      <td>0.0</td>\n",
              "      <td>0.0</td>\n",
              "      <td>UEFA</td>\n",
              "      <td>1993-08-08</td>\n",
              "    </tr>\n",
              "    <tr>\n",
              "      <th>3</th>\n",
              "      <td>Switzerland</td>\n",
              "      <td>SUI</td>\n",
              "      <td>0.0</td>\n",
              "      <td>50</td>\n",
              "      <td>9</td>\n",
              "      <td>0.0</td>\n",
              "      <td>0.0</td>\n",
              "      <td>0.0</td>\n",
              "      <td>0.0</td>\n",
              "      <td>0.0</td>\n",
              "      <td>0.0</td>\n",
              "      <td>0.0</td>\n",
              "      <td>0.0</td>\n",
              "      <td>UEFA</td>\n",
              "      <td>1993-08-08</td>\n",
              "    </tr>\n",
              "    <tr>\n",
              "      <th>4</th>\n",
              "      <td>Sweden</td>\n",
              "      <td>SWE</td>\n",
              "      <td>0.0</td>\n",
              "      <td>55</td>\n",
              "      <td>0</td>\n",
              "      <td>0.0</td>\n",
              "      <td>0.0</td>\n",
              "      <td>0.0</td>\n",
              "      <td>0.0</td>\n",
              "      <td>0.0</td>\n",
              "      <td>0.0</td>\n",
              "      <td>0.0</td>\n",
              "      <td>0.0</td>\n",
              "      <td>UEFA</td>\n",
              "      <td>1993-08-08</td>\n",
              "    </tr>\n",
              "    <tr>\n",
              "      <th>5</th>\n",
              "      <td>Argentina</td>\n",
              "      <td>ARG</td>\n",
              "      <td>0.0</td>\n",
              "      <td>51</td>\n",
              "      <td>5</td>\n",
              "      <td>0.0</td>\n",
              "      <td>0.0</td>\n",
              "      <td>0.0</td>\n",
              "      <td>0.0</td>\n",
              "      <td>0.0</td>\n",
              "      <td>0.0</td>\n",
              "      <td>0.0</td>\n",
              "      <td>0.0</td>\n",
              "      <td>CONMEBOL</td>\n",
              "      <td>1993-08-08</td>\n",
              "    </tr>\n",
              "  </tbody>\n",
              "</table>\n",
              "</div>"
            ],
            "text/plain": [
              "     country_full country_abrv  total_points  previous_points  rank_change  \\\n",
              "rank                                                                         \n",
              "1         Germany          GER           0.0               57            0   \n",
              "2           Italy          ITA           0.0               57            0   \n",
              "3     Switzerland          SUI           0.0               50            9   \n",
              "4          Sweden          SWE           0.0               55            0   \n",
              "5       Argentina          ARG           0.0               51            5   \n",
              "\n",
              "      cur_year_avg  cur_year_avg_weighted  last_year_avg  \\\n",
              "rank                                                       \n",
              "1              0.0                    0.0            0.0   \n",
              "2              0.0                    0.0            0.0   \n",
              "3              0.0                    0.0            0.0   \n",
              "4              0.0                    0.0            0.0   \n",
              "5              0.0                    0.0            0.0   \n",
              "\n",
              "      last_year_avg_weighted  two_year_ago_avg  two_year_ago_weighted  \\\n",
              "rank                                                                    \n",
              "1                        0.0               0.0                    0.0   \n",
              "2                        0.0               0.0                    0.0   \n",
              "3                        0.0               0.0                    0.0   \n",
              "4                        0.0               0.0                    0.0   \n",
              "5                        0.0               0.0                    0.0   \n",
              "\n",
              "      three_year_ago_avg  three_year_ago_weighted confederation   rank_date  \n",
              "rank                                                                         \n",
              "1                    0.0                      0.0          UEFA  1993-08-08  \n",
              "2                    0.0                      0.0          UEFA  1993-08-08  \n",
              "3                    0.0                      0.0          UEFA  1993-08-08  \n",
              "4                    0.0                      0.0          UEFA  1993-08-08  \n",
              "5                    0.0                      0.0      CONMEBOL  1993-08-08  "
            ]
          },
          "metadata": {
            "tags": []
          },
          "execution_count": 120
        }
      ]
    },
    {
      "cell_type": "code",
      "metadata": {
        "id": "MpcRSX7216us",
        "colab_type": "code",
        "outputId": "ae9e961f-bf7b-449d-af3d-4256216d5752",
        "colab": {}
      },
      "source": [
        "fifa[['country_full','country_abrv']].head()"
      ],
      "execution_count": 0,
      "outputs": [
        {
          "output_type": "execute_result",
          "data": {
            "text/html": [
              "<div>\n",
              "<style scoped>\n",
              "    .dataframe tbody tr th:only-of-type {\n",
              "        vertical-align: middle;\n",
              "    }\n",
              "\n",
              "    .dataframe tbody tr th {\n",
              "        vertical-align: top;\n",
              "    }\n",
              "\n",
              "    .dataframe thead th {\n",
              "        text-align: right;\n",
              "    }\n",
              "</style>\n",
              "<table border=\"1\" class=\"dataframe\">\n",
              "  <thead>\n",
              "    <tr style=\"text-align: right;\">\n",
              "      <th></th>\n",
              "      <th>country_full</th>\n",
              "      <th>country_abrv</th>\n",
              "    </tr>\n",
              "    <tr>\n",
              "      <th>rank</th>\n",
              "      <th></th>\n",
              "      <th></th>\n",
              "    </tr>\n",
              "  </thead>\n",
              "  <tbody>\n",
              "    <tr>\n",
              "      <th>1</th>\n",
              "      <td>Germany</td>\n",
              "      <td>GER</td>\n",
              "    </tr>\n",
              "    <tr>\n",
              "      <th>2</th>\n",
              "      <td>Italy</td>\n",
              "      <td>ITA</td>\n",
              "    </tr>\n",
              "    <tr>\n",
              "      <th>3</th>\n",
              "      <td>Switzerland</td>\n",
              "      <td>SUI</td>\n",
              "    </tr>\n",
              "    <tr>\n",
              "      <th>4</th>\n",
              "      <td>Sweden</td>\n",
              "      <td>SWE</td>\n",
              "    </tr>\n",
              "    <tr>\n",
              "      <th>5</th>\n",
              "      <td>Argentina</td>\n",
              "      <td>ARG</td>\n",
              "    </tr>\n",
              "  </tbody>\n",
              "</table>\n",
              "</div>"
            ],
            "text/plain": [
              "     country_full country_abrv\n",
              "rank                          \n",
              "1         Germany          GER\n",
              "2           Italy          ITA\n",
              "3     Switzerland          SUI\n",
              "4          Sweden          SWE\n",
              "5       Argentina          ARG"
            ]
          },
          "metadata": {
            "tags": []
          },
          "execution_count": 121
        }
      ]
    },
    {
      "cell_type": "code",
      "metadata": {
        "id": "w1x6mvLM16ut",
        "colab_type": "code",
        "outputId": "4bdf7585-4487-48f5-ffb9-18dbc674c1ca",
        "colab": {}
      },
      "source": [
        "fifa.index < 3"
      ],
      "execution_count": 0,
      "outputs": [
        {
          "output_type": "execute_result",
          "data": {
            "text/plain": [
              "array([ True,  True, False, ..., False, False, False])"
            ]
          },
          "metadata": {
            "tags": []
          },
          "execution_count": 124
        }
      ]
    },
    {
      "cell_type": "code",
      "metadata": {
        "id": "Kljbhwgd16uw",
        "colab_type": "code",
        "outputId": "fa194257-b8e1-41a4-f1fd-0d9ae60ef439",
        "colab": {}
      },
      "source": [
        "fifa['country_abrv']=='MEX'"
      ],
      "execution_count": 0,
      "outputs": [
        {
          "output_type": "execute_result",
          "data": {
            "text/plain": [
              "rank\n",
              "1      False\n",
              "2      False\n",
              "3      False\n",
              "4      False\n",
              "5      False\n",
              "6      False\n",
              "7      False\n",
              "8      False\n",
              "9      False\n",
              "10     False\n",
              "11     False\n",
              "12     False\n",
              "13     False\n",
              "14      True\n",
              "15     False\n",
              "16     False\n",
              "17     False\n",
              "18     False\n",
              "19     False\n",
              "20     False\n",
              "21     False\n",
              "22     False\n",
              "23     False\n",
              "24     False\n",
              "25     False\n",
              "26     False\n",
              "27     False\n",
              "28     False\n",
              "29     False\n",
              "30     False\n",
              "       ...  \n",
              "182    False\n",
              "183    False\n",
              "184    False\n",
              "185    False\n",
              "186    False\n",
              "186    False\n",
              "188    False\n",
              "188    False\n",
              "190    False\n",
              "190    False\n",
              "192    False\n",
              "192    False\n",
              "194    False\n",
              "195    False\n",
              "195    False\n",
              "197    False\n",
              "197    False\n",
              "199    False\n",
              "200    False\n",
              "201    False\n",
              "202    False\n",
              "203    False\n",
              "204    False\n",
              "204    False\n",
              "206    False\n",
              "206    False\n",
              "206    False\n",
              "206    False\n",
              "206    False\n",
              "206    False\n",
              "Name: country_abrv, Length: 57793, dtype: bool"
            ]
          },
          "metadata": {
            "tags": []
          },
          "execution_count": 125
        }
      ]
    },
    {
      "cell_type": "code",
      "metadata": {
        "id": "35mhXs8w16uy",
        "colab_type": "code",
        "outputId": "80f65b38-d2bb-4d2c-d671-513a8956b99a",
        "colab": {}
      },
      "source": [
        "fifa.head()"
      ],
      "execution_count": 0,
      "outputs": [
        {
          "output_type": "execute_result",
          "data": {
            "text/html": [
              "<div>\n",
              "<style scoped>\n",
              "    .dataframe tbody tr th:only-of-type {\n",
              "        vertical-align: middle;\n",
              "    }\n",
              "\n",
              "    .dataframe tbody tr th {\n",
              "        vertical-align: top;\n",
              "    }\n",
              "\n",
              "    .dataframe thead th {\n",
              "        text-align: right;\n",
              "    }\n",
              "</style>\n",
              "<table border=\"1\" class=\"dataframe\">\n",
              "  <thead>\n",
              "    <tr style=\"text-align: right;\">\n",
              "      <th></th>\n",
              "      <th>country_full</th>\n",
              "      <th>country_abrv</th>\n",
              "      <th>total_points</th>\n",
              "      <th>previous_points</th>\n",
              "      <th>rank_change</th>\n",
              "      <th>cur_year_avg</th>\n",
              "      <th>cur_year_avg_weighted</th>\n",
              "      <th>last_year_avg</th>\n",
              "      <th>last_year_avg_weighted</th>\n",
              "      <th>two_year_ago_avg</th>\n",
              "      <th>two_year_ago_weighted</th>\n",
              "      <th>three_year_ago_avg</th>\n",
              "      <th>three_year_ago_weighted</th>\n",
              "      <th>confederation</th>\n",
              "      <th>rank_date</th>\n",
              "    </tr>\n",
              "    <tr>\n",
              "      <th>rank</th>\n",
              "      <th></th>\n",
              "      <th></th>\n",
              "      <th></th>\n",
              "      <th></th>\n",
              "      <th></th>\n",
              "      <th></th>\n",
              "      <th></th>\n",
              "      <th></th>\n",
              "      <th></th>\n",
              "      <th></th>\n",
              "      <th></th>\n",
              "      <th></th>\n",
              "      <th></th>\n",
              "      <th></th>\n",
              "      <th></th>\n",
              "    </tr>\n",
              "  </thead>\n",
              "  <tbody>\n",
              "    <tr>\n",
              "      <th>1</th>\n",
              "      <td>Germany</td>\n",
              "      <td>GER</td>\n",
              "      <td>0.0</td>\n",
              "      <td>57</td>\n",
              "      <td>0</td>\n",
              "      <td>0.0</td>\n",
              "      <td>0.0</td>\n",
              "      <td>0.0</td>\n",
              "      <td>0.0</td>\n",
              "      <td>0.0</td>\n",
              "      <td>0.0</td>\n",
              "      <td>0.0</td>\n",
              "      <td>0.0</td>\n",
              "      <td>UEFA</td>\n",
              "      <td>1993-08-08</td>\n",
              "    </tr>\n",
              "    <tr>\n",
              "      <th>2</th>\n",
              "      <td>Italy</td>\n",
              "      <td>ITA</td>\n",
              "      <td>0.0</td>\n",
              "      <td>57</td>\n",
              "      <td>0</td>\n",
              "      <td>0.0</td>\n",
              "      <td>0.0</td>\n",
              "      <td>0.0</td>\n",
              "      <td>0.0</td>\n",
              "      <td>0.0</td>\n",
              "      <td>0.0</td>\n",
              "      <td>0.0</td>\n",
              "      <td>0.0</td>\n",
              "      <td>UEFA</td>\n",
              "      <td>1993-08-08</td>\n",
              "    </tr>\n",
              "    <tr>\n",
              "      <th>3</th>\n",
              "      <td>Switzerland</td>\n",
              "      <td>SUI</td>\n",
              "      <td>0.0</td>\n",
              "      <td>50</td>\n",
              "      <td>9</td>\n",
              "      <td>0.0</td>\n",
              "      <td>0.0</td>\n",
              "      <td>0.0</td>\n",
              "      <td>0.0</td>\n",
              "      <td>0.0</td>\n",
              "      <td>0.0</td>\n",
              "      <td>0.0</td>\n",
              "      <td>0.0</td>\n",
              "      <td>UEFA</td>\n",
              "      <td>1993-08-08</td>\n",
              "    </tr>\n",
              "    <tr>\n",
              "      <th>4</th>\n",
              "      <td>Sweden</td>\n",
              "      <td>SWE</td>\n",
              "      <td>0.0</td>\n",
              "      <td>55</td>\n",
              "      <td>0</td>\n",
              "      <td>0.0</td>\n",
              "      <td>0.0</td>\n",
              "      <td>0.0</td>\n",
              "      <td>0.0</td>\n",
              "      <td>0.0</td>\n",
              "      <td>0.0</td>\n",
              "      <td>0.0</td>\n",
              "      <td>0.0</td>\n",
              "      <td>UEFA</td>\n",
              "      <td>1993-08-08</td>\n",
              "    </tr>\n",
              "    <tr>\n",
              "      <th>5</th>\n",
              "      <td>Argentina</td>\n",
              "      <td>ARG</td>\n",
              "      <td>0.0</td>\n",
              "      <td>51</td>\n",
              "      <td>5</td>\n",
              "      <td>0.0</td>\n",
              "      <td>0.0</td>\n",
              "      <td>0.0</td>\n",
              "      <td>0.0</td>\n",
              "      <td>0.0</td>\n",
              "      <td>0.0</td>\n",
              "      <td>0.0</td>\n",
              "      <td>0.0</td>\n",
              "      <td>CONMEBOL</td>\n",
              "      <td>1993-08-08</td>\n",
              "    </tr>\n",
              "  </tbody>\n",
              "</table>\n",
              "</div>"
            ],
            "text/plain": [
              "     country_full country_abrv  total_points  previous_points  rank_change  \\\n",
              "rank                                                                         \n",
              "1         Germany          GER           0.0               57            0   \n",
              "2           Italy          ITA           0.0               57            0   \n",
              "3     Switzerland          SUI           0.0               50            9   \n",
              "4          Sweden          SWE           0.0               55            0   \n",
              "5       Argentina          ARG           0.0               51            5   \n",
              "\n",
              "      cur_year_avg  cur_year_avg_weighted  last_year_avg  \\\n",
              "rank                                                       \n",
              "1              0.0                    0.0            0.0   \n",
              "2              0.0                    0.0            0.0   \n",
              "3              0.0                    0.0            0.0   \n",
              "4              0.0                    0.0            0.0   \n",
              "5              0.0                    0.0            0.0   \n",
              "\n",
              "      last_year_avg_weighted  two_year_ago_avg  two_year_ago_weighted  \\\n",
              "rank                                                                    \n",
              "1                        0.0               0.0                    0.0   \n",
              "2                        0.0               0.0                    0.0   \n",
              "3                        0.0               0.0                    0.0   \n",
              "4                        0.0               0.0                    0.0   \n",
              "5                        0.0               0.0                    0.0   \n",
              "\n",
              "      three_year_ago_avg  three_year_ago_weighted confederation  rank_date  \n",
              "rank                                                                        \n",
              "1                    0.0                      0.0          UEFA 1993-08-08  \n",
              "2                    0.0                      0.0          UEFA 1993-08-08  \n",
              "3                    0.0                      0.0          UEFA 1993-08-08  \n",
              "4                    0.0                      0.0          UEFA 1993-08-08  \n",
              "5                    0.0                      0.0      CONMEBOL 1993-08-08  "
            ]
          },
          "metadata": {
            "tags": []
          },
          "execution_count": 128
        }
      ]
    },
    {
      "cell_type": "code",
      "metadata": {
        "id": "KZgBZ4yJ16u1",
        "colab_type": "code",
        "colab": {}
      },
      "source": [
        "fifa['rank_date']=fifa['rank_date'].astype('datetime64')"
      ],
      "execution_count": 0,
      "outputs": []
    },
    {
      "cell_type": "code",
      "metadata": {
        "id": "RTbg6buD16u3",
        "colab_type": "code",
        "colab": {}
      },
      "source": [
        "fifa['year']=fifa['rank_date'].apply(lambda x: x.year)"
      ],
      "execution_count": 0,
      "outputs": []
    },
    {
      "cell_type": "code",
      "metadata": {
        "id": "vF-wnhCL16u5",
        "colab_type": "code",
        "outputId": "7c196646-d4b2-4396-e6a6-d5ac689a8fc3",
        "colab": {}
      },
      "source": [
        "fifa['year']"
      ],
      "execution_count": 0,
      "outputs": [
        {
          "output_type": "execute_result",
          "data": {
            "text/plain": [
              "rank\n",
              "1      1993\n",
              "2      1993\n",
              "3      1993\n",
              "4      1993\n",
              "5      1993\n",
              "6      1993\n",
              "7      1993\n",
              "8      1993\n",
              "9      1993\n",
              "10     1993\n",
              "11     1993\n",
              "12     1993\n",
              "13     1993\n",
              "14     1993\n",
              "15     1993\n",
              "16     1993\n",
              "17     1993\n",
              "18     1993\n",
              "19     1993\n",
              "20     1993\n",
              "21     1993\n",
              "22     1993\n",
              "23     1993\n",
              "24     1993\n",
              "25     1993\n",
              "26     1993\n",
              "27     1993\n",
              "28     1993\n",
              "29     1993\n",
              "30     1993\n",
              "       ... \n",
              "182    2018\n",
              "183    2018\n",
              "184    2018\n",
              "185    2018\n",
              "186    2018\n",
              "186    2018\n",
              "188    2018\n",
              "188    2018\n",
              "190    2018\n",
              "190    2018\n",
              "192    2018\n",
              "192    2018\n",
              "194    2018\n",
              "195    2018\n",
              "195    2018\n",
              "197    2018\n",
              "197    2018\n",
              "199    2018\n",
              "200    2018\n",
              "201    2018\n",
              "202    2018\n",
              "203    2018\n",
              "204    2018\n",
              "204    2018\n",
              "206    2018\n",
              "206    2018\n",
              "206    2018\n",
              "206    2018\n",
              "206    2018\n",
              "206    2018\n",
              "Name: year, Length: 57793, dtype: int64"
            ]
          },
          "metadata": {
            "tags": []
          },
          "execution_count": 131
        }
      ]
    },
    {
      "cell_type": "code",
      "metadata": {
        "id": "w74iMMg616u7",
        "colab_type": "code",
        "outputId": "d70bd753-c2e7-4f4d-f05e-7f565785a30c",
        "colab": {}
      },
      "source": [
        "fifa.drop(columns='year').head()"
      ],
      "execution_count": 0,
      "outputs": [
        {
          "output_type": "execute_result",
          "data": {
            "text/html": [
              "<div>\n",
              "<style scoped>\n",
              "    .dataframe tbody tr th:only-of-type {\n",
              "        vertical-align: middle;\n",
              "    }\n",
              "\n",
              "    .dataframe tbody tr th {\n",
              "        vertical-align: top;\n",
              "    }\n",
              "\n",
              "    .dataframe thead th {\n",
              "        text-align: right;\n",
              "    }\n",
              "</style>\n",
              "<table border=\"1\" class=\"dataframe\">\n",
              "  <thead>\n",
              "    <tr style=\"text-align: right;\">\n",
              "      <th></th>\n",
              "      <th>country_full</th>\n",
              "      <th>country_abrv</th>\n",
              "      <th>total_points</th>\n",
              "      <th>previous_points</th>\n",
              "      <th>rank_change</th>\n",
              "      <th>cur_year_avg</th>\n",
              "      <th>cur_year_avg_weighted</th>\n",
              "      <th>last_year_avg</th>\n",
              "      <th>last_year_avg_weighted</th>\n",
              "      <th>two_year_ago_avg</th>\n",
              "      <th>two_year_ago_weighted</th>\n",
              "      <th>three_year_ago_avg</th>\n",
              "      <th>three_year_ago_weighted</th>\n",
              "      <th>confederation</th>\n",
              "      <th>rank_date</th>\n",
              "    </tr>\n",
              "    <tr>\n",
              "      <th>rank</th>\n",
              "      <th></th>\n",
              "      <th></th>\n",
              "      <th></th>\n",
              "      <th></th>\n",
              "      <th></th>\n",
              "      <th></th>\n",
              "      <th></th>\n",
              "      <th></th>\n",
              "      <th></th>\n",
              "      <th></th>\n",
              "      <th></th>\n",
              "      <th></th>\n",
              "      <th></th>\n",
              "      <th></th>\n",
              "      <th></th>\n",
              "    </tr>\n",
              "  </thead>\n",
              "  <tbody>\n",
              "    <tr>\n",
              "      <th>1</th>\n",
              "      <td>Germany</td>\n",
              "      <td>GER</td>\n",
              "      <td>0.0</td>\n",
              "      <td>57</td>\n",
              "      <td>0</td>\n",
              "      <td>0.0</td>\n",
              "      <td>0.0</td>\n",
              "      <td>0.0</td>\n",
              "      <td>0.0</td>\n",
              "      <td>0.0</td>\n",
              "      <td>0.0</td>\n",
              "      <td>0.0</td>\n",
              "      <td>0.0</td>\n",
              "      <td>UEFA</td>\n",
              "      <td>1993-08-08</td>\n",
              "    </tr>\n",
              "    <tr>\n",
              "      <th>2</th>\n",
              "      <td>Italy</td>\n",
              "      <td>ITA</td>\n",
              "      <td>0.0</td>\n",
              "      <td>57</td>\n",
              "      <td>0</td>\n",
              "      <td>0.0</td>\n",
              "      <td>0.0</td>\n",
              "      <td>0.0</td>\n",
              "      <td>0.0</td>\n",
              "      <td>0.0</td>\n",
              "      <td>0.0</td>\n",
              "      <td>0.0</td>\n",
              "      <td>0.0</td>\n",
              "      <td>UEFA</td>\n",
              "      <td>1993-08-08</td>\n",
              "    </tr>\n",
              "    <tr>\n",
              "      <th>3</th>\n",
              "      <td>Switzerland</td>\n",
              "      <td>SUI</td>\n",
              "      <td>0.0</td>\n",
              "      <td>50</td>\n",
              "      <td>9</td>\n",
              "      <td>0.0</td>\n",
              "      <td>0.0</td>\n",
              "      <td>0.0</td>\n",
              "      <td>0.0</td>\n",
              "      <td>0.0</td>\n",
              "      <td>0.0</td>\n",
              "      <td>0.0</td>\n",
              "      <td>0.0</td>\n",
              "      <td>UEFA</td>\n",
              "      <td>1993-08-08</td>\n",
              "    </tr>\n",
              "    <tr>\n",
              "      <th>4</th>\n",
              "      <td>Sweden</td>\n",
              "      <td>SWE</td>\n",
              "      <td>0.0</td>\n",
              "      <td>55</td>\n",
              "      <td>0</td>\n",
              "      <td>0.0</td>\n",
              "      <td>0.0</td>\n",
              "      <td>0.0</td>\n",
              "      <td>0.0</td>\n",
              "      <td>0.0</td>\n",
              "      <td>0.0</td>\n",
              "      <td>0.0</td>\n",
              "      <td>0.0</td>\n",
              "      <td>UEFA</td>\n",
              "      <td>1993-08-08</td>\n",
              "    </tr>\n",
              "    <tr>\n",
              "      <th>5</th>\n",
              "      <td>Argentina</td>\n",
              "      <td>ARG</td>\n",
              "      <td>0.0</td>\n",
              "      <td>51</td>\n",
              "      <td>5</td>\n",
              "      <td>0.0</td>\n",
              "      <td>0.0</td>\n",
              "      <td>0.0</td>\n",
              "      <td>0.0</td>\n",
              "      <td>0.0</td>\n",
              "      <td>0.0</td>\n",
              "      <td>0.0</td>\n",
              "      <td>0.0</td>\n",
              "      <td>CONMEBOL</td>\n",
              "      <td>1993-08-08</td>\n",
              "    </tr>\n",
              "  </tbody>\n",
              "</table>\n",
              "</div>"
            ],
            "text/plain": [
              "     country_full country_abrv  total_points  previous_points  rank_change  \\\n",
              "rank                                                                         \n",
              "1         Germany          GER           0.0               57            0   \n",
              "2           Italy          ITA           0.0               57            0   \n",
              "3     Switzerland          SUI           0.0               50            9   \n",
              "4          Sweden          SWE           0.0               55            0   \n",
              "5       Argentina          ARG           0.0               51            5   \n",
              "\n",
              "      cur_year_avg  cur_year_avg_weighted  last_year_avg  \\\n",
              "rank                                                       \n",
              "1              0.0                    0.0            0.0   \n",
              "2              0.0                    0.0            0.0   \n",
              "3              0.0                    0.0            0.0   \n",
              "4              0.0                    0.0            0.0   \n",
              "5              0.0                    0.0            0.0   \n",
              "\n",
              "      last_year_avg_weighted  two_year_ago_avg  two_year_ago_weighted  \\\n",
              "rank                                                                    \n",
              "1                        0.0               0.0                    0.0   \n",
              "2                        0.0               0.0                    0.0   \n",
              "3                        0.0               0.0                    0.0   \n",
              "4                        0.0               0.0                    0.0   \n",
              "5                        0.0               0.0                    0.0   \n",
              "\n",
              "      three_year_ago_avg  three_year_ago_weighted confederation  rank_date  \n",
              "rank                                                                        \n",
              "1                    0.0                      0.0          UEFA 1993-08-08  \n",
              "2                    0.0                      0.0          UEFA 1993-08-08  \n",
              "3                    0.0                      0.0          UEFA 1993-08-08  \n",
              "4                    0.0                      0.0          UEFA 1993-08-08  \n",
              "5                    0.0                      0.0      CONMEBOL 1993-08-08  "
            ]
          },
          "metadata": {
            "tags": []
          },
          "execution_count": 132
        }
      ]
    },
    {
      "cell_type": "code",
      "metadata": {
        "id": "wv0UClbt16u-",
        "colab_type": "code",
        "outputId": "f70639d7-4b8d-47ae-8e51-2e217af0fb4b",
        "colab": {}
      },
      "source": [
        "mex=fifa[(fifa['country_abrv']=='MEX') & (fifa['year']>2000)]\n",
        "mex.head()"
      ],
      "execution_count": 0,
      "outputs": [
        {
          "output_type": "execute_result",
          "data": {
            "text/html": [
              "<div>\n",
              "<style scoped>\n",
              "    .dataframe tbody tr th:only-of-type {\n",
              "        vertical-align: middle;\n",
              "    }\n",
              "\n",
              "    .dataframe tbody tr th {\n",
              "        vertical-align: top;\n",
              "    }\n",
              "\n",
              "    .dataframe thead th {\n",
              "        text-align: right;\n",
              "    }\n",
              "</style>\n",
              "<table border=\"1\" class=\"dataframe\">\n",
              "  <thead>\n",
              "    <tr style=\"text-align: right;\">\n",
              "      <th></th>\n",
              "      <th>country_full</th>\n",
              "      <th>country_abrv</th>\n",
              "      <th>total_points</th>\n",
              "      <th>previous_points</th>\n",
              "      <th>rank_change</th>\n",
              "      <th>cur_year_avg</th>\n",
              "      <th>cur_year_avg_weighted</th>\n",
              "      <th>last_year_avg</th>\n",
              "      <th>last_year_avg_weighted</th>\n",
              "      <th>two_year_ago_avg</th>\n",
              "      <th>two_year_ago_weighted</th>\n",
              "      <th>three_year_ago_avg</th>\n",
              "      <th>three_year_ago_weighted</th>\n",
              "      <th>confederation</th>\n",
              "      <th>rank_date</th>\n",
              "      <th>year</th>\n",
              "    </tr>\n",
              "    <tr>\n",
              "      <th>rank</th>\n",
              "      <th></th>\n",
              "      <th></th>\n",
              "      <th></th>\n",
              "      <th></th>\n",
              "      <th></th>\n",
              "      <th></th>\n",
              "      <th></th>\n",
              "      <th></th>\n",
              "      <th></th>\n",
              "      <th></th>\n",
              "      <th></th>\n",
              "      <th></th>\n",
              "      <th></th>\n",
              "      <th></th>\n",
              "      <th></th>\n",
              "      <th></th>\n",
              "    </tr>\n",
              "  </thead>\n",
              "  <tbody>\n",
              "    <tr>\n",
              "      <th>12</th>\n",
              "      <td>Mexico</td>\n",
              "      <td>MEX</td>\n",
              "      <td>0.0</td>\n",
              "      <td>693</td>\n",
              "      <td>0</td>\n",
              "      <td>0.0</td>\n",
              "      <td>0.0</td>\n",
              "      <td>0.0</td>\n",
              "      <td>0.0</td>\n",
              "      <td>0.0</td>\n",
              "      <td>0.0</td>\n",
              "      <td>0.0</td>\n",
              "      <td>0.0</td>\n",
              "      <td>CONCACAF</td>\n",
              "      <td>2001-01-17</td>\n",
              "      <td>2001</td>\n",
              "    </tr>\n",
              "    <tr>\n",
              "      <th>12</th>\n",
              "      <td>Mexico</td>\n",
              "      <td>MEX</td>\n",
              "      <td>0.0</td>\n",
              "      <td>691</td>\n",
              "      <td>0</td>\n",
              "      <td>0.0</td>\n",
              "      <td>0.0</td>\n",
              "      <td>0.0</td>\n",
              "      <td>0.0</td>\n",
              "      <td>0.0</td>\n",
              "      <td>0.0</td>\n",
              "      <td>0.0</td>\n",
              "      <td>0.0</td>\n",
              "      <td>CONCACAF</td>\n",
              "      <td>2001-02-14</td>\n",
              "      <td>2001</td>\n",
              "    </tr>\n",
              "    <tr>\n",
              "      <th>12</th>\n",
              "      <td>Mexico</td>\n",
              "      <td>MEX</td>\n",
              "      <td>0.0</td>\n",
              "      <td>688</td>\n",
              "      <td>0</td>\n",
              "      <td>0.0</td>\n",
              "      <td>0.0</td>\n",
              "      <td>0.0</td>\n",
              "      <td>0.0</td>\n",
              "      <td>0.0</td>\n",
              "      <td>0.0</td>\n",
              "      <td>0.0</td>\n",
              "      <td>0.0</td>\n",
              "      <td>CONCACAF</td>\n",
              "      <td>2001-03-14</td>\n",
              "      <td>2001</td>\n",
              "    </tr>\n",
              "    <tr>\n",
              "      <th>13</th>\n",
              "      <td>Mexico</td>\n",
              "      <td>MEX</td>\n",
              "      <td>0.0</td>\n",
              "      <td>684</td>\n",
              "      <td>-1</td>\n",
              "      <td>0.0</td>\n",
              "      <td>0.0</td>\n",
              "      <td>0.0</td>\n",
              "      <td>0.0</td>\n",
              "      <td>0.0</td>\n",
              "      <td>0.0</td>\n",
              "      <td>0.0</td>\n",
              "      <td>0.0</td>\n",
              "      <td>CONCACAF</td>\n",
              "      <td>2001-04-11</td>\n",
              "      <td>2001</td>\n",
              "    </tr>\n",
              "    <tr>\n",
              "      <th>13</th>\n",
              "      <td>Mexico</td>\n",
              "      <td>MEX</td>\n",
              "      <td>0.0</td>\n",
              "      <td>681</td>\n",
              "      <td>0</td>\n",
              "      <td>0.0</td>\n",
              "      <td>0.0</td>\n",
              "      <td>0.0</td>\n",
              "      <td>0.0</td>\n",
              "      <td>0.0</td>\n",
              "      <td>0.0</td>\n",
              "      <td>0.0</td>\n",
              "      <td>0.0</td>\n",
              "      <td>CONCACAF</td>\n",
              "      <td>2001-05-16</td>\n",
              "      <td>2001</td>\n",
              "    </tr>\n",
              "  </tbody>\n",
              "</table>\n",
              "</div>"
            ],
            "text/plain": [
              "     country_full country_abrv  total_points  previous_points  rank_change  \\\n",
              "rank                                                                         \n",
              "12         Mexico          MEX           0.0              693            0   \n",
              "12         Mexico          MEX           0.0              691            0   \n",
              "12         Mexico          MEX           0.0              688            0   \n",
              "13         Mexico          MEX           0.0              684           -1   \n",
              "13         Mexico          MEX           0.0              681            0   \n",
              "\n",
              "      cur_year_avg  cur_year_avg_weighted  last_year_avg  \\\n",
              "rank                                                       \n",
              "12             0.0                    0.0            0.0   \n",
              "12             0.0                    0.0            0.0   \n",
              "12             0.0                    0.0            0.0   \n",
              "13             0.0                    0.0            0.0   \n",
              "13             0.0                    0.0            0.0   \n",
              "\n",
              "      last_year_avg_weighted  two_year_ago_avg  two_year_ago_weighted  \\\n",
              "rank                                                                    \n",
              "12                       0.0               0.0                    0.0   \n",
              "12                       0.0               0.0                    0.0   \n",
              "12                       0.0               0.0                    0.0   \n",
              "13                       0.0               0.0                    0.0   \n",
              "13                       0.0               0.0                    0.0   \n",
              "\n",
              "      three_year_ago_avg  three_year_ago_weighted confederation  rank_date  \\\n",
              "rank                                                                         \n",
              "12                   0.0                      0.0      CONCACAF 2001-01-17   \n",
              "12                   0.0                      0.0      CONCACAF 2001-02-14   \n",
              "12                   0.0                      0.0      CONCACAF 2001-03-14   \n",
              "13                   0.0                      0.0      CONCACAF 2001-04-11   \n",
              "13                   0.0                      0.0      CONCACAF 2001-05-16   \n",
              "\n",
              "      year  \n",
              "rank        \n",
              "12    2001  \n",
              "12    2001  \n",
              "12    2001  \n",
              "13    2001  \n",
              "13    2001  "
            ]
          },
          "metadata": {
            "tags": []
          },
          "execution_count": 144
        }
      ]
    },
    {
      "cell_type": "code",
      "metadata": {
        "id": "T5ma9_Qq16vA",
        "colab_type": "code",
        "outputId": "5dc1a4bd-e6f1-46c1-ffb8-1a1212af875f",
        "colab": {}
      },
      "source": [
        "mex=mex.sort_values(by='rank_date')\n",
        "mex.head()"
      ],
      "execution_count": 0,
      "outputs": [
        {
          "output_type": "execute_result",
          "data": {
            "text/html": [
              "<div>\n",
              "<style scoped>\n",
              "    .dataframe tbody tr th:only-of-type {\n",
              "        vertical-align: middle;\n",
              "    }\n",
              "\n",
              "    .dataframe tbody tr th {\n",
              "        vertical-align: top;\n",
              "    }\n",
              "\n",
              "    .dataframe thead th {\n",
              "        text-align: right;\n",
              "    }\n",
              "</style>\n",
              "<table border=\"1\" class=\"dataframe\">\n",
              "  <thead>\n",
              "    <tr style=\"text-align: right;\">\n",
              "      <th></th>\n",
              "      <th>country_full</th>\n",
              "      <th>country_abrv</th>\n",
              "      <th>total_points</th>\n",
              "      <th>previous_points</th>\n",
              "      <th>rank_change</th>\n",
              "      <th>cur_year_avg</th>\n",
              "      <th>cur_year_avg_weighted</th>\n",
              "      <th>last_year_avg</th>\n",
              "      <th>last_year_avg_weighted</th>\n",
              "      <th>two_year_ago_avg</th>\n",
              "      <th>two_year_ago_weighted</th>\n",
              "      <th>three_year_ago_avg</th>\n",
              "      <th>three_year_ago_weighted</th>\n",
              "      <th>confederation</th>\n",
              "      <th>rank_date</th>\n",
              "      <th>year</th>\n",
              "    </tr>\n",
              "    <tr>\n",
              "      <th>rank</th>\n",
              "      <th></th>\n",
              "      <th></th>\n",
              "      <th></th>\n",
              "      <th></th>\n",
              "      <th></th>\n",
              "      <th></th>\n",
              "      <th></th>\n",
              "      <th></th>\n",
              "      <th></th>\n",
              "      <th></th>\n",
              "      <th></th>\n",
              "      <th></th>\n",
              "      <th></th>\n",
              "      <th></th>\n",
              "      <th></th>\n",
              "      <th></th>\n",
              "    </tr>\n",
              "  </thead>\n",
              "  <tbody>\n",
              "    <tr>\n",
              "      <th>12</th>\n",
              "      <td>Mexico</td>\n",
              "      <td>MEX</td>\n",
              "      <td>0.0</td>\n",
              "      <td>693</td>\n",
              "      <td>0</td>\n",
              "      <td>0.0</td>\n",
              "      <td>0.0</td>\n",
              "      <td>0.0</td>\n",
              "      <td>0.0</td>\n",
              "      <td>0.0</td>\n",
              "      <td>0.0</td>\n",
              "      <td>0.0</td>\n",
              "      <td>0.0</td>\n",
              "      <td>CONCACAF</td>\n",
              "      <td>2001-01-17</td>\n",
              "      <td>2001</td>\n",
              "    </tr>\n",
              "    <tr>\n",
              "      <th>12</th>\n",
              "      <td>Mexico</td>\n",
              "      <td>MEX</td>\n",
              "      <td>0.0</td>\n",
              "      <td>691</td>\n",
              "      <td>0</td>\n",
              "      <td>0.0</td>\n",
              "      <td>0.0</td>\n",
              "      <td>0.0</td>\n",
              "      <td>0.0</td>\n",
              "      <td>0.0</td>\n",
              "      <td>0.0</td>\n",
              "      <td>0.0</td>\n",
              "      <td>0.0</td>\n",
              "      <td>CONCACAF</td>\n",
              "      <td>2001-02-14</td>\n",
              "      <td>2001</td>\n",
              "    </tr>\n",
              "    <tr>\n",
              "      <th>12</th>\n",
              "      <td>Mexico</td>\n",
              "      <td>MEX</td>\n",
              "      <td>0.0</td>\n",
              "      <td>688</td>\n",
              "      <td>0</td>\n",
              "      <td>0.0</td>\n",
              "      <td>0.0</td>\n",
              "      <td>0.0</td>\n",
              "      <td>0.0</td>\n",
              "      <td>0.0</td>\n",
              "      <td>0.0</td>\n",
              "      <td>0.0</td>\n",
              "      <td>0.0</td>\n",
              "      <td>CONCACAF</td>\n",
              "      <td>2001-03-14</td>\n",
              "      <td>2001</td>\n",
              "    </tr>\n",
              "    <tr>\n",
              "      <th>13</th>\n",
              "      <td>Mexico</td>\n",
              "      <td>MEX</td>\n",
              "      <td>0.0</td>\n",
              "      <td>684</td>\n",
              "      <td>-1</td>\n",
              "      <td>0.0</td>\n",
              "      <td>0.0</td>\n",
              "      <td>0.0</td>\n",
              "      <td>0.0</td>\n",
              "      <td>0.0</td>\n",
              "      <td>0.0</td>\n",
              "      <td>0.0</td>\n",
              "      <td>0.0</td>\n",
              "      <td>CONCACAF</td>\n",
              "      <td>2001-04-11</td>\n",
              "      <td>2001</td>\n",
              "    </tr>\n",
              "    <tr>\n",
              "      <th>13</th>\n",
              "      <td>Mexico</td>\n",
              "      <td>MEX</td>\n",
              "      <td>0.0</td>\n",
              "      <td>681</td>\n",
              "      <td>0</td>\n",
              "      <td>0.0</td>\n",
              "      <td>0.0</td>\n",
              "      <td>0.0</td>\n",
              "      <td>0.0</td>\n",
              "      <td>0.0</td>\n",
              "      <td>0.0</td>\n",
              "      <td>0.0</td>\n",
              "      <td>0.0</td>\n",
              "      <td>CONCACAF</td>\n",
              "      <td>2001-05-16</td>\n",
              "      <td>2001</td>\n",
              "    </tr>\n",
              "  </tbody>\n",
              "</table>\n",
              "</div>"
            ],
            "text/plain": [
              "     country_full country_abrv  total_points  previous_points  rank_change  \\\n",
              "rank                                                                         \n",
              "12         Mexico          MEX           0.0              693            0   \n",
              "12         Mexico          MEX           0.0              691            0   \n",
              "12         Mexico          MEX           0.0              688            0   \n",
              "13         Mexico          MEX           0.0              684           -1   \n",
              "13         Mexico          MEX           0.0              681            0   \n",
              "\n",
              "      cur_year_avg  cur_year_avg_weighted  last_year_avg  \\\n",
              "rank                                                       \n",
              "12             0.0                    0.0            0.0   \n",
              "12             0.0                    0.0            0.0   \n",
              "12             0.0                    0.0            0.0   \n",
              "13             0.0                    0.0            0.0   \n",
              "13             0.0                    0.0            0.0   \n",
              "\n",
              "      last_year_avg_weighted  two_year_ago_avg  two_year_ago_weighted  \\\n",
              "rank                                                                    \n",
              "12                       0.0               0.0                    0.0   \n",
              "12                       0.0               0.0                    0.0   \n",
              "12                       0.0               0.0                    0.0   \n",
              "13                       0.0               0.0                    0.0   \n",
              "13                       0.0               0.0                    0.0   \n",
              "\n",
              "      three_year_ago_avg  three_year_ago_weighted confederation  rank_date  \\\n",
              "rank                                                                         \n",
              "12                   0.0                      0.0      CONCACAF 2001-01-17   \n",
              "12                   0.0                      0.0      CONCACAF 2001-02-14   \n",
              "12                   0.0                      0.0      CONCACAF 2001-03-14   \n",
              "13                   0.0                      0.0      CONCACAF 2001-04-11   \n",
              "13                   0.0                      0.0      CONCACAF 2001-05-16   \n",
              "\n",
              "      year  \n",
              "rank        \n",
              "12    2001  \n",
              "12    2001  \n",
              "12    2001  \n",
              "13    2001  \n",
              "13    2001  "
            ]
          },
          "metadata": {
            "tags": []
          },
          "execution_count": 145
        }
      ]
    },
    {
      "cell_type": "markdown",
      "metadata": {
        "id": "wv6rI-9P16vC",
        "colab_type": "text"
      },
      "source": [
        "Para hacer gráficas, utilizamos matplotlib."
      ]
    },
    {
      "cell_type": "code",
      "metadata": {
        "id": "3GUh258J16vD",
        "colab_type": "code",
        "outputId": "c939dae9-b037-41de-c9ee-057d362b6df9",
        "colab": {}
      },
      "source": [
        "plt.plot(mex['rank_date'], mex.index)\n",
        "plt.show()"
      ],
      "execution_count": 0,
      "outputs": [
        {
          "output_type": "stream",
          "text": [
            "/usr/local/anaconda/lib/python3.6/site-packages/pandas/plotting/_converter.py:129: FutureWarning: Using an implicitly registered datetime converter for a matplotlib plotting method. The converter was registered by pandas on import. Future versions of pandas will require you to explicitly register matplotlib converters.\n",
            "\n",
            "To register the converters:\n",
            "\t>>> from pandas.plotting import register_matplotlib_converters\n",
            "\t>>> register_matplotlib_converters()\n",
            "  warnings.warn(msg, FutureWarning)\n"
          ],
          "name": "stderr"
        },
        {
          "output_type": "display_data",
          "data": {
            "image/png": "[encoded data removed]",
            "text/plain": [
              "<Figure size 432x288 with 1 Axes>"
            ]
          },
          "metadata": {
            "tags": [],
            "needs_background": "light"
          }
        }
      ]
    },
    {
      "cell_type": "markdown",
      "metadata": {
        "id": "tVSfnclu16vF",
        "colab_type": "text"
      },
      "source": [
        "## Agrupación"
      ]
    },
    {
      "cell_type": "code",
      "metadata": {
        "id": "ek8pseO616vF",
        "colab_type": "code",
        "outputId": "32870fe6-837a-4d9a-df26-e0fece10db68",
        "colab": {}
      },
      "source": [
        "fifa.head(10)"
      ],
      "execution_count": 0,
      "outputs": [
        {
          "output_type": "execute_result",
          "data": {
            "text/html": [
              "<div>\n",
              "<style scoped>\n",
              "    .dataframe tbody tr th:only-of-type {\n",
              "        vertical-align: middle;\n",
              "    }\n",
              "\n",
              "    .dataframe tbody tr th {\n",
              "        vertical-align: top;\n",
              "    }\n",
              "\n",
              "    .dataframe thead th {\n",
              "        text-align: right;\n",
              "    }\n",
              "</style>\n",
              "<table border=\"1\" class=\"dataframe\">\n",
              "  <thead>\n",
              "    <tr style=\"text-align: right;\">\n",
              "      <th></th>\n",
              "      <th>country_full</th>\n",
              "      <th>country_abrv</th>\n",
              "      <th>total_points</th>\n",
              "      <th>previous_points</th>\n",
              "      <th>rank_change</th>\n",
              "      <th>cur_year_avg</th>\n",
              "      <th>cur_year_avg_weighted</th>\n",
              "      <th>last_year_avg</th>\n",
              "      <th>last_year_avg_weighted</th>\n",
              "      <th>two_year_ago_avg</th>\n",
              "      <th>two_year_ago_weighted</th>\n",
              "      <th>three_year_ago_avg</th>\n",
              "      <th>three_year_ago_weighted</th>\n",
              "      <th>confederation</th>\n",
              "      <th>rank_date</th>\n",
              "      <th>year</th>\n",
              "    </tr>\n",
              "    <tr>\n",
              "      <th>rank</th>\n",
              "      <th></th>\n",
              "      <th></th>\n",
              "      <th></th>\n",
              "      <th></th>\n",
              "      <th></th>\n",
              "      <th></th>\n",
              "      <th></th>\n",
              "      <th></th>\n",
              "      <th></th>\n",
              "      <th></th>\n",
              "      <th></th>\n",
              "      <th></th>\n",
              "      <th></th>\n",
              "      <th></th>\n",
              "      <th></th>\n",
              "      <th></th>\n",
              "    </tr>\n",
              "  </thead>\n",
              "  <tbody>\n",
              "    <tr>\n",
              "      <th>1</th>\n",
              "      <td>Germany</td>\n",
              "      <td>GER</td>\n",
              "      <td>0.0</td>\n",
              "      <td>57</td>\n",
              "      <td>0</td>\n",
              "      <td>0.0</td>\n",
              "      <td>0.0</td>\n",
              "      <td>0.0</td>\n",
              "      <td>0.0</td>\n",
              "      <td>0.0</td>\n",
              "      <td>0.0</td>\n",
              "      <td>0.0</td>\n",
              "      <td>0.0</td>\n",
              "      <td>UEFA</td>\n",
              "      <td>1993-08-08</td>\n",
              "      <td>1993</td>\n",
              "    </tr>\n",
              "    <tr>\n",
              "      <th>2</th>\n",
              "      <td>Italy</td>\n",
              "      <td>ITA</td>\n",
              "      <td>0.0</td>\n",
              "      <td>57</td>\n",
              "      <td>0</td>\n",
              "      <td>0.0</td>\n",
              "      <td>0.0</td>\n",
              "      <td>0.0</td>\n",
              "      <td>0.0</td>\n",
              "      <td>0.0</td>\n",
              "      <td>0.0</td>\n",
              "      <td>0.0</td>\n",
              "      <td>0.0</td>\n",
              "      <td>UEFA</td>\n",
              "      <td>1993-08-08</td>\n",
              "      <td>1993</td>\n",
              "    </tr>\n",
              "    <tr>\n",
              "      <th>3</th>\n",
              "      <td>Switzerland</td>\n",
              "      <td>SUI</td>\n",
              "      <td>0.0</td>\n",
              "      <td>50</td>\n",
              "      <td>9</td>\n",
              "      <td>0.0</td>\n",
              "      <td>0.0</td>\n",
              "      <td>0.0</td>\n",
              "      <td>0.0</td>\n",
              "      <td>0.0</td>\n",
              "      <td>0.0</td>\n",
              "      <td>0.0</td>\n",
              "      <td>0.0</td>\n",
              "      <td>UEFA</td>\n",
              "      <td>1993-08-08</td>\n",
              "      <td>1993</td>\n",
              "    </tr>\n",
              "    <tr>\n",
              "      <th>4</th>\n",
              "      <td>Sweden</td>\n",
              "      <td>SWE</td>\n",
              "      <td>0.0</td>\n",
              "      <td>55</td>\n",
              "      <td>0</td>\n",
              "      <td>0.0</td>\n",
              "      <td>0.0</td>\n",
              "      <td>0.0</td>\n",
              "      <td>0.0</td>\n",
              "      <td>0.0</td>\n",
              "      <td>0.0</td>\n",
              "      <td>0.0</td>\n",
              "      <td>0.0</td>\n",
              "      <td>UEFA</td>\n",
              "      <td>1993-08-08</td>\n",
              "      <td>1993</td>\n",
              "    </tr>\n",
              "    <tr>\n",
              "      <th>5</th>\n",
              "      <td>Argentina</td>\n",
              "      <td>ARG</td>\n",
              "      <td>0.0</td>\n",
              "      <td>51</td>\n",
              "      <td>5</td>\n",
              "      <td>0.0</td>\n",
              "      <td>0.0</td>\n",
              "      <td>0.0</td>\n",
              "      <td>0.0</td>\n",
              "      <td>0.0</td>\n",
              "      <td>0.0</td>\n",
              "      <td>0.0</td>\n",
              "      <td>0.0</td>\n",
              "      <td>CONMEBOL</td>\n",
              "      <td>1993-08-08</td>\n",
              "      <td>1993</td>\n",
              "    </tr>\n",
              "    <tr>\n",
              "      <th>6</th>\n",
              "      <td>Republic of Ireland</td>\n",
              "      <td>IRL</td>\n",
              "      <td>0.0</td>\n",
              "      <td>54</td>\n",
              "      <td>0</td>\n",
              "      <td>0.0</td>\n",
              "      <td>0.0</td>\n",
              "      <td>0.0</td>\n",
              "      <td>0.0</td>\n",
              "      <td>0.0</td>\n",
              "      <td>0.0</td>\n",
              "      <td>0.0</td>\n",
              "      <td>0.0</td>\n",
              "      <td>UEFA</td>\n",
              "      <td>1993-08-08</td>\n",
              "      <td>1993</td>\n",
              "    </tr>\n",
              "    <tr>\n",
              "      <th>7</th>\n",
              "      <td>Russia</td>\n",
              "      <td>RUS</td>\n",
              "      <td>0.0</td>\n",
              "      <td>52</td>\n",
              "      <td>1</td>\n",
              "      <td>0.0</td>\n",
              "      <td>0.0</td>\n",
              "      <td>0.0</td>\n",
              "      <td>0.0</td>\n",
              "      <td>0.0</td>\n",
              "      <td>0.0</td>\n",
              "      <td>0.0</td>\n",
              "      <td>0.0</td>\n",
              "      <td>UEFA</td>\n",
              "      <td>1993-08-08</td>\n",
              "      <td>1993</td>\n",
              "    </tr>\n",
              "    <tr>\n",
              "      <th>8</th>\n",
              "      <td>Brazil</td>\n",
              "      <td>BRA</td>\n",
              "      <td>0.0</td>\n",
              "      <td>55</td>\n",
              "      <td>-5</td>\n",
              "      <td>0.0</td>\n",
              "      <td>0.0</td>\n",
              "      <td>0.0</td>\n",
              "      <td>0.0</td>\n",
              "      <td>0.0</td>\n",
              "      <td>0.0</td>\n",
              "      <td>0.0</td>\n",
              "      <td>0.0</td>\n",
              "      <td>CONMEBOL</td>\n",
              "      <td>1993-08-08</td>\n",
              "      <td>1993</td>\n",
              "    </tr>\n",
              "    <tr>\n",
              "      <th>9</th>\n",
              "      <td>Norway</td>\n",
              "      <td>NOR</td>\n",
              "      <td>0.0</td>\n",
              "      <td>49</td>\n",
              "      <td>5</td>\n",
              "      <td>0.0</td>\n",
              "      <td>0.0</td>\n",
              "      <td>0.0</td>\n",
              "      <td>0.0</td>\n",
              "      <td>0.0</td>\n",
              "      <td>0.0</td>\n",
              "      <td>0.0</td>\n",
              "      <td>0.0</td>\n",
              "      <td>UEFA</td>\n",
              "      <td>1993-08-08</td>\n",
              "      <td>1993</td>\n",
              "    </tr>\n",
              "    <tr>\n",
              "      <th>10</th>\n",
              "      <td>Denmark</td>\n",
              "      <td>DEN</td>\n",
              "      <td>0.0</td>\n",
              "      <td>51</td>\n",
              "      <td>-1</td>\n",
              "      <td>0.0</td>\n",
              "      <td>0.0</td>\n",
              "      <td>0.0</td>\n",
              "      <td>0.0</td>\n",
              "      <td>0.0</td>\n",
              "      <td>0.0</td>\n",
              "      <td>0.0</td>\n",
              "      <td>0.0</td>\n",
              "      <td>UEFA</td>\n",
              "      <td>1993-08-08</td>\n",
              "      <td>1993</td>\n",
              "    </tr>\n",
              "  </tbody>\n",
              "</table>\n",
              "</div>"
            ],
            "text/plain": [
              "             country_full country_abrv  total_points  previous_points  \\\n",
              "rank                                                                    \n",
              "1                 Germany          GER           0.0               57   \n",
              "2                   Italy          ITA           0.0               57   \n",
              "3             Switzerland          SUI           0.0               50   \n",
              "4                  Sweden          SWE           0.0               55   \n",
              "5               Argentina          ARG           0.0               51   \n",
              "6     Republic of Ireland          IRL           0.0               54   \n",
              "7                  Russia          RUS           0.0               52   \n",
              "8                  Brazil          BRA           0.0               55   \n",
              "9                  Norway          NOR           0.0               49   \n",
              "10                Denmark          DEN           0.0               51   \n",
              "\n",
              "      rank_change  cur_year_avg  cur_year_avg_weighted  last_year_avg  \\\n",
              "rank                                                                    \n",
              "1               0           0.0                    0.0            0.0   \n",
              "2               0           0.0                    0.0            0.0   \n",
              "3               9           0.0                    0.0            0.0   \n",
              "4               0           0.0                    0.0            0.0   \n",
              "5               5           0.0                    0.0            0.0   \n",
              "6               0           0.0                    0.0            0.0   \n",
              "7               1           0.0                    0.0            0.0   \n",
              "8              -5           0.0                    0.0            0.0   \n",
              "9               5           0.0                    0.0            0.0   \n",
              "10             -1           0.0                    0.0            0.0   \n",
              "\n",
              "      last_year_avg_weighted  two_year_ago_avg  two_year_ago_weighted  \\\n",
              "rank                                                                    \n",
              "1                        0.0               0.0                    0.0   \n",
              "2                        0.0               0.0                    0.0   \n",
              "3                        0.0               0.0                    0.0   \n",
              "4                        0.0               0.0                    0.0   \n",
              "5                        0.0               0.0                    0.0   \n",
              "6                        0.0               0.0                    0.0   \n",
              "7                        0.0               0.0                    0.0   \n",
              "8                        0.0               0.0                    0.0   \n",
              "9                        0.0               0.0                    0.0   \n",
              "10                       0.0               0.0                    0.0   \n",
              "\n",
              "      three_year_ago_avg  three_year_ago_weighted confederation  rank_date  \\\n",
              "rank                                                                         \n",
              "1                    0.0                      0.0          UEFA 1993-08-08   \n",
              "2                    0.0                      0.0          UEFA 1993-08-08   \n",
              "3                    0.0                      0.0          UEFA 1993-08-08   \n",
              "4                    0.0                      0.0          UEFA 1993-08-08   \n",
              "5                    0.0                      0.0      CONMEBOL 1993-08-08   \n",
              "6                    0.0                      0.0          UEFA 1993-08-08   \n",
              "7                    0.0                      0.0          UEFA 1993-08-08   \n",
              "8                    0.0                      0.0      CONMEBOL 1993-08-08   \n",
              "9                    0.0                      0.0          UEFA 1993-08-08   \n",
              "10                   0.0                      0.0          UEFA 1993-08-08   \n",
              "\n",
              "      year  \n",
              "rank        \n",
              "1     1993  \n",
              "2     1993  \n",
              "3     1993  \n",
              "4     1993  \n",
              "5     1993  \n",
              "6     1993  \n",
              "7     1993  \n",
              "8     1993  \n",
              "9     1993  \n",
              "10    1993  "
            ]
          },
          "metadata": {
            "tags": []
          },
          "execution_count": 147
        }
      ]
    },
    {
      "cell_type": "code",
      "metadata": {
        "id": "H2AYugI716vJ",
        "colab_type": "code",
        "outputId": "9749c76b-567f-4857-b363-07d7d30c0ab4",
        "colab": {}
      },
      "source": [
        "fifa.groupby('year').sum().head(5)"
      ],
      "execution_count": 0,
      "outputs": [
        {
          "output_type": "execute_result",
          "data": {
            "text/html": [
              "<div>\n",
              "<style scoped>\n",
              "    .dataframe tbody tr th:only-of-type {\n",
              "        vertical-align: middle;\n",
              "    }\n",
              "\n",
              "    .dataframe tbody tr th {\n",
              "        vertical-align: top;\n",
              "    }\n",
              "\n",
              "    .dataframe thead th {\n",
              "        text-align: right;\n",
              "    }\n",
              "</style>\n",
              "<table border=\"1\" class=\"dataframe\">\n",
              "  <thead>\n",
              "    <tr style=\"text-align: right;\">\n",
              "      <th></th>\n",
              "      <th>total_points</th>\n",
              "      <th>previous_points</th>\n",
              "      <th>rank_change</th>\n",
              "      <th>cur_year_avg</th>\n",
              "      <th>cur_year_avg_weighted</th>\n",
              "      <th>last_year_avg</th>\n",
              "      <th>last_year_avg_weighted</th>\n",
              "      <th>two_year_ago_avg</th>\n",
              "      <th>two_year_ago_weighted</th>\n",
              "      <th>three_year_ago_avg</th>\n",
              "      <th>three_year_ago_weighted</th>\n",
              "    </tr>\n",
              "    <tr>\n",
              "      <th>year</th>\n",
              "      <th></th>\n",
              "      <th></th>\n",
              "      <th></th>\n",
              "      <th></th>\n",
              "      <th></th>\n",
              "      <th></th>\n",
              "      <th></th>\n",
              "      <th></th>\n",
              "      <th></th>\n",
              "      <th></th>\n",
              "      <th></th>\n",
              "    </tr>\n",
              "  </thead>\n",
              "  <tbody>\n",
              "    <tr>\n",
              "      <th>1993</th>\n",
              "      <td>0.0</td>\n",
              "      <td>18041</td>\n",
              "      <td>-61</td>\n",
              "      <td>0.0</td>\n",
              "      <td>0.0</td>\n",
              "      <td>0.0</td>\n",
              "      <td>0.0</td>\n",
              "      <td>0.0</td>\n",
              "      <td>0.0</td>\n",
              "      <td>0.0</td>\n",
              "      <td>0.0</td>\n",
              "    </tr>\n",
              "    <tr>\n",
              "      <th>1994</th>\n",
              "      <td>0.0</td>\n",
              "      <td>37873</td>\n",
              "      <td>-246</td>\n",
              "      <td>0.0</td>\n",
              "      <td>0.0</td>\n",
              "      <td>0.0</td>\n",
              "      <td>0.0</td>\n",
              "      <td>0.0</td>\n",
              "      <td>0.0</td>\n",
              "      <td>0.0</td>\n",
              "      <td>0.0</td>\n",
              "    </tr>\n",
              "    <tr>\n",
              "      <th>1995</th>\n",
              "      <td>0.0</td>\n",
              "      <td>42233</td>\n",
              "      <td>-80</td>\n",
              "      <td>0.0</td>\n",
              "      <td>0.0</td>\n",
              "      <td>0.0</td>\n",
              "      <td>0.0</td>\n",
              "      <td>0.0</td>\n",
              "      <td>0.0</td>\n",
              "      <td>0.0</td>\n",
              "      <td>0.0</td>\n",
              "    </tr>\n",
              "    <tr>\n",
              "      <th>1996</th>\n",
              "      <td>0.0</td>\n",
              "      <td>47804</td>\n",
              "      <td>-52</td>\n",
              "      <td>0.0</td>\n",
              "      <td>0.0</td>\n",
              "      <td>0.0</td>\n",
              "      <td>0.0</td>\n",
              "      <td>0.0</td>\n",
              "      <td>0.0</td>\n",
              "      <td>0.0</td>\n",
              "      <td>0.0</td>\n",
              "    </tr>\n",
              "    <tr>\n",
              "      <th>1997</th>\n",
              "      <td>0.0</td>\n",
              "      <td>55448</td>\n",
              "      <td>-17</td>\n",
              "      <td>0.0</td>\n",
              "      <td>0.0</td>\n",
              "      <td>0.0</td>\n",
              "      <td>0.0</td>\n",
              "      <td>0.0</td>\n",
              "      <td>0.0</td>\n",
              "      <td>0.0</td>\n",
              "      <td>0.0</td>\n",
              "    </tr>\n",
              "  </tbody>\n",
              "</table>\n",
              "</div>"
            ],
            "text/plain": [
              "      total_points  previous_points  rank_change  cur_year_avg  \\\n",
              "year                                                             \n",
              "1993           0.0            18041          -61           0.0   \n",
              "1994           0.0            37873         -246           0.0   \n",
              "1995           0.0            42233          -80           0.0   \n",
              "1996           0.0            47804          -52           0.0   \n",
              "1997           0.0            55448          -17           0.0   \n",
              "\n",
              "      cur_year_avg_weighted  last_year_avg  last_year_avg_weighted  \\\n",
              "year                                                                 \n",
              "1993                    0.0            0.0                     0.0   \n",
              "1994                    0.0            0.0                     0.0   \n",
              "1995                    0.0            0.0                     0.0   \n",
              "1996                    0.0            0.0                     0.0   \n",
              "1997                    0.0            0.0                     0.0   \n",
              "\n",
              "      two_year_ago_avg  two_year_ago_weighted  three_year_ago_avg  \\\n",
              "year                                                                \n",
              "1993               0.0                    0.0                 0.0   \n",
              "1994               0.0                    0.0                 0.0   \n",
              "1995               0.0                    0.0                 0.0   \n",
              "1996               0.0                    0.0                 0.0   \n",
              "1997               0.0                    0.0                 0.0   \n",
              "\n",
              "      three_year_ago_weighted  \n",
              "year                           \n",
              "1993                      0.0  \n",
              "1994                      0.0  \n",
              "1995                      0.0  \n",
              "1996                      0.0  \n",
              "1997                      0.0  "
            ]
          },
          "metadata": {
            "tags": []
          },
          "execution_count": 148
        }
      ]
    },
    {
      "cell_type": "code",
      "metadata": {
        "id": "oDdrfZwo16vM",
        "colab_type": "code",
        "outputId": "5816a4e3-8a20-4caa-cd32-96748af76d64",
        "colab": {}
      },
      "source": [
        "fifa.groupby('year').mean().head()"
      ],
      "execution_count": 0,
      "outputs": [
        {
          "output_type": "execute_result",
          "data": {
            "text/html": [
              "<div>\n",
              "<style scoped>\n",
              "    .dataframe tbody tr th:only-of-type {\n",
              "        vertical-align: middle;\n",
              "    }\n",
              "\n",
              "    .dataframe tbody tr th {\n",
              "        vertical-align: top;\n",
              "    }\n",
              "\n",
              "    .dataframe thead th {\n",
              "        text-align: right;\n",
              "    }\n",
              "</style>\n",
              "<table border=\"1\" class=\"dataframe\">\n",
              "  <thead>\n",
              "    <tr style=\"text-align: right;\">\n",
              "      <th></th>\n",
              "      <th>total_points</th>\n",
              "      <th>previous_points</th>\n",
              "      <th>rank_change</th>\n",
              "      <th>cur_year_avg</th>\n",
              "      <th>cur_year_avg_weighted</th>\n",
              "      <th>last_year_avg</th>\n",
              "      <th>last_year_avg_weighted</th>\n",
              "      <th>two_year_ago_avg</th>\n",
              "      <th>two_year_ago_weighted</th>\n",
              "      <th>three_year_ago_avg</th>\n",
              "      <th>three_year_ago_weighted</th>\n",
              "    </tr>\n",
              "    <tr>\n",
              "      <th>year</th>\n",
              "      <th></th>\n",
              "      <th></th>\n",
              "      <th></th>\n",
              "      <th></th>\n",
              "      <th></th>\n",
              "      <th></th>\n",
              "      <th></th>\n",
              "      <th></th>\n",
              "      <th></th>\n",
              "      <th></th>\n",
              "      <th></th>\n",
              "    </tr>\n",
              "  </thead>\n",
              "  <tbody>\n",
              "    <tr>\n",
              "      <th>1993</th>\n",
              "      <td>0.0</td>\n",
              "      <td>21.554361</td>\n",
              "      <td>-0.072879</td>\n",
              "      <td>0.0</td>\n",
              "      <td>0.0</td>\n",
              "      <td>0.0</td>\n",
              "      <td>0.0</td>\n",
              "      <td>0.0</td>\n",
              "      <td>0.0</td>\n",
              "      <td>0.0</td>\n",
              "      <td>0.0</td>\n",
              "    </tr>\n",
              "    <tr>\n",
              "      <th>1994</th>\n",
              "      <td>0.0</td>\n",
              "      <td>21.917245</td>\n",
              "      <td>-0.142361</td>\n",
              "      <td>0.0</td>\n",
              "      <td>0.0</td>\n",
              "      <td>0.0</td>\n",
              "      <td>0.0</td>\n",
              "      <td>0.0</td>\n",
              "      <td>0.0</td>\n",
              "      <td>0.0</td>\n",
              "      <td>0.0</td>\n",
              "    </tr>\n",
              "    <tr>\n",
              "      <th>1995</th>\n",
              "      <td>0.0</td>\n",
              "      <td>23.567522</td>\n",
              "      <td>-0.044643</td>\n",
              "      <td>0.0</td>\n",
              "      <td>0.0</td>\n",
              "      <td>0.0</td>\n",
              "      <td>0.0</td>\n",
              "      <td>0.0</td>\n",
              "      <td>0.0</td>\n",
              "      <td>0.0</td>\n",
              "      <td>0.0</td>\n",
              "    </tr>\n",
              "    <tr>\n",
              "      <th>1996</th>\n",
              "      <td>0.0</td>\n",
              "      <td>25.881971</td>\n",
              "      <td>-0.028154</td>\n",
              "      <td>0.0</td>\n",
              "      <td>0.0</td>\n",
              "      <td>0.0</td>\n",
              "      <td>0.0</td>\n",
              "      <td>0.0</td>\n",
              "      <td>0.0</td>\n",
              "      <td>0.0</td>\n",
              "      <td>0.0</td>\n",
              "    </tr>\n",
              "    <tr>\n",
              "      <th>1997</th>\n",
              "      <td>0.0</td>\n",
              "      <td>28.939457</td>\n",
              "      <td>-0.008873</td>\n",
              "      <td>0.0</td>\n",
              "      <td>0.0</td>\n",
              "      <td>0.0</td>\n",
              "      <td>0.0</td>\n",
              "      <td>0.0</td>\n",
              "      <td>0.0</td>\n",
              "      <td>0.0</td>\n",
              "      <td>0.0</td>\n",
              "    </tr>\n",
              "  </tbody>\n",
              "</table>\n",
              "</div>"
            ],
            "text/plain": [
              "      total_points  previous_points  rank_change  cur_year_avg  \\\n",
              "year                                                             \n",
              "1993           0.0        21.554361    -0.072879           0.0   \n",
              "1994           0.0        21.917245    -0.142361           0.0   \n",
              "1995           0.0        23.567522    -0.044643           0.0   \n",
              "1996           0.0        25.881971    -0.028154           0.0   \n",
              "1997           0.0        28.939457    -0.008873           0.0   \n",
              "\n",
              "      cur_year_avg_weighted  last_year_avg  last_year_avg_weighted  \\\n",
              "year                                                                 \n",
              "1993                    0.0            0.0                     0.0   \n",
              "1994                    0.0            0.0                     0.0   \n",
              "1995                    0.0            0.0                     0.0   \n",
              "1996                    0.0            0.0                     0.0   \n",
              "1997                    0.0            0.0                     0.0   \n",
              "\n",
              "      two_year_ago_avg  two_year_ago_weighted  three_year_ago_avg  \\\n",
              "year                                                                \n",
              "1993               0.0                    0.0                 0.0   \n",
              "1994               0.0                    0.0                 0.0   \n",
              "1995               0.0                    0.0                 0.0   \n",
              "1996               0.0                    0.0                 0.0   \n",
              "1997               0.0                    0.0                 0.0   \n",
              "\n",
              "      three_year_ago_weighted  \n",
              "year                           \n",
              "1993                      0.0  \n",
              "1994                      0.0  \n",
              "1995                      0.0  \n",
              "1996                      0.0  \n",
              "1997                      0.0  "
            ]
          },
          "metadata": {
            "tags": []
          },
          "execution_count": 149
        }
      ]
    },
    {
      "cell_type": "code",
      "metadata": {
        "id": "yuRReAIS16vN",
        "colab_type": "code",
        "outputId": "042873a4-a02f-40a6-dc39-fffab34f281f",
        "colab": {}
      },
      "source": [
        "fifa.groupby(by=['year','country_full']).mean().head()"
      ],
      "execution_count": 0,
      "outputs": [
        {
          "output_type": "execute_result",
          "data": {
            "text/html": [
              "<div>\n",
              "<style scoped>\n",
              "    .dataframe tbody tr th:only-of-type {\n",
              "        vertical-align: middle;\n",
              "    }\n",
              "\n",
              "    .dataframe tbody tr th {\n",
              "        vertical-align: top;\n",
              "    }\n",
              "\n",
              "    .dataframe thead th {\n",
              "        text-align: right;\n",
              "    }\n",
              "</style>\n",
              "<table border=\"1\" class=\"dataframe\">\n",
              "  <thead>\n",
              "    <tr style=\"text-align: right;\">\n",
              "      <th></th>\n",
              "      <th></th>\n",
              "      <th>total_points</th>\n",
              "      <th>previous_points</th>\n",
              "      <th>rank_change</th>\n",
              "      <th>cur_year_avg</th>\n",
              "      <th>cur_year_avg_weighted</th>\n",
              "      <th>last_year_avg</th>\n",
              "      <th>last_year_avg_weighted</th>\n",
              "      <th>two_year_ago_avg</th>\n",
              "      <th>two_year_ago_weighted</th>\n",
              "      <th>three_year_ago_avg</th>\n",
              "      <th>three_year_ago_weighted</th>\n",
              "    </tr>\n",
              "    <tr>\n",
              "      <th>year</th>\n",
              "      <th>country_full</th>\n",
              "      <th></th>\n",
              "      <th></th>\n",
              "      <th></th>\n",
              "      <th></th>\n",
              "      <th></th>\n",
              "      <th></th>\n",
              "      <th></th>\n",
              "      <th></th>\n",
              "      <th></th>\n",
              "      <th></th>\n",
              "      <th></th>\n",
              "    </tr>\n",
              "  </thead>\n",
              "  <tbody>\n",
              "    <tr>\n",
              "      <th rowspan=\"5\" valign=\"top\">1993</th>\n",
              "      <th>Albania</th>\n",
              "      <td>0.0</td>\n",
              "      <td>15.2</td>\n",
              "      <td>-1.2</td>\n",
              "      <td>0.0</td>\n",
              "      <td>0.0</td>\n",
              "      <td>0.0</td>\n",
              "      <td>0.0</td>\n",
              "      <td>0.0</td>\n",
              "      <td>0.0</td>\n",
              "      <td>0.0</td>\n",
              "      <td>0.0</td>\n",
              "    </tr>\n",
              "    <tr>\n",
              "      <th>Algeria</th>\n",
              "      <td>0.0</td>\n",
              "      <td>40.6</td>\n",
              "      <td>-1.0</td>\n",
              "      <td>0.0</td>\n",
              "      <td>0.0</td>\n",
              "      <td>0.0</td>\n",
              "      <td>0.0</td>\n",
              "      <td>0.0</td>\n",
              "      <td>0.0</td>\n",
              "      <td>0.0</td>\n",
              "      <td>0.0</td>\n",
              "    </tr>\n",
              "    <tr>\n",
              "      <th>Angola</th>\n",
              "      <td>0.0</td>\n",
              "      <td>13.0</td>\n",
              "      <td>0.0</td>\n",
              "      <td>0.0</td>\n",
              "      <td>0.0</td>\n",
              "      <td>0.0</td>\n",
              "      <td>0.0</td>\n",
              "      <td>0.0</td>\n",
              "      <td>0.0</td>\n",
              "      <td>0.0</td>\n",
              "      <td>0.0</td>\n",
              "    </tr>\n",
              "    <tr>\n",
              "      <th>Antigua and Barbuda</th>\n",
              "      <td>0.0</td>\n",
              "      <td>6.4</td>\n",
              "      <td>-1.6</td>\n",
              "      <td>0.0</td>\n",
              "      <td>0.0</td>\n",
              "      <td>0.0</td>\n",
              "      <td>0.0</td>\n",
              "      <td>0.0</td>\n",
              "      <td>0.0</td>\n",
              "      <td>0.0</td>\n",
              "      <td>0.0</td>\n",
              "    </tr>\n",
              "    <tr>\n",
              "      <th>Argentina</th>\n",
              "      <td>0.0</td>\n",
              "      <td>54.4</td>\n",
              "      <td>0.4</td>\n",
              "      <td>0.0</td>\n",
              "      <td>0.0</td>\n",
              "      <td>0.0</td>\n",
              "      <td>0.0</td>\n",
              "      <td>0.0</td>\n",
              "      <td>0.0</td>\n",
              "      <td>0.0</td>\n",
              "      <td>0.0</td>\n",
              "    </tr>\n",
              "  </tbody>\n",
              "</table>\n",
              "</div>"
            ],
            "text/plain": [
              "                          total_points  previous_points  rank_change  \\\n",
              "year country_full                                                      \n",
              "1993 Albania                       0.0             15.2         -1.2   \n",
              "     Algeria                       0.0             40.6         -1.0   \n",
              "     Angola                        0.0             13.0          0.0   \n",
              "     Antigua and Barbuda           0.0              6.4         -1.6   \n",
              "     Argentina                     0.0             54.4          0.4   \n",
              "\n",
              "                          cur_year_avg  cur_year_avg_weighted  last_year_avg  \\\n",
              "year country_full                                                              \n",
              "1993 Albania                       0.0                    0.0            0.0   \n",
              "     Algeria                       0.0                    0.0            0.0   \n",
              "     Angola                        0.0                    0.0            0.0   \n",
              "     Antigua and Barbuda           0.0                    0.0            0.0   \n",
              "     Argentina                     0.0                    0.0            0.0   \n",
              "\n",
              "                          last_year_avg_weighted  two_year_ago_avg  \\\n",
              "year country_full                                                    \n",
              "1993 Albania                                 0.0               0.0   \n",
              "     Algeria                                 0.0               0.0   \n",
              "     Angola                                  0.0               0.0   \n",
              "     Antigua and Barbuda                     0.0               0.0   \n",
              "     Argentina                               0.0               0.0   \n",
              "\n",
              "                          two_year_ago_weighted  three_year_ago_avg  \\\n",
              "year country_full                                                     \n",
              "1993 Albania                                0.0                 0.0   \n",
              "     Algeria                                0.0                 0.0   \n",
              "     Angola                                 0.0                 0.0   \n",
              "     Antigua and Barbuda                    0.0                 0.0   \n",
              "     Argentina                              0.0                 0.0   \n",
              "\n",
              "                          three_year_ago_weighted  \n",
              "year country_full                                  \n",
              "1993 Albania                                  0.0  \n",
              "     Algeria                                  0.0  \n",
              "     Angola                                   0.0  \n",
              "     Antigua and Barbuda                      0.0  \n",
              "     Argentina                                0.0  "
            ]
          },
          "metadata": {
            "tags": []
          },
          "execution_count": 150
        }
      ]
    },
    {
      "cell_type": "markdown",
      "metadata": {
        "id": "Uy2cjche16vQ",
        "colab_type": "text"
      },
      "source": [
        "# Ejercicios Tarea"
      ]
    },
    {
      "cell_type": "markdown",
      "metadata": {
        "id": "CH5FCLk816vR",
        "colab_type": "text"
      },
      "source": [
        "Utilizando el texto de la Iliada:\n",
        "* ¿Cuáles son las 10 palabras más utilizadas en la Iliada?\n",
        "* ¿Cuáles son las 10 palabras con más letras?"
      ]
    },
    {
      "cell_type": "markdown",
      "metadata": {
        "id": "mByJ0A6U16vR",
        "colab_type": "text"
      },
      "source": [
        "Utilizando el DataSet de fifa:\n",
        "* ¿Cuáles son los 10 países que han cambiado de rango más de un año para el siguiente?\n",
        "* ¿Cuántos países han logrado llegar a los primeros 10 rangos más de una vez?"
      ]
    },
    {
      "cell_type": "code",
      "metadata": {
        "id": "_dimo2rs16vS",
        "colab_type": "code",
        "colab": {}
      },
      "source": [
        "import pandas as pd"
      ],
      "execution_count": 0,
      "outputs": []
    },
    {
      "cell_type": "code",
      "metadata": {
        "id": "wabU1M8816vU",
        "colab_type": "code",
        "colab": {}
      },
      "source": [
        "with open(\"iliada.txt\") as f:\n",
        "    ili=f.read().replace(',','').replace('.','').replace('\"','').replace('!','').replace('?','').split()"
      ],
      "execution_count": 0,
      "outputs": []
    },
    {
      "cell_type": "code",
      "metadata": {
        "id": "rzY-wtYX16vX",
        "colab_type": "code",
        "colab": {}
      },
      "source": [
        "len_p=[len(p) for p in ili]\n",
        "s_ili=list(set(ili))\n",
        "s_len_p=[len(p) for p in s_ili]"
      ],
      "execution_count": 0,
      "outputs": []
    },
    {
      "cell_type": "code",
      "metadata": {
        "id": "5-neOTVa16vY",
        "colab_type": "code",
        "colab": {}
      },
      "source": [
        "df=pd.DataFrame({'palabras':ili,'num':len_p})"
      ],
      "execution_count": 0,
      "outputs": []
    },
    {
      "cell_type": "code",
      "metadata": {
        "id": "oy_B9R5E16vZ",
        "colab_type": "code",
        "outputId": "93dcc6b9-e5c3-4f14-b769-c0d4745f0ed9",
        "colab": {}
      },
      "source": [
        "df.groupby(by='palabras').count().sort_values('num', ascending=False).head(10)"
      ],
      "execution_count": 0,
      "outputs": [
        {
          "output_type": "execute_result",
          "data": {
            "text/html": [
              "<div>\n",
              "<style scoped>\n",
              "    .dataframe tbody tr th:only-of-type {\n",
              "        vertical-align: middle;\n",
              "    }\n",
              "\n",
              "    .dataframe tbody tr th {\n",
              "        vertical-align: top;\n",
              "    }\n",
              "\n",
              "    .dataframe thead th {\n",
              "        text-align: right;\n",
              "    }\n",
              "</style>\n",
              "<table border=\"1\" class=\"dataframe\">\n",
              "  <thead>\n",
              "    <tr style=\"text-align: right;\">\n",
              "      <th></th>\n",
              "      <th>num</th>\n",
              "    </tr>\n",
              "    <tr>\n",
              "      <th>palabras</th>\n",
              "      <th></th>\n",
              "    </tr>\n",
              "  </thead>\n",
              "  <tbody>\n",
              "    <tr>\n",
              "      <th>the</th>\n",
              "      <td>9747</td>\n",
              "    </tr>\n",
              "    <tr>\n",
              "      <th>and</th>\n",
              "      <td>6567</td>\n",
              "    </tr>\n",
              "    <tr>\n",
              "      <th>of</th>\n",
              "      <td>5726</td>\n",
              "    </tr>\n",
              "    <tr>\n",
              "      <th>to</th>\n",
              "      <td>3388</td>\n",
              "    </tr>\n",
              "    <tr>\n",
              "      <th>he</th>\n",
              "      <td>2530</td>\n",
              "    </tr>\n",
              "    <tr>\n",
              "      <th>his</th>\n",
              "      <td>2491</td>\n",
              "    </tr>\n",
              "    <tr>\n",
              "      <th>in</th>\n",
              "      <td>2248</td>\n",
              "    </tr>\n",
              "    <tr>\n",
              "      <th>a</th>\n",
              "      <td>1837</td>\n",
              "    </tr>\n",
              "    <tr>\n",
              "      <th>him</th>\n",
              "      <td>1787</td>\n",
              "    </tr>\n",
              "    <tr>\n",
              "      <th>you</th>\n",
              "      <td>1716</td>\n",
              "    </tr>\n",
              "  </tbody>\n",
              "</table>\n",
              "</div>"
            ],
            "text/plain": [
              "           num\n",
              "palabras      \n",
              "the       9747\n",
              "and       6567\n",
              "of        5726\n",
              "to        3388\n",
              "he        2530\n",
              "his       2491\n",
              "in        2248\n",
              "a         1837\n",
              "him       1787\n",
              "you       1716"
            ]
          },
          "metadata": {
            "tags": []
          },
          "execution_count": 27
        }
      ]
    },
    {
      "cell_type": "code",
      "metadata": {
        "id": "RJ5cV79f16vc",
        "colab_type": "code",
        "colab": {}
      },
      "source": [
        "df2=pd.DataFrame({'palabras':s_ili,'num':s_len_p})"
      ],
      "execution_count": 0,
      "outputs": []
    },
    {
      "cell_type": "code",
      "metadata": {
        "id": "Uy5gjV-m16ve",
        "colab_type": "code",
        "outputId": "cde2f7e0-964e-4d61-e630-590c642210ce",
        "colab": {}
      },
      "source": [
        "df2.sort_values('num',ascending=False).head(10)"
      ],
      "execution_count": 0,
      "outputs": [
        {
          "output_type": "execute_result",
          "data": {
            "text/html": [
              "<div>\n",
              "<style scoped>\n",
              "    .dataframe tbody tr th:only-of-type {\n",
              "        vertical-align: middle;\n",
              "    }\n",
              "\n",
              "    .dataframe tbody tr th {\n",
              "        vertical-align: top;\n",
              "    }\n",
              "\n",
              "    .dataframe thead th {\n",
              "        text-align: right;\n",
              "    }\n",
              "</style>\n",
              "<table border=\"1\" class=\"dataframe\">\n",
              "  <thead>\n",
              "    <tr style=\"text-align: right;\">\n",
              "      <th></th>\n",
              "      <th>palabras</th>\n",
              "      <th>num</th>\n",
              "    </tr>\n",
              "  </thead>\n",
              "  <tbody>\n",
              "    <tr>\n",
              "      <th>4131</th>\n",
              "      <td>http://wwwgutenbergorg/2/1/9/2199/</td>\n",
              "      <td>34</td>\n",
              "    </tr>\n",
              "    <tr>\n",
              "      <th>9067</th>\n",
              "      <td>http://gutenbergnet/license)</td>\n",
              "      <td>28</td>\n",
              "    </tr>\n",
              "    <tr>\n",
              "      <th>5441</th>\n",
              "      <td>http://pglaforg/fundraising</td>\n",
              "      <td>27</td>\n",
              "    </tr>\n",
              "    <tr>\n",
              "      <th>5599</th>\n",
              "      <td>http://wwwgutenbergnet</td>\n",
              "      <td>22</td>\n",
              "    </tr>\n",
              "    <tr>\n",
              "      <th>4576</th>\n",
              "      <td>http://pglaforg/donate</td>\n",
              "      <td>22</td>\n",
              "    </tr>\n",
              "    <tr>\n",
              "      <th>1822</th>\n",
              "      <td>(trademark/copyright)</td>\n",
              "      <td>21</td>\n",
              "    </tr>\n",
              "    <tr>\n",
              "      <th>8636</th>\n",
              "      <td>brothers-in-law--for</td>\n",
              "      <td>20</td>\n",
              "    </tr>\n",
              "    <tr>\n",
              "      <th>2826</th>\n",
              "      <td>shoulders--Areithous</td>\n",
              "      <td>20</td>\n",
              "    </tr>\n",
              "    <tr>\n",
              "      <th>9960</th>\n",
              "      <td>Achaeans--Talthybius</td>\n",
              "      <td>20</td>\n",
              "    </tr>\n",
              "    <tr>\n",
              "      <th>1403</th>\n",
              "      <td>themselves--Achilles</td>\n",
              "      <td>20</td>\n",
              "    </tr>\n",
              "  </tbody>\n",
              "</table>\n",
              "</div>"
            ],
            "text/plain": [
              "                                palabras  num\n",
              "4131  http://wwwgutenbergorg/2/1/9/2199/   34\n",
              "9067        http://gutenbergnet/license)   28\n",
              "5441         http://pglaforg/fundraising   27\n",
              "5599              http://wwwgutenbergnet   22\n",
              "4576              http://pglaforg/donate   22\n",
              "1822               (trademark/copyright)   21\n",
              "8636                brothers-in-law--for   20\n",
              "2826                shoulders--Areithous   20\n",
              "9960                Achaeans--Talthybius   20\n",
              "1403                themselves--Achilles   20"
            ]
          },
          "metadata": {
            "tags": []
          },
          "execution_count": 33
        }
      ]
    },
    {
      "cell_type": "code",
      "metadata": {
        "id": "6AXN-eSL16vf",
        "colab_type": "code",
        "colab": {}
      },
      "source": [
        "fifa=pd.read_csv('fifa_ranking.csv')"
      ],
      "execution_count": 0,
      "outputs": []
    },
    {
      "cell_type": "code",
      "metadata": {
        "id": "_plPVhZr16vi",
        "colab_type": "code",
        "colab": {}
      },
      "source": [
        "fifa=fifa[['rank','country_abrv','rank_date']]"
      ],
      "execution_count": 0,
      "outputs": []
    },
    {
      "cell_type": "code",
      "metadata": {
        "id": "4l088exC16vk",
        "colab_type": "code",
        "colab": {}
      },
      "source": [
        "fifa['rank_date']=fifa['rank_date'].astype('datetime64')"
      ],
      "execution_count": 0,
      "outputs": []
    },
    {
      "cell_type": "code",
      "metadata": {
        "id": "cw1MSRwE16vm",
        "colab_type": "code",
        "colab": {}
      },
      "source": [
        "fifa['year']=fifa['rank_date'].apply(lambda x: x.year)"
      ],
      "execution_count": 0,
      "outputs": []
    },
    {
      "cell_type": "code",
      "metadata": {
        "id": "F3FzDj9d16vo",
        "colab_type": "code",
        "colab": {}
      },
      "source": [
        "fifa.drop(columns='rank_date',inplace=True)"
      ],
      "execution_count": 0,
      "outputs": []
    },
    {
      "cell_type": "code",
      "metadata": {
        "id": "wHMpD6J616vq",
        "colab_type": "code",
        "colab": {}
      },
      "source": [
        "fp=fifa.groupby(by=['year','country_abrv']).mean()"
      ],
      "execution_count": 0,
      "outputs": []
    },
    {
      "cell_type": "code",
      "metadata": {
        "id": "cWAjmheh16vs",
        "colab_type": "code",
        "outputId": "a8df7287-4f2f-429c-b284-7fd1c867d4c7",
        "colab": {}
      },
      "source": [
        "(fp.loc[1995]-fp.loc[1994]).sort_values(by='rank', ascending=False)"
      ],
      "execution_count": 0,
      "outputs": [
        {
          "output_type": "execute_result",
          "data": {
            "text/html": [
              "<div>\n",
              "<style scoped>\n",
              "    .dataframe tbody tr th:only-of-type {\n",
              "        vertical-align: middle;\n",
              "    }\n",
              "\n",
              "    .dataframe tbody tr th {\n",
              "        vertical-align: top;\n",
              "    }\n",
              "\n",
              "    .dataframe thead th {\n",
              "        text-align: right;\n",
              "    }\n",
              "</style>\n",
              "<table border=\"1\" class=\"dataframe\">\n",
              "  <thead>\n",
              "    <tr style=\"text-align: right;\">\n",
              "      <th></th>\n",
              "      <th>rank</th>\n",
              "    </tr>\n",
              "    <tr>\n",
              "      <th>country_abrv</th>\n",
              "      <th></th>\n",
              "    </tr>\n",
              "  </thead>\n",
              "  <tbody>\n",
              "    <tr>\n",
              "      <th>BER</th>\n",
              "      <td>30.500000</td>\n",
              "    </tr>\n",
              "    <tr>\n",
              "      <th>SYR</th>\n",
              "      <td>28.900000</td>\n",
              "    </tr>\n",
              "    <tr>\n",
              "      <th>JOR</th>\n",
              "      <td>28.300000</td>\n",
              "    </tr>\n",
              "    <tr>\n",
              "      <th>PRK</th>\n",
              "      <td>26.600000</td>\n",
              "    </tr>\n",
              "    <tr>\n",
              "      <th>IRN</th>\n",
              "      <td>25.600000</td>\n",
              "    </tr>\n",
              "    <tr>\n",
              "      <th>IRQ</th>\n",
              "      <td>24.300000</td>\n",
              "    </tr>\n",
              "    <tr>\n",
              "      <th>SIN</th>\n",
              "      <td>24.100000</td>\n",
              "    </tr>\n",
              "    <tr>\n",
              "      <th>SWZ</th>\n",
              "      <td>24.000000</td>\n",
              "    </tr>\n",
              "    <tr>\n",
              "      <th>SLV</th>\n",
              "      <td>22.100000</td>\n",
              "    </tr>\n",
              "    <tr>\n",
              "      <th>IDN</th>\n",
              "      <td>21.100000</td>\n",
              "    </tr>\n",
              "    <tr>\n",
              "      <th>VEN</th>\n",
              "      <td>20.500000</td>\n",
              "    </tr>\n",
              "    <tr>\n",
              "      <th>BDI</th>\n",
              "      <td>19.900000</td>\n",
              "    </tr>\n",
              "    <tr>\n",
              "      <th>FIJ</th>\n",
              "      <td>18.800000</td>\n",
              "    </tr>\n",
              "    <tr>\n",
              "      <th>GUA</th>\n",
              "      <td>18.000000</td>\n",
              "    </tr>\n",
              "    <tr>\n",
              "      <th>PUR</th>\n",
              "      <td>17.900000</td>\n",
              "    </tr>\n",
              "    <tr>\n",
              "      <th>LIB</th>\n",
              "      <td>17.400000</td>\n",
              "    </tr>\n",
              "    <tr>\n",
              "      <th>WAL</th>\n",
              "      <td>17.200000</td>\n",
              "    </tr>\n",
              "    <tr>\n",
              "      <th>CRC</th>\n",
              "      <td>16.900000</td>\n",
              "    </tr>\n",
              "    <tr>\n",
              "      <th>MAS</th>\n",
              "      <td>15.300000</td>\n",
              "    </tr>\n",
              "    <tr>\n",
              "      <th>SUR</th>\n",
              "      <td>15.000000</td>\n",
              "    </tr>\n",
              "    <tr>\n",
              "      <th>THA</th>\n",
              "      <td>14.000000</td>\n",
              "    </tr>\n",
              "    <tr>\n",
              "      <th>ATG</th>\n",
              "      <td>13.600000</td>\n",
              "    </tr>\n",
              "    <tr>\n",
              "      <th>NZL</th>\n",
              "      <td>13.500000</td>\n",
              "    </tr>\n",
              "    <tr>\n",
              "      <th>CTA</th>\n",
              "      <td>13.200000</td>\n",
              "    </tr>\n",
              "    <tr>\n",
              "      <th>YEM</th>\n",
              "      <td>13.200000</td>\n",
              "    </tr>\n",
              "    <tr>\n",
              "      <th>BEN</th>\n",
              "      <td>13.000000</td>\n",
              "    </tr>\n",
              "    <tr>\n",
              "      <th>NEP</th>\n",
              "      <td>12.400000</td>\n",
              "    </tr>\n",
              "    <tr>\n",
              "      <th>NGA</th>\n",
              "      <td>12.100000</td>\n",
              "    </tr>\n",
              "    <tr>\n",
              "      <th>MLT</th>\n",
              "      <td>12.000000</td>\n",
              "    </tr>\n",
              "    <tr>\n",
              "      <th>UZB</th>\n",
              "      <td>12.000000</td>\n",
              "    </tr>\n",
              "    <tr>\n",
              "      <th>...</th>\n",
              "      <td>...</td>\n",
              "    </tr>\n",
              "    <tr>\n",
              "      <th>SVN</th>\n",
              "      <td>-13.200000</td>\n",
              "    </tr>\n",
              "    <tr>\n",
              "      <th>LVA</th>\n",
              "      <td>-14.300000</td>\n",
              "    </tr>\n",
              "    <tr>\n",
              "      <th>TUR</th>\n",
              "      <td>-16.800000</td>\n",
              "    </tr>\n",
              "    <tr>\n",
              "      <th>RSA</th>\n",
              "      <td>-17.800000</td>\n",
              "    </tr>\n",
              "    <tr>\n",
              "      <th>MKD</th>\n",
              "      <td>-18.200000</td>\n",
              "    </tr>\n",
              "    <tr>\n",
              "      <th>ARM</th>\n",
              "      <td>-18.466667</td>\n",
              "    </tr>\n",
              "    <tr>\n",
              "      <th>TRI</th>\n",
              "      <td>-18.600000</td>\n",
              "    </tr>\n",
              "    <tr>\n",
              "      <th>MDA</th>\n",
              "      <td>-20.200000</td>\n",
              "    </tr>\n",
              "    <tr>\n",
              "      <th>CZE</th>\n",
              "      <td>-20.288889</td>\n",
              "    </tr>\n",
              "    <tr>\n",
              "      <th>TAN</th>\n",
              "      <td>-20.500000</td>\n",
              "    </tr>\n",
              "    <tr>\n",
              "      <th>SKN</th>\n",
              "      <td>-22.100000</td>\n",
              "    </tr>\n",
              "    <tr>\n",
              "      <th>VIN</th>\n",
              "      <td>-22.600000</td>\n",
              "    </tr>\n",
              "    <tr>\n",
              "      <th>LTU</th>\n",
              "      <td>-23.800000</td>\n",
              "    </tr>\n",
              "    <tr>\n",
              "      <th>LCA</th>\n",
              "      <td>-24.300000</td>\n",
              "    </tr>\n",
              "    <tr>\n",
              "      <th>UGA</th>\n",
              "      <td>-24.700000</td>\n",
              "    </tr>\n",
              "    <tr>\n",
              "      <th>TOG</th>\n",
              "      <td>-24.800000</td>\n",
              "    </tr>\n",
              "    <tr>\n",
              "      <th>MOZ</th>\n",
              "      <td>-25.400000</td>\n",
              "    </tr>\n",
              "    <tr>\n",
              "      <th>BLR</th>\n",
              "      <td>-27.100000</td>\n",
              "    </tr>\n",
              "    <tr>\n",
              "      <th>SDN</th>\n",
              "      <td>-28.300000</td>\n",
              "    </tr>\n",
              "    <tr>\n",
              "      <th>NAM</th>\n",
              "      <td>-31.300000</td>\n",
              "    </tr>\n",
              "    <tr>\n",
              "      <th>ANG</th>\n",
              "      <td>-32.200000</td>\n",
              "    </tr>\n",
              "    <tr>\n",
              "      <th>GEO</th>\n",
              "      <td>-32.422222</td>\n",
              "    </tr>\n",
              "    <tr>\n",
              "      <th>LBR</th>\n",
              "      <td>-32.600000</td>\n",
              "    </tr>\n",
              "    <tr>\n",
              "      <th>CRO</th>\n",
              "      <td>-36.700000</td>\n",
              "    </tr>\n",
              "    <tr>\n",
              "      <th>MTN</th>\n",
              "      <td>-39.200000</td>\n",
              "    </tr>\n",
              "    <tr>\n",
              "      <th>CUB</th>\n",
              "      <td>-53.266667</td>\n",
              "    </tr>\n",
              "    <tr>\n",
              "      <th>BLZ</th>\n",
              "      <td>NaN</td>\n",
              "    </tr>\n",
              "    <tr>\n",
              "      <th>CAM</th>\n",
              "      <td>NaN</td>\n",
              "    </tr>\n",
              "    <tr>\n",
              "      <th>DMA</th>\n",
              "      <td>NaN</td>\n",
              "    </tr>\n",
              "    <tr>\n",
              "      <th>RWA</th>\n",
              "      <td>NaN</td>\n",
              "    </tr>\n",
              "  </tbody>\n",
              "</table>\n",
              "<p>184 rows × 1 columns</p>\n",
              "</div>"
            ],
            "text/plain": [
              "                   rank\n",
              "country_abrv           \n",
              "BER           30.500000\n",
              "SYR           28.900000\n",
              "JOR           28.300000\n",
              "PRK           26.600000\n",
              "IRN           25.600000\n",
              "IRQ           24.300000\n",
              "SIN           24.100000\n",
              "SWZ           24.000000\n",
              "SLV           22.100000\n",
              "IDN           21.100000\n",
              "VEN           20.500000\n",
              "BDI           19.900000\n",
              "FIJ           18.800000\n",
              "GUA           18.000000\n",
              "PUR           17.900000\n",
              "LIB           17.400000\n",
              "WAL           17.200000\n",
              "CRC           16.900000\n",
              "MAS           15.300000\n",
              "SUR           15.000000\n",
              "THA           14.000000\n",
              "ATG           13.600000\n",
              "NZL           13.500000\n",
              "CTA           13.200000\n",
              "YEM           13.200000\n",
              "BEN           13.000000\n",
              "NEP           12.400000\n",
              "NGA           12.100000\n",
              "MLT           12.000000\n",
              "UZB           12.000000\n",
              "...                 ...\n",
              "SVN          -13.200000\n",
              "LVA          -14.300000\n",
              "TUR          -16.800000\n",
              "RSA          -17.800000\n",
              "MKD          -18.200000\n",
              "ARM          -18.466667\n",
              "TRI          -18.600000\n",
              "MDA          -20.200000\n",
              "CZE          -20.288889\n",
              "TAN          -20.500000\n",
              "SKN          -22.100000\n",
              "VIN          -22.600000\n",
              "LTU          -23.800000\n",
              "LCA          -24.300000\n",
              "UGA          -24.700000\n",
              "TOG          -24.800000\n",
              "MOZ          -25.400000\n",
              "BLR          -27.100000\n",
              "SDN          -28.300000\n",
              "NAM          -31.300000\n",
              "ANG          -32.200000\n",
              "GEO          -32.422222\n",
              "LBR          -32.600000\n",
              "CRO          -36.700000\n",
              "MTN          -39.200000\n",
              "CUB          -53.266667\n",
              "BLZ                 NaN\n",
              "CAM                 NaN\n",
              "DMA                 NaN\n",
              "RWA                 NaN\n",
              "\n",
              "[184 rows x 1 columns]"
            ]
          },
          "metadata": {
            "tags": []
          },
          "execution_count": 64
        }
      ]
    },
    {
      "cell_type": "code",
      "metadata": {
        "id": "GnIfSray16wD",
        "colab_type": "code",
        "colab": {}
      },
      "source": [
        ""
      ],
      "execution_count": 0,
      "outputs": []
    }
  ]
}